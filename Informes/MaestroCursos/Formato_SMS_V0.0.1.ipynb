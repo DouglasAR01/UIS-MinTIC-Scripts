{
 "cells": [
  {
   "cell_type": "code",
   "execution_count": 1,
   "id": "557ab59f",
   "metadata": {},
   "outputs": [],
   "source": [
    "import pandas as pd"
   ]
  },
  {
   "cell_type": "code",
   "execution_count": 2,
   "id": "1fcf1dd5",
   "metadata": {},
   "outputs": [],
   "source": [
    "datos = pd.read_excel('./INPUT/SMS/HORARIOS.xlsx', engine = 'openpyxl')"
   ]
  },
  {
   "cell_type": "code",
   "execution_count": 3,
   "id": "c1f36030",
   "metadata": {},
   "outputs": [],
   "source": [
    "COLUMNA_NOMBRE = 'NOMBRES'\n",
    "COLUMNA_CODIGO = 'CODIGO_UIS'\n",
    "COLUMNA_TELEFONO = 'TELEFONO_SISTEMA_ACADEMICO'\n",
    "# GRUPO 1\n",
    "COLUMNA_C1 = 'GRUPO'\n",
    "COLUMNA_HI1 = 'HORA_INICIAL_'\n",
    "COLUMNA_HF1 = 'HORA_FINAL_'\n",
    "# GRUPO 2\n",
    "COLUMNA_C2 = 'GRUPO2'\n",
    "COLUMNA_HI2 = 'HORA_INICIAL2_'\n",
    "COLUMNA_HF2 = 'HORA_FINAL2_'\n",
    "# GRUPO 3\n",
    "COLUMNA_C3 = 'GRUPO3'\n",
    "COLUMNA_DIA = 'DIA'\n",
    "COLUMNA_HI3 = 'HORA_INICIAL3_'\n",
    "COLUMNA_HF3 = 'HORA_FINAL3_'"
   ]
  },
  {
   "cell_type": "code",
   "execution_count": 4,
   "id": "b8b9704d",
   "metadata": {},
   "outputs": [],
   "source": [
    "MSG = \"\"\"Tripulante {nombre} con código {codigo} \n",
    "Con un saludo especial de la Universidad Industrial de Santander, reiteramos que el inicio del Ciclo 2 se realizará el próximo, lunes 13 de junio de 2022.\n",
    "Tenemos el placer de informarte que tu proceso de formación en Misión TIC 2022 Ruta de Aprendizaje 2 continuará en el CICLO 2: PROGRAMACIÓN BÁSICA EN JAVA\n",
    "Para este gran día, compartimos contigo los horarios asignados: \n",
    "* HORARIOS DE CLASE\n",
    "-> Módulo Programación básica en Java\n",
    "Grupo {codCurso1}\n",
    "Lunes a Viernes de {horaIni1} a {horaFin1}\n",
    "-> Módulo Idioma Inglés II\n",
    "Grupo {codCurso2}\n",
    "Lunes a Viernes de {horaIni2} a {horaFin2}\n",
    "-> Módulo Habilidades Personales II\n",
    "Grupo {codCurso3}\n",
    "{dia} de {horaIni3} a {horaFin3}\n",
    "Para ingresar al aula virtual https://lms.uis.edu.co/mintic2022 debes ingresar con tu código y la contraseña que personalizaste. Recuerda que puedes recordar la contraseña desde la plataforma Moodle, en la opción “¿Ha extraviado la contraseña?” y te llegarán las credenciales a tu correo electrónico registrado.\n",
    "Somos un gran equipo dispuesto desde la UIS para llevarte con éxito a este proceso.\n",
    "\"\"\""
   ]
  },
  {
   "cell_type": "code",
   "execution_count": 5,
   "id": "3d32e3eb",
   "metadata": {},
   "outputs": [],
   "source": [
    "def calcularCostoAprox(longitudMsg):\n",
    "    costo = 19\n",
    "    while (longitudMsg > 0):\n",
    "        longitudMsg -= 153\n",
    "        costo += 1.2\n",
    "    return costo\n",
    "def normalizar(msg):\n",
    "    reemplazos = (\n",
    "        (\"á\", \"a\"),\n",
    "        (\"é\", \"e\"),\n",
    "        (\"í\", \"i\"),\n",
    "        (\"ó\", \"o\"),\n",
    "        (\"ú\", \"u\"),\n",
    "        (\"ñ\", \"n\")\n",
    "    )\n",
    "    for a, b in reemplazos:\n",
    "        msg = msg.replace(a, b).replace(a.upper(), b.upper())\n",
    "    return msg"
   ]
  },
  {
   "cell_type": "code",
   "execution_count": 6,
   "id": "a9f6a935",
   "metadata": {},
   "outputs": [
    {
     "name": "stdout",
     "output_type": "stream",
     "text": [
      "Costo aproximado de envío masivo: 145403.5000000057\n"
     ]
    }
   ],
   "source": [
    "output = []\n",
    "costoTotal = 0\n",
    "for index, row in datos.iterrows():\n",
    "    msg = normalizar(MSG.format(\n",
    "        nombre = row[COLUMNA_NOMBRE],\n",
    "        codigo = row[COLUMNA_CODIGO],\n",
    "        \n",
    "        codCurso1 = row[COLUMNA_C1],\n",
    "        horaIni1 = row[COLUMNA_HI1],\n",
    "        horaFin1 = row[COLUMNA_HF1],\n",
    "        \n",
    "        codCurso2 = row[COLUMNA_C2] if row[COLUMNA_C2] != 'HOM' else 'HOMOLOGADO',\n",
    "        horaIni2 = row[COLUMNA_HI2] if row[COLUMNA_C2] != 'HOM' else '--:--',\n",
    "        horaFin2 = row[COLUMNA_HF2] if row[COLUMNA_C2] != 'HOM' else '--:--',\n",
    "        \n",
    "        codCurso3 = row[COLUMNA_C3],\n",
    "        dia = row[COLUMNA_DIA],\n",
    "        horaIni3 = row[COLUMNA_HI3],\n",
    "        horaFin3 = row[COLUMNA_HF3],\n",
    "    ))\n",
    "    costoTotal += calcularCostoAprox(len(msg))\n",
    "    output.append([\n",
    "        row[COLUMNA_TELEFONO],\n",
    "        msg\n",
    "    ])\n",
    "print ('Costo aproximado de envío masivo:', costoTotal * 1.1)"
   ]
  },
  {
   "cell_type": "code",
   "execution_count": 7,
   "id": "691d764a",
   "metadata": {},
   "outputs": [],
   "source": [
    "pd.DataFrame(output).to_excel('./OUTPUT/FORMATO_SMS_MATRICULAS.xlsx', index = False, header = False)"
   ]
  },
  {
   "cell_type": "code",
   "execution_count": null,
   "id": "905ae7b4",
   "metadata": {},
   "outputs": [],
   "source": []
  }
 ],
 "metadata": {
  "kernelspec": {
   "display_name": "Python 3 (ipykernel)",
   "language": "python",
   "name": "python3"
  },
  "language_info": {
   "codemirror_mode": {
    "name": "ipython",
    "version": 3
   },
   "file_extension": ".py",
   "mimetype": "text/x-python",
   "name": "python",
   "nbconvert_exporter": "python",
   "pygments_lexer": "ipython3",
   "version": "3.9.7"
  }
 },
 "nbformat": 4,
 "nbformat_minor": 5
}
