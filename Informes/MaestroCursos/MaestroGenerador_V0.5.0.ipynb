{
 "cells": [
  {
   "cell_type": "code",
   "execution_count": 1,
   "id": "ccbcfe27",
   "metadata": {},
   "outputs": [],
   "source": [
    "import pandas as pd"
   ]
  },
  {
   "cell_type": "code",
   "execution_count": 9,
   "id": "bd363835",
   "metadata": {},
   "outputs": [],
   "source": [
    "#Configuración\n",
    "RUTA_BASE_INPUT = './INPUT/'\n",
    "NOMBRE_CONSULTA_SA = 'CONSULTA_SQL.csv'\n",
    "NOMBRE_CONSOLIDADO = 'CONSOLIDADO_DATOS_IMPORTANTES.xlsx'\n",
    "RECURRENCIA = 3\n",
    "# Mapa\n",
    "COLUMNAS = {\n",
    "    'LLAVE_MINTIC': 'MINTIC',\n",
    "    'CODIGO_UIS': 'ESTUDIANTE',\n",
    "    'NUMERO_DE_DOCUMENTO': 'DOCUMENTO',\n",
    "    'APELLIDOS': 'NOMBRES',\n",
    "    'NOMBRES': 'APELLIDOS',\n",
    "    'EMAIL': 'EMAIL',\n",
    "    'TELEFONO_MINTIC': 'TELEFONO',\n",
    "    'ASIGNATURA': 'ASIGNATURA 1',\n",
    "    'GRUPO': 'GRUPO 1',\n",
    "    'DOCENTE_PYTHON': 'DOCENTE',\n",
    "    'HORA_INICIAL1': 'HORA INICIAL',\n",
    "    'DURACION1': 'DURACION',\n",
    "    # INGLES\n",
    "    'ASIGNATURA2': 'ASIGNATURA 2',\n",
    "    'GRUPO2': 'GRUPO 2',\n",
    "    'DOCENTE_INGLES': 'DOCENTE.1',\n",
    "    'HORA_INICIAL2': 'HORA INICIAL.1',\n",
    "    'DURACION2': 'DURACION.1',\n",
    "    # COACH\n",
    "    'ASIGNATURA3': 'ASIGNATURA 3',\n",
    "    'GRUPO3': 'GRUPO 3',\n",
    "    'DOCENTE_COACH': 'DOCENTE.2',\n",
    "    'HORA_INICIAL3': 'HORA INICIAL.2',\n",
    "    'DIA': 'DIA',\n",
    "    'DURACION3': 'DURACION.2'\n",
    "}\n",
    "COLUMNAS_ADICIONALES = {\n",
    "    'pssBiblio': 'PSSW_BIBLIO',\n",
    "    'hIniCad1': 'HORA_INICIAL1_',\n",
    "    'hFin1': 'HORA_FINAL1',\n",
    "    'hFinCad1': 'HORA_FINAL1_',\n",
    "    'hIniCad2': 'HORA_INICIAL2_',\n",
    "    'hFin2': 'HORA_FINAL2',\n",
    "    'hFinCad2': 'HORA_FINAL2_',\n",
    "    'hIniCad3': 'HORA_INICIAL3_',\n",
    "    'hFin3': 'HORA_FINAL3',\n",
    "    'hFinCad3': 'HORA_FINAL3_',\n",
    "    'telForm': 'TELEFONO_FORMULARIO',\n",
    "    'telSis': 'TELEFONO_SISTEMA_ACADEMICO',\n",
    "    'nivelA': 'NIVEL_EDUCATIVO'\n",
    "}\n",
    "ORDEN = [\n",
    "    'CODIGO_UIS',\n",
    "    'NUMERO_DE_DOCUMENTO',\n",
    "    'PSSW_BIBLIO',\n",
    "    'NOMBRES',\n",
    "    'APELLIDOS',\n",
    "    'EMAIL',\n",
    "    'NIVEL_EDUCATIVO',\n",
    "    'ASIGNATURA',\n",
    "    'GRUPO',\n",
    "    'HORA_INICIAL1',\n",
    "    'HORA_INICIAL1_',\n",
    "    'HORA_FINAL1',\n",
    "    'HORA_FINAL1_',\n",
    "    'DURACION1',\n",
    "    'ASIGNATURA2',\n",
    "    'GRUPO2',\n",
    "    'HORA_INICIAL2',\n",
    "    'HORA_INICIAL2_',\n",
    "    'HORA_FINAL2',\n",
    "    'HORA_FINAL2_',\n",
    "    'DURACION2',\n",
    "    'ASIGNATURA3',\n",
    "    'GRUPO3',\n",
    "    'DIA',\n",
    "    'HORA_INICIAL3',\n",
    "    'HORA_INICIAL3_',\n",
    "    'HORA_FINAL3',\n",
    "    'HORA_FINAL3_',\n",
    "    'DURACION3',\n",
    "    'LLAVE_MINTIC',\n",
    "    'TELEFONO_MINTIC',\n",
    "    'TELEFONO_FORMULARIO',\n",
    "    'TELEFONO_SISTEMA_ACADEMICO',\n",
    "    'DOCENTE_PYTHON',\n",
    "    'DOCENTE_INGLES',\n",
    "    'DOCENTE_COACH'\n",
    "]\n",
    "DIAS = [\n",
    "    'Lunes',\n",
    "    'Martes',\n",
    "    'Miércoles',\n",
    "    'Jueves',\n",
    "    'Viernes'\n",
    "]\n"
   ]
  },
  {
   "cell_type": "code",
   "execution_count": 4,
   "id": "04f4b82d",
   "metadata": {},
   "outputs": [],
   "source": [
    "# Lectura\n",
    "consulta = pd.read_csv(RUTA_BASE_INPUT + NOMBRE_CONSULTA_SA, sep=';', encoding='latin-1')\n",
    "consolidado = pd.read_excel(RUTA_BASE_INPUT + NOMBRE_CONSOLIDADO, engine='openpyxl')"
   ]
  },
  {
   "cell_type": "code",
   "execution_count": 5,
   "id": "d6fb1ab4",
   "metadata": {},
   "outputs": [],
   "source": [
    "# Funciones\n",
    "def buscarEnDf(df, columnaKey, key, columna):\n",
    "    query = df[df[columnaKey] == key][columna]\n",
    "    if len(query) > 0:        \n",
    "        return query.iloc[0]\n",
    "    return -1\n",
    "def genBibPass(documento):\n",
    "    documento = str(documento)\n",
    "    return documento[len(documento) - 4:]"
   ]
  },
  {
   "cell_type": "code",
   "execution_count": 6,
   "id": "0ce85750",
   "metadata": {},
   "outputs": [],
   "source": [
    "# Procesamiento\n",
    "listas = {}\n",
    "for columna in COLUMNAS_ADICIONALES:\n",
    "    listas[columna] = []\n",
    "consultaE = consulta.copy()\n",
    "for index, row in consultaE.iterrows():\n",
    "    codigoEst = row[COLUMNAS['CODIGO_UIS']]\n",
    "    listas['pssBiblio'].append(genBibPass(row[COLUMNAS['NUMERO_DE_DOCUMENTO']]))\n",
    "    for i in range(1, RECURRENCIA + 1):\n",
    "        indice = str(i)\n",
    "        listas['hIniCad' + indice].append(str(row[COLUMNAS['HORA_INICIAL' + indice]]) + ':00:00')\n",
    "        listas['hFin' + indice].append(str(row[COLUMNAS['HORA_INICIAL' + indice]] + row[COLUMNAS['DURACION' + indice]]))\n",
    "        listas['hFinCad' + indice].append(str(row[COLUMNAS['HORA_INICIAL' + indice]] + row[COLUMNAS['DURACION' + indice]]) + ':00:00')\n",
    "    consultaE.at[index, COLUMNAS['DIA']] = DIAS[row[COLUMNAS['DIA']] - 1]\n",
    "    telForm = buscarEnDf(consolidado, 'CODIGO', codigoEst, 'TELEFONO')\n",
    "    nivelA = buscarEnDf(consolidado, 'CODIGO', codigoEst, 'NIVEL_EDUCATIVO_AGRUPADO')\n",
    "    listas['nivelA'].append(nivelA if nivelA != -1 else 'DESCONOCIDO')\n",
    "    listas['telForm'].append(telForm if telForm != -1 else '')\n",
    "    listas['telSis'].append('dummy')\n",
    "for columnaNueva, lista in listas.items():\n",
    "    consultaE[columnaNueva] = pd.Series(lista)"
   ]
  },
  {
   "cell_type": "code",
   "execution_count": 7,
   "id": "3bfb4f5a",
   "metadata": {},
   "outputs": [],
   "source": [
    "# Renombre\n",
    "columnasAuxiliares = {v: k for k, v in COLUMNAS.items()}\n",
    "columnasRenombradas = {**columnasAuxiliares, **COLUMNAS_ADICIONALES}\n",
    "consultaERen = consultaE.rename(columns = columnasRenombradas)"
   ]
  },
  {
   "cell_type": "code",
   "execution_count": 10,
   "id": "6efd969f",
   "metadata": {},
   "outputs": [],
   "source": [
    "consultaERenOrdenada = consultaERen[ORDEN]"
   ]
  },
  {
   "cell_type": "code",
   "execution_count": 11,
   "id": "3abd134e",
   "metadata": {},
   "outputs": [],
   "source": [
    "from datetime import date\n",
    "consultaERenOrdenada.to_excel('./OUTPUT/HorariosEstudiantes_VX_' + str(date.today()) + '.xlsx', index = False)"
   ]
  },
  {
   "cell_type": "code",
   "execution_count": null,
   "id": "52272b70",
   "metadata": {},
   "outputs": [],
   "source": []
  }
 ],
 "metadata": {
  "kernelspec": {
   "display_name": "Python 3 (ipykernel)",
   "language": "python",
   "name": "python3"
  },
  "language_info": {
   "codemirror_mode": {
    "name": "ipython",
    "version": 3
   },
   "file_extension": ".py",
   "mimetype": "text/x-python",
   "name": "python",
   "nbconvert_exporter": "python",
   "pygments_lexer": "ipython3",
   "version": "3.9.7"
  }
 },
 "nbformat": 4,
 "nbformat_minor": 5
}
