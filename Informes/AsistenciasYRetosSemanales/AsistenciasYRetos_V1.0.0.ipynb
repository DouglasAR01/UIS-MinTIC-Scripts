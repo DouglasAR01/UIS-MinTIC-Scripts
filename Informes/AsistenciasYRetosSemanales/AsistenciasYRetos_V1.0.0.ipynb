{
 "cells": [
  {
   "cell_type": "code",
   "execution_count": 19,
   "id": "c95dffcc",
   "metadata": {},
   "outputs": [],
   "source": [
    "import pandas as pd\n",
    "from datetime import date"
   ]
  },
  {
   "cell_type": "markdown",
   "id": "09e9ca6d",
   "metadata": {},
   "source": [
    "## PARÁMETROS"
   ]
  },
  {
   "cell_type": "code",
   "execution_count": 15,
   "id": "9f726156",
   "metadata": {},
   "outputs": [],
   "source": [
    "N_RETOS = 5\n",
    "COLUMNA_CURSOS = 'GRUPO_PROGRAMACION '\n",
    "NOMBRE_INFORME = 'INFORME_SEMANAL_13_MAY.xlsx'\n",
    "NOMBRE_PAGINA_BD = 'Base de datos (2)'\n",
    "FILAS_ENCABEZADO = 1"
   ]
  },
  {
   "cell_type": "markdown",
   "id": "df5312dc",
   "metadata": {},
   "source": [
    "## LECTURA DE DATOS"
   ]
  },
  {
   "cell_type": "code",
   "execution_count": 3,
   "id": "77064c22",
   "metadata": {},
   "outputs": [
    {
     "name": "stderr",
     "output_type": "stream",
     "text": [
      "C:\\Users\\radou\\AppData\\Roaming\\Python\\Python39\\site-packages\\openpyxl\\worksheet\\_reader.py:312: UserWarning: Data Validation extension is not supported and will be removed\n",
      "  warn(msg)\n"
     ]
    }
   ],
   "source": [
    "# Lectura de datos y quitado de encabezado\n",
    "DATOS = pd.read_excel('./INPUT/' + NOMBRE_INFORME, engine = 'openpyxl', skiprows=FILAS_ENCABEZADO)\n",
    "DATOS_COPIA = DATOS.sort_values(by=['GRUPO_PROGRAMACION '], ignore_index=True)\n",
    "DATOS_COPIA_BD = pd.read_excel('./INPUT/' + NOMBRE_INFORME, engine = 'openpyxl', sheet_name=NOMBRE_PAGINA_BD)"
   ]
  },
  {
   "cell_type": "markdown",
   "id": "2344b93f",
   "metadata": {},
   "source": [
    "## PROCESAMIENTO INFORME GENERAL"
   ]
  },
  {
   "cell_type": "code",
   "execution_count": 15,
   "id": "cea1b532",
   "metadata": {},
   "outputs": [],
   "source": [
    "# Estructura de datos\n",
    "resultado = {\n",
    "    'CURSO': [],\n",
    "    'NOMBRE_DOCENTE': [],\n",
    "    'CORREO_DOCENTE': [],\n",
    "    'TOTAL_ESTUDIANTES': [],\n",
    "    'ASISTENCIA_PROMEDIO': []\n",
    "}\n",
    "for n in range(0, N_RETOS + 1):\n",
    "    resultado['N_EST_RETO_' + str(n)] = []\n",
    "    resultado['N_EST_RETO_%_' + str(n)] = []\n",
    "# Procesamiento\n",
    "cursos = DATOS_COPIA[COLUMNA_CURSOS].unique()\n",
    "for curso in cursos:\n",
    "    resultado['CURSO'].append(curso)\n",
    "    df = DATOS_COPIA[DATOS_COPIA[COLUMNA_CURSOS] == curso]\n",
    "    dfBd = DATOS_COPIA_BD[DATOS_COPIA_BD['GRUPO'] == curso]\n",
    "    totalEst = len(df)\n",
    "    resultado['NOMBRE_DOCENTE'].append(df['Docente_de_Python'].iloc[0])\n",
    "    resultado['CORREO_DOCENTE'].append(dfBd['CORREO_DOCENTE_PYTHON'].iloc[0])\n",
    "    resultado['TOTAL_ESTUDIANTES'].append(totalEst)\n",
    "    resultado['ASISTENCIA_PROMEDIO'].append(df['PORCENTAJE_ASISTENCIA'].mean())\n",
    "    conteosRetos = df['RETOS_FINALIZADOS'].value_counts()\n",
    "    for n in range(0, N_RETOS + 1):\n",
    "        cont = conteosRetos.get(n, 0)\n",
    "        resultado['N_EST_RETO_' + str(n)].append(cont)\n",
    "        resultado['N_EST_RETO_%_' + str(n)].append(cont/totalEst)"
   ]
  },
  {
   "cell_type": "code",
   "execution_count": null,
   "id": "eb0c32a4",
   "metadata": {},
   "outputs": [],
   "source": []
  },
  {
   "cell_type": "code",
   "execution_count": null,
   "id": "1b472969",
   "metadata": {},
   "outputs": [],
   "source": []
  },
  {
   "cell_type": "markdown",
   "id": "1a37b7bd",
   "metadata": {},
   "source": [
    "## GUARDADO"
   ]
  },
  {
   "cell_type": "code",
   "execution_count": 16,
   "id": "dde4c0e5",
   "metadata": {},
   "outputs": [],
   "source": [
    "pd.DataFrame(resultado).to_excel('./OUTPUT/INFORME_ASISTENCIAS_Y_RETOS_' + str(date.today()) + '.xlsx', index = False)"
   ]
  },
  {
   "cell_type": "code",
   "execution_count": null,
   "id": "b92e920e",
   "metadata": {},
   "outputs": [],
   "source": []
  }
 ],
 "metadata": {
  "kernelspec": {
   "display_name": "Python 3 (ipykernel)",
   "language": "python",
   "name": "python3"
  },
  "language_info": {
   "codemirror_mode": {
    "name": "ipython",
    "version": 3
   },
   "file_extension": ".py",
   "mimetype": "text/x-python",
   "name": "python",
   "nbconvert_exporter": "python",
   "pygments_lexer": "ipython3",
   "version": "3.9.7"
  }
 },
 "nbformat": 4,
 "nbformat_minor": 5
}
