{
 "cells": [
  {
   "cell_type": "code",
   "execution_count": 1,
   "id": "c95dffcc",
   "metadata": {},
   "outputs": [],
   "source": [
    "import pandas as pd\n",
    "from datetime import date"
   ]
  },
  {
   "cell_type": "markdown",
   "id": "09e9ca6d",
   "metadata": {},
   "source": [
    "## PARÁMETROS"
   ]
  },
  {
   "cell_type": "code",
   "execution_count": 2,
   "id": "9f726156",
   "metadata": {},
   "outputs": [],
   "source": [
    "N_RETOS = 5\n",
    "TOMAR_RETOS = True #True si se desea que se tengan en cuenta\n",
    "INCLUIR_CANCELADOS = True\n",
    "\n",
    "COLUMNA_CURSOS = 'GRUPO_PROGRAMACION '\n",
    "NOMBRE_INFORME = 'INFORME_SEMANAL_19_JUL.xlsx'\n",
    "NOMBRE_PAGINA_BD = 'BD'\n",
    "FILAS_ENCABEZADO = 1\n",
    "\n",
    "COLUMNA_CANCELADO = 'TRIPULANTE_CANCELA'"
   ]
  },
  {
   "cell_type": "markdown",
   "id": "df5312dc",
   "metadata": {},
   "source": [
    "## LECTURA DE DATOS"
   ]
  },
  {
   "cell_type": "code",
   "execution_count": 3,
   "id": "77064c22",
   "metadata": {},
   "outputs": [
    {
     "name": "stderr",
     "output_type": "stream",
     "text": [
      "C:\\Users\\radou\\AppData\\Roaming\\Python\\Python39\\site-packages\\openpyxl\\worksheet\\_reader.py:312: UserWarning: Data Validation extension is not supported and will be removed\n",
      "  warn(msg)\n"
     ]
    }
   ],
   "source": [
    "# Lectura de datos y quitado de encabezado\n",
    "DATOS = pd.read_excel('./INPUT/' + NOMBRE_INFORME, engine = 'openpyxl', skiprows=FILAS_ENCABEZADO)\n",
    "DATOS_COPIA = DATOS.sort_values(by=[COLUMNA_CURSOS], ignore_index=True)\n",
    "DATOS_COPIA_BD = pd.read_excel('./INPUT/' + NOMBRE_INFORME, engine = 'openpyxl', sheet_name=NOMBRE_PAGINA_BD)"
   ]
  },
  {
   "cell_type": "code",
   "execution_count": 4,
   "id": "488d69de",
   "metadata": {},
   "outputs": [
    {
     "data": {
      "text/plain": [
       "array(['H1', 'H10', 'H11', 'H12', 'H13', 'H14', 'H15', 'H16', 'H17',\n",
       "       'H18', 'H19', 'H2', 'H20', 'H21', 'H22', 'H23', 'H24', 'H25',\n",
       "       'H26', 'H27', 'H28', 'H29', 'H3', 'H30', 'H31', 'H32', 'H33',\n",
       "       'H34', 'H35', 'H36', 'H37', 'H38', 'H39', 'H4', 'H40', 'H41',\n",
       "       'H42', 'H43', 'H44', 'H45', 'H46', 'H47', 'H48', 'H49', 'H5',\n",
       "       'H50', 'H51', 'H52', 'H53', 'H54', 'H55', 'H56', 'H57', 'H58',\n",
       "       'H59', 'H6', 'H60', 'H61', 'H62', 'H63', 'H64', 'H65', 'H66',\n",
       "       'H67', 'H68', 'H69', 'H7', 'H8', 'H9'], dtype=object)"
      ]
     },
     "execution_count": 4,
     "metadata": {},
     "output_type": "execute_result"
    }
   ],
   "source": [
    "DATOS_COPIA[COLUMNA_CURSOS].unique()"
   ]
  },
  {
   "cell_type": "markdown",
   "id": "2344b93f",
   "metadata": {},
   "source": [
    "## PROCESAMIENTO INFORME GENERAL"
   ]
  },
  {
   "cell_type": "code",
   "execution_count": 5,
   "id": "cea1b532",
   "metadata": {},
   "outputs": [],
   "source": [
    "# Estructura de datos\n",
    "resultado = {\n",
    "    'CURSO': [],\n",
    "    'NOMBRE_DOCENTE': [],\n",
    "    'CORREO_DOCENTE': [],\n",
    "    'TOTAL_ESTUDIANTES': [],\n",
    "    'ASISTENCIA_PROMEDIO': [],\n",
    "}\n",
    "if INCLUIR_CANCELADOS:\n",
    "    resultado['ESTUDIANTES_CANCELADOS'] = []\n",
    "if TOMAR_RETOS:\n",
    "    for n in range(0, N_RETOS + 1):\n",
    "        resultado['N_EST_RETO_' + str(n)] = []\n",
    "        resultado['N_EST_RETO_%_' + str(n)] = []\n",
    "# Procesamiento\n",
    "cursos = DATOS_COPIA[COLUMNA_CURSOS].unique()\n",
    "for curso in cursos:\n",
    "    resultado['CURSO'].append(curso)\n",
    "    df = DATOS_COPIA[DATOS_COPIA[COLUMNA_CURSOS] == curso]\n",
    "    df.to_excel('./OUTPUT/LISTAS/' + curso + '.xlsx', index = False)\n",
    "    dfBd = DATOS_COPIA_BD[DATOS_COPIA_BD['GRUPO'] == curso]\n",
    "    totalEst = len(df)\n",
    "    resultado['NOMBRE_DOCENTE'].append(df['Docente_de_Java'].iloc[0])\n",
    "    resultado['CORREO_DOCENTE'].append(dfBd['CORREO_DOCENTE_JAVA'].iloc[0])\n",
    "    resultado['TOTAL_ESTUDIANTES'].append(totalEst)\n",
    "    resultado['ASISTENCIA_PROMEDIO'].append(df['PORCENTAJE_ASISTENCIA'].mean())\n",
    "    \n",
    "    if INCLUIR_CANCELADOS:\n",
    "        resultado['ESTUDIANTES_CANCELADOS'].append(len(df[df[COLUMNA_CANCELADO] == 'SÍ']))\n",
    "    \n",
    "    if TOMAR_RETOS:\n",
    "        conteosRetos = df['RETOS_FINALIZADOS'].value_counts()\n",
    "        for n in range(0, N_RETOS + 1):\n",
    "            cont = conteosRetos.get(n, 0)\n",
    "            resultado['N_EST_RETO_' + str(n)].append(cont)\n",
    "            resultado['N_EST_RETO_%_' + str(n)].append(cont/totalEst)"
   ]
  },
  {
   "cell_type": "markdown",
   "id": "1a37b7bd",
   "metadata": {},
   "source": [
    "## GUARDADO"
   ]
  },
  {
   "cell_type": "code",
   "execution_count": 6,
   "id": "dde4c0e5",
   "metadata": {},
   "outputs": [],
   "source": [
    "pd.DataFrame(resultado).to_excel('./OUTPUT/INFORME_ASISTENCIAS_Y_RETOS_' + str(date.today()) + '.xlsx', index = False)"
   ]
  },
  {
   "cell_type": "code",
   "execution_count": null,
   "id": "207374ef",
   "metadata": {},
   "outputs": [],
   "source": []
  }
 ],
 "metadata": {
  "kernelspec": {
   "display_name": "Python 3 (ipykernel)",
   "language": "python",
   "name": "python3"
  },
  "language_info": {
   "codemirror_mode": {
    "name": "ipython",
    "version": 3
   },
   "file_extension": ".py",
   "mimetype": "text/x-python",
   "name": "python",
   "nbconvert_exporter": "python",
   "pygments_lexer": "ipython3",
   "version": "3.9.7"
  }
 },
 "nbformat": 4,
 "nbformat_minor": 5
}
