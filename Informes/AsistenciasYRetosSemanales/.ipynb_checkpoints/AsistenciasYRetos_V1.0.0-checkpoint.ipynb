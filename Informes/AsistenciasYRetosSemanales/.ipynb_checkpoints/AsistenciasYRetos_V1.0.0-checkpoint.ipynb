{
 "cells": [
  {
   "cell_type": "code",
   "execution_count": 1,
   "id": "a3cf9347",
   "metadata": {},
   "outputs": [],
   "source": [
    "import pandas as pd\n",
    "from datetime import date"
   ]
  },
  {
   "cell_type": "markdown",
   "id": "490634e3",
   "metadata": {},
   "source": [
    "## PARÁMETROS"
   ]
  },
  {
   "cell_type": "code",
   "execution_count": 2,
   "id": "d41c702f",
   "metadata": {},
   "outputs": [],
   "source": [
    "N_RETOS = 5\n",
    "COLUMNA_CURSOS = 'GRUPO_PROGRAMACION '\n",
    "NOMBRE_INFORME = 'INFORME_SEMANAL_25_ABR.xlsx'\n",
    "FILAS_ENCABEZADO = 2"
   ]
  },
  {
   "cell_type": "markdown",
   "id": "c26d0e79",
   "metadata": {},
   "source": [
    "## LECTURA DE DATOS"
   ]
  },
  {
   "cell_type": "code",
   "execution_count": 3,
   "id": "e6d33e8b",
   "metadata": {},
   "outputs": [],
   "source": [
    "# Lectura de datos y quitado de encabezado\n",
    "DATOS = pd.read_excel('./INPUT/' + NOMBRE_INFORME, engine = 'openpyxl', skiprows=FILAS_ENCABEZADO)\n",
    "DATOS_COPIA = DATOS.sort_values(by=['GRUPO_PROGRAMACION '], ignore_index=True)"
   ]
  },
  {
   "cell_type": "markdown",
   "id": "5842a51c",
   "metadata": {},
   "source": [
    "## PROCESAMIENTO"
   ]
  },
  {
   "cell_type": "code",
   "execution_count": 4,
   "id": "bc72cdda",
   "metadata": {},
   "outputs": [],
   "source": [
    "# Estructura de datos\n",
    "resultado = {\n",
    "    'CURSO': [],\n",
    "    'TOTAL_ESTUDIANTES': [],\n",
    "    'ASISTENCIA_PROMEDIO': []\n",
    "}\n",
    "for n in range(0, N_RETOS + 1):\n",
    "    resultado['N_EST_RETO_' + str(n)] = []\n",
    "# Procesamiento\n",
    "cursos = DATOS_COPIA[COLUMNA_CURSOS].unique()\n",
    "for curso in cursos:\n",
    "    resultado['CURSO'].append(curso)\n",
    "    df = DATOS_COPIA[DATOS_COPIA[COLUMNA_CURSOS] == curso]\n",
    "    resultado['TOTAL_ESTUDIANTES'].append(len(df))\n",
    "    resultado['ASISTENCIA_PROMEDIO'].append(df['PORCENTAJE_ASISTENCIA'].mean())\n",
    "    conteosRetos = df['RETOS_FINALIZADOS'].value_counts()\n",
    "    for n in range(0, N_RETOS + 1):\n",
    "        resultado['N_EST_RETO_' + str(n)].append(conteosRetos.get(n, 0))\n",
    "        "
   ]
  },
  {
   "cell_type": "markdown",
   "id": "5b498c17",
   "metadata": {},
   "source": [
    "## GUARDADO"
   ]
  },
  {
   "cell_type": "code",
   "execution_count": 5,
   "id": "b5489885",
   "metadata": {},
   "outputs": [],
   "source": [
    "pd.DataFrame(resultado).to_excel('./OUTPUT/INFORME_ASISTENCIAS_Y_RETOS_' + str(date.today()) + '.xlsx', index = False)"
   ]
  }
 ],
 "metadata": {
  "kernelspec": {
   "display_name": "Python 3 (ipykernel)",
   "language": "python",
   "name": "python3"
  },
  "language_info": {
   "codemirror_mode": {
    "name": "ipython",
    "version": 3
   },
   "file_extension": ".py",
   "mimetype": "text/x-python",
   "name": "python",
   "nbconvert_exporter": "python",
   "pygments_lexer": "ipython3",
   "version": "3.9.7"
  }
 },
 "nbformat": 4,
 "nbformat_minor": 5
}
