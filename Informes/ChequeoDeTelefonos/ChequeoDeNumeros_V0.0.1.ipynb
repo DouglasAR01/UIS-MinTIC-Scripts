{
 "cells": [
  {
   "cell_type": "code",
   "execution_count": 8,
   "id": "ceb9f881",
   "metadata": {},
   "outputs": [],
   "source": [
    "import pandas as pd\n",
    "from numpy import int64"
   ]
  },
  {
   "cell_type": "code",
   "execution_count": 2,
   "id": "c980df12",
   "metadata": {},
   "outputs": [],
   "source": [
    "NOMBRE_BD_MAESTRO = 'HorariosEstudiantes_VX_2022-05-07'\n",
    "bdMaestro = pd.read_excel('./INPUT/' + NOMBRE_BD_MAESTRO + '.xlsx', engine='openpyxl')"
   ]
  },
  {
   "cell_type": "code",
   "execution_count": 3,
   "id": "a4f47603",
   "metadata": {},
   "outputs": [],
   "source": [
    "datos = pd.read_excel('./INPUT/CHECK.xlsx', engine='openpyxl')"
   ]
  },
  {
   "cell_type": "code",
   "execution_count": 4,
   "id": "9aa54581",
   "metadata": {},
   "outputs": [],
   "source": [
    "codigos = []\n",
    "for index, msg in datos['SMS'].iteritems():\n",
    "    codigo = msg.split('\\n')[0].split()[-1]\n",
    "    codigo = codigo.replace('_x000D_', '')\n",
    "    codigos.append(int(codigo))\n",
    "datos['CODIGO_UIS'] = codigos"
   ]
  },
  {
   "cell_type": "code",
   "execution_count": null,
   "id": "8170d0de",
   "metadata": {},
   "outputs": [],
   "source": []
  },
  {
   "cell_type": "code",
   "execution_count": 5,
   "id": "0a8fa7f1",
   "metadata": {},
   "outputs": [],
   "source": [
    "telMintic = []\n",
    "telForm = []\n",
    "telSA = []\n",
    "for codigo in codigos:\n",
    "    df = bdMaestro[bdMaestro['CODIGO_UIS'] == codigo]\n",
    "    df.reset_index(inplace=True)\n",
    "    telMintic.append(df['TELEFONO_MINTIC'].get(0, 'NO HAY REGISTRO'))\n",
    "    telForm.append(df['TELEFONO_FORMULARIO'].get(0, 'NO HAY REGISTRO'))\n",
    "    telSA.append(df['TELEFONO_SISTEMA_ACADEMICO'].get(0, 'NO HAY REGISTRO'))\n",
    "datos['TELEFONO_MINTIC'] = telMintic\n",
    "datos['TELEFONO_FORMULARIO'] = telForm\n",
    "datos['TELEFONO_SISTEMA_ACADEMICO'] = telSA"
   ]
  },
  {
   "cell_type": "code",
   "execution_count": 9,
   "id": "a90cac8a",
   "metadata": {},
   "outputs": [],
   "source": [
    "datos['Numero'] = datos['Numero'].astype(int64, errors='ignore')\n",
    "datos['Numero'] = datos['Numero'].astype(str)"
   ]
  },
  {
   "cell_type": "code",
   "execution_count": 13,
   "id": "6644b05c",
   "metadata": {},
   "outputs": [
    {
     "data": {
      "text/plain": [
       "['CODIGO_UIS',\n",
       " 'Sms_id',\n",
       " 'Lote_id',\n",
       " 'Numero',\n",
       " 'Destino',\n",
       " 'SMS',\n",
       " 'Estado',\n",
       " 'Error',\n",
       " 'SMS tipo Flash',\n",
       " 'SMS Prioritario',\n",
       " 'Codigo corto',\n",
       " 'precio',\n",
       " 'TELEFONO_MINTIC',\n",
       " 'TELEFONO_FORMULARIO',\n",
       " 'TELEFONO_SISTEMA_ACADEMICO']"
      ]
     },
     "execution_count": 13,
     "metadata": {},
     "output_type": "execute_result"
    }
   ],
   "source": [
    "columnasOrdenadas = ['CODIGO_UIS']\n",
    "for columna in datos.columns:\n",
    "    if columna != 'CODIGO_UIS':\n",
    "        columnasOrdenadas.append(columna)"
   ]
  },
  {
   "cell_type": "code",
   "execution_count": 15,
   "id": "ce9488b9",
   "metadata": {},
   "outputs": [],
   "source": [
    "datos[columnasOrdenadas].to_excel('./OUTPUT/CHEQUEO_NUMEROS_CON_CODIGO.xlsx', index = False)"
   ]
  },
  {
   "cell_type": "code",
   "execution_count": null,
   "id": "2e5040eb",
   "metadata": {},
   "outputs": [],
   "source": []
  }
 ],
 "metadata": {
  "kernelspec": {
   "display_name": "Python 3 (ipykernel)",
   "language": "python",
   "name": "python3"
  },
  "language_info": {
   "codemirror_mode": {
    "name": "ipython",
    "version": 3
   },
   "file_extension": ".py",
   "mimetype": "text/x-python",
   "name": "python",
   "nbconvert_exporter": "python",
   "pygments_lexer": "ipython3",
   "version": "3.9.7"
  }
 },
 "nbformat": 4,
 "nbformat_minor": 5
}
