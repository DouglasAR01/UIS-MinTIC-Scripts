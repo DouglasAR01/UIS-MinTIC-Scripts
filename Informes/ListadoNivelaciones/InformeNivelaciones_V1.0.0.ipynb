{
 "cells": [
  {
   "cell_type": "code",
   "execution_count": 1,
   "id": "22e071f1",
   "metadata": {},
   "outputs": [],
   "source": [
    "import pandas as pd\n",
    "from numpy import int64\n",
    "from datetime import date\n",
    "from datetime import datetime"
   ]
  },
  {
   "cell_type": "code",
   "execution_count": 2,
   "id": "9929d9d4",
   "metadata": {},
   "outputs": [],
   "source": [
    "# PARÁMETROS\n",
    "CARPETA_NIVS = 'JAVA' # Se cambia de acuerdo al perfil de informe a generar\n",
    "NOMBRE_COLUMNA_CALIFICACIONES = 'Calificación/5.00'\n",
    "EST_MATRICULADOS = pd.read_excel(f'./INPUT/{CARPETA_NIVS}/EstudiantesMatriculadosNiv.xlsx', engine = 'openpyxl')\n",
    "VERSIONES_NIV = [f'./INPUT/{CARPETA_NIVS}/2022-2-2202-NJ1-Presencial-Examen de nivelación-calificaciones.csv']\n",
    "#VERSIONES_NIV = [f'./INPUT/{CARPETA_NIVS}/2022-2-2202-AJP-Presencial-Examen de nivelación-calificaciones.csv']\n",
    "\n",
    "UMBRAL_APROBACION = 3\n",
    "ARRASTRE = True\n",
    "UMBRAL_ARRASTRE = 3.7\n",
    "\n",
    "COLUMNAS_EVAL = True\n",
    "NUMERO_EVAL = 5\n",
    "NOMBRE_EVAL = 'RETO'\n",
    "\n",
    "GENERAR_ARCHIVOS_CSV = True # Requiere que NUMERO_EVAL esté configurado correctamente\n",
    "ANIO = 2022\n",
    "# PERIODO = [1, 2] # Los periodos deben coincidir 1:1 con el código de la asignatura\n",
    "# CODIGO_ASIGNATURA = [2411, 2511]\n",
    "PERIODO = [2] # Los periodos deben coincidir 1:1 con el código de la asignatura\n",
    "CODIGO_ASIGNATURA = [2511]\n",
    "GRUPO = 'NIV'\n",
    "CSV_DIFERENCIAL = False # Si se requiere que los archivos CSV generados NO compartan datos de cargue de un punto anterior\n",
    "if CSV_DIFERENCIAL:\n",
    "    # Se debe de cargar el formato de nivelación que se usó como punto de control\n",
    "    # Eventualmente se podría convertir en una lista\n",
    "    CHECKPOINT = pd.read_excel(f'./INPUT/{CARPETA_NIVS}/INFORME_NIVELACIÓN_2022-07-19_Hora-11-VERF-21-12PM.xlsx', sheet_name='Estudiantes que aprobaron', engine = 'openpyxl')"
   ]
  },
  {
   "cell_type": "code",
   "execution_count": 3,
   "id": "b98122c9",
   "metadata": {},
   "outputs": [
    {
     "name": "stdout",
     "output_type": "stream",
     "text": [
      "== Arrastre encendido ==\n",
      "Modificado:  2221471.0 3.12\n",
      "Modificado:  2220864.0 3.12\n"
     ]
    },
    {
     "name": "stderr",
     "output_type": "stream",
     "text": [
      "C:\\Users\\radou\\AppData\\Local\\Temp/ipykernel_9696/2118158090.py:12: SettingWithCopyWarning: \n",
      "A value is trying to be set on a copy of a slice from a DataFrame\n",
      "\n",
      "See the caveats in the documentation: https://pandas.pydata.org/pandas-docs/stable/user_guide/indexing.html#returning-a-view-versus-a-copy\n",
      "  CALIFICACIONES[NOMBRE_COLUMNA_CALIFICACIONES].loc[index] = UMBRAL_ARRASTRE\n"
     ]
    },
    {
     "name": "stdout",
     "output_type": "stream",
     "text": [
      "Modificado:  2222451.0 3.12\n",
      "Modificado:  2220076.0 3.12\n",
      "Modificado:  2222185.0 3.12\n",
      "Modificado:  2224049.0 3.12\n",
      "Modificado:  2220787.0 3.12\n",
      "Modificado:  2220753.0 3.12\n",
      "Modificado:  2224564.0 3.12\n",
      "Modificado:  2220528.0 3.12\n",
      "Modificado:  2222540.0 3.12\n",
      "Modificado:  2224504.0 3.12\n",
      "Modificado:  2222168.0 3.12\n",
      "Modificado:  2221589.0 3.12\n",
      "Modificado:  2224418.0 3.12\n",
      "Modificado:  2220763.0 3.12\n",
      "Modificado:  2221692.0 3.12\n"
     ]
    },
    {
     "name": "stderr",
     "output_type": "stream",
     "text": [
      "C:\\Users\\radou\\AppData\\Local\\Temp/ipykernel_9696/2118158090.py:18: SettingWithCopyWarning: \n",
      "A value is trying to be set on a copy of a slice from a DataFrame.\n",
      "Try using .loc[row_indexer,col_indexer] = value instead\n",
      "\n",
      "See the caveats in the documentation: https://pandas.pydata.org/pandas-docs/stable/user_guide/indexing.html#returning-a-view-versus-a-copy\n",
      "  aprobados['Cédula'] = cedulas\n",
      "C:\\Users\\radou\\AppData\\Local\\Temp/ipykernel_9696/2118158090.py:24: SettingWithCopyWarning: \n",
      "A value is trying to be set on a copy of a slice from a DataFrame.\n",
      "Try using .loc[row_indexer,col_indexer] = value instead\n",
      "\n",
      "See the caveats in the documentation: https://pandas.pydata.org/pandas-docs/stable/user_guide/indexing.html#returning-a-view-versus-a-copy\n",
      "  aprobados[nombreCol] = aprobados[NOMBRE_COLUMNA_CALIFICACIONES]\n",
      "C:\\Users\\radou\\AppData\\Local\\Temp/ipykernel_9696/2118158090.py:24: SettingWithCopyWarning: \n",
      "A value is trying to be set on a copy of a slice from a DataFrame.\n",
      "Try using .loc[row_indexer,col_indexer] = value instead\n",
      "\n",
      "See the caveats in the documentation: https://pandas.pydata.org/pandas-docs/stable/user_guide/indexing.html#returning-a-view-versus-a-copy\n",
      "  aprobados[nombreCol] = aprobados[NOMBRE_COLUMNA_CALIFICACIONES]\n",
      "C:\\Users\\radou\\AppData\\Local\\Temp/ipykernel_9696/2118158090.py:24: SettingWithCopyWarning: \n",
      "A value is trying to be set on a copy of a slice from a DataFrame.\n",
      "Try using .loc[row_indexer,col_indexer] = value instead\n",
      "\n",
      "See the caveats in the documentation: https://pandas.pydata.org/pandas-docs/stable/user_guide/indexing.html#returning-a-view-versus-a-copy\n",
      "  aprobados[nombreCol] = aprobados[NOMBRE_COLUMNA_CALIFICACIONES]\n",
      "C:\\Users\\radou\\AppData\\Local\\Temp/ipykernel_9696/2118158090.py:24: SettingWithCopyWarning: \n",
      "A value is trying to be set on a copy of a slice from a DataFrame.\n",
      "Try using .loc[row_indexer,col_indexer] = value instead\n",
      "\n",
      "See the caveats in the documentation: https://pandas.pydata.org/pandas-docs/stable/user_guide/indexing.html#returning-a-view-versus-a-copy\n",
      "  aprobados[nombreCol] = aprobados[NOMBRE_COLUMNA_CALIFICACIONES]\n",
      "C:\\Users\\radou\\AppData\\Local\\Temp/ipykernel_9696/2118158090.py:24: SettingWithCopyWarning: \n",
      "A value is trying to be set on a copy of a slice from a DataFrame.\n",
      "Try using .loc[row_indexer,col_indexer] = value instead\n",
      "\n",
      "See the caveats in the documentation: https://pandas.pydata.org/pandas-docs/stable/user_guide/indexing.html#returning-a-view-versus-a-copy\n",
      "  aprobados[nombreCol] = aprobados[NOMBRE_COLUMNA_CALIFICACIONES]\n"
     ]
    }
   ],
   "source": [
    "# PROCESAMIENTO\n",
    "CALIFICACIONES = []\n",
    "for cal in VERSIONES_NIV:\n",
    "    CALIFICACIONES.append(pd.read_csv(cal, sep = ',')[:-1])\n",
    "CALIFICACIONES = pd.concat(CALIFICACIONES, ignore_index = True) if len(CALIFICACIONES) > 1 else CALIFICACIONES[0]\n",
    "\n",
    "if ARRASTRE:\n",
    "    print (\"== Arrastre encendido ==\")\n",
    "    for index, row in CALIFICACIONES.iterrows():\n",
    "        if UMBRAL_APROBACION <= row[NOMBRE_COLUMNA_CALIFICACIONES] < UMBRAL_ARRASTRE:\n",
    "            print (\"Modificado: \", row['Nombre de usuario'], row[NOMBRE_COLUMNA_CALIFICACIONES])\n",
    "            CALIFICACIONES[NOMBRE_COLUMNA_CALIFICACIONES].loc[index] = UMBRAL_ARRASTRE\n",
    "            \n",
    "aprobados = CALIFICACIONES[CALIFICACIONES[NOMBRE_COLUMNA_CALIFICACIONES] >= UMBRAL_APROBACION]\n",
    "cedulas = []\n",
    "for index, row in aprobados.iterrows():\n",
    "    cedulas.append(EST_MATRICULADOS[EST_MATRICULADOS['Nombre de usuario'] == row['Nombre de usuario']]['Cédula'].iloc[0])\n",
    "aprobados['Cédula'] = cedulas\n",
    "\n",
    "if COLUMNAS_EVAL:\n",
    "    nombresCols = []\n",
    "    for i in range(NUMERO_EVAL):\n",
    "        nombreCol = NOMBRE_EVAL + '_' + str(i+1)\n",
    "        aprobados[nombreCol] = aprobados[NOMBRE_COLUMNA_CALIFICACIONES]\n",
    "        nombresCols.append(nombreCol)"
   ]
  },
  {
   "cell_type": "code",
   "execution_count": 4,
   "id": "92338047",
   "metadata": {},
   "outputs": [],
   "source": [
    "porNivelar = pd.merge(EST_MATRICULADOS, aprobados, on=['Nombre de usuario'], how=\"outer\", indicator=True\n",
    "              ).query('_merge==\"left_only\"')\n",
    "porNivelar = porNivelar[['Nombre_x', 'Apellido(s)_x', 'Nombre de usuario','Cédula_x','Número de ID_x']]"
   ]
  },
  {
   "cell_type": "code",
   "execution_count": 5,
   "id": "27d54ce8",
   "metadata": {},
   "outputs": [],
   "source": [
    "porNivelar.rename(columns = {\n",
    "    'Nombre_x' : 'Nombres',\n",
    "    'Apellido(s)_x' : 'Apellidos',\n",
    "    'Nombre de usuario' : 'Código UIS',\n",
    "    'Cédula_x' : 'Cédula',\n",
    "    'Número de ID_x' : 'ID Moodle'\n",
    "}, inplace = True)"
   ]
  },
  {
   "cell_type": "code",
   "execution_count": 6,
   "id": "60d2f79d",
   "metadata": {},
   "outputs": [],
   "source": [
    "columnasBuenas = ['Nombre', 'Apellido(s)', 'Nombre de usuario', 'Cédula', 'Número de ID', 'Comenzado el', 'Finalizado', 'Tiempo requerido']\n",
    "if COLUMNAS_EVAL:\n",
    "    for col in nombresCols:\n",
    "        columnasBuenas.append(col)\n",
    "    columnasBuenas += [NOMBRE_COLUMNA_CALIFICACIONES]\n",
    "\n",
    "aprobados = aprobados[columnasBuenas]\n",
    "aprobados.rename(columns = {\n",
    "    'Nombre' : 'Nombres',\n",
    "    'Apellido(s)': 'Apellidos',\n",
    "    'Nombre de usuario' : 'Código UIS',\n",
    "    'Número de ID': 'ID Moodle',\n",
    "}, inplace = True)\n",
    "aprobados['Código UIS'] = aprobados['Código UIS'].astype(int64, errors='ignore')"
   ]
  },
  {
   "cell_type": "code",
   "execution_count": 7,
   "id": "23589da1",
   "metadata": {},
   "outputs": [],
   "source": [
    "nombreArchivo = f'INFORME_NIVELACIÓN_{CARPETA_NIVS}_' + str(date.today()) + '_Hora-' + str(datetime.now().hour) + '.xlsx'\n",
    "writer = pd.ExcelWriter('./OUTPUT/' + nombreArchivo, engine='openpyxl')\n",
    "porNivelar.to_excel(writer, sheet_name = 'Estudiantes pendientes nivelar', index = False)    \n",
    "aprobados.to_excel(writer, sheet_name = 'Estudiantes que aprobaron', index = False)  \n",
    "writer.close()"
   ]
  },
  {
   "cell_type": "code",
   "execution_count": 8,
   "id": "ab0f8872",
   "metadata": {},
   "outputs": [],
   "source": [
    "if GENERAR_ARCHIVOS_CSV:\n",
    "    conjuntoCSV = aprobados.copy()\n",
    "    if CSV_DIFERENCIAL:\n",
    "        conjuntoCSV = conjuntoCSV.merge(CHECKPOINT, on='Código UIS', how='left', indicator = True, suffixes=('', '_y')).query('_merge == \"left_only\"').drop('_merge', 1)\n",
    "        conjuntoCSV.drop(conjuntoCSV.filter(regex='_y$').columns, axis=1, inplace = True)\n",
    "    for j in range(len(CODIGO_ASIGNATURA)):        \n",
    "        csvParcial = {\n",
    "            'CODIGO ESTUDIANTE': [],\n",
    "            'AÑO': [],\n",
    "            'PERIODO': [],\n",
    "            'CODIGO ASIGNATURA': [],\n",
    "            'NUMERO PARCIAL': [],\n",
    "            'GRUPO': [],\n",
    "            'NOTA': []\n",
    "        }\n",
    "        csvDef = {\n",
    "            'CODIGO ESTUDIANTE': [],\n",
    "            'AÑO': [],\n",
    "            'PERIODO': [],\n",
    "            'CODIGO ASIGNATURA': [],\n",
    "            'GRUPO': [],\n",
    "            'NOTA DEFINITIVA': []\n",
    "        }\n",
    "        periodo = PERIODO[j]\n",
    "        codigoAsig = CODIGO_ASIGNATURA[j]\n",
    "        for index, row in conjuntoCSV.iterrows():\n",
    "            csvDef['CODIGO ESTUDIANTE'].append(row['Código UIS'])\n",
    "            csvDef['AÑO'].append(ANIO)\n",
    "            csvDef['PERIODO'].append(periodo)\n",
    "            csvDef['CODIGO ASIGNATURA'].append(codigoAsig)\n",
    "            csvDef['GRUPO'].append(GRUPO)\n",
    "            csvDef['NOTA DEFINITIVA'].append(row[NOMBRE_COLUMNA_CALIFICACIONES])\n",
    "            for i in range (1, NUMERO_EVAL + 1):\n",
    "                csvParcial['CODIGO ESTUDIANTE'].append(row['Código UIS'])\n",
    "                csvParcial['AÑO'].append(ANIO)\n",
    "                csvParcial['PERIODO'].append(periodo)\n",
    "                csvParcial['CODIGO ASIGNATURA'].append(codigoAsig)\n",
    "                csvParcial['NUMERO PARCIAL'].append(i)\n",
    "                csvParcial['GRUPO'].append(GRUPO)\n",
    "                csvParcial['NOTA'].append(row[NOMBRE_COLUMNA_CALIFICACIONES])\n",
    "        pd.DataFrame(csvDef).to_csv(f'./OUTPUT/CSVS/CAMBIO_NOTAS_DEFINITIVAS_{CARPETA_NIVS}_{codigoAsig}_' + str(date.today()) + '.csv', sep=';', encoding = 'utf-8', index=False)\n",
    "        pd.DataFrame(csvParcial).to_csv(f'./OUTPUT/CSVS/CAMBIO_NOTAS_PARCIALES_{CARPETA_NIVS}_{codigoAsig}_' + str(date.today()) + '.csv', sep=';', encoding = 'utf-8', index=False)"
   ]
  }
 ],
 "metadata": {
  "kernelspec": {
   "display_name": "Python 3 (ipykernel)",
   "language": "python",
   "name": "python3"
  },
  "language_info": {
   "codemirror_mode": {
    "name": "ipython",
    "version": 3
   },
   "file_extension": ".py",
   "mimetype": "text/x-python",
   "name": "python",
   "nbconvert_exporter": "python",
   "pygments_lexer": "ipython3",
   "version": "3.9.7"
  }
 },
 "nbformat": 4,
 "nbformat_minor": 5
}
