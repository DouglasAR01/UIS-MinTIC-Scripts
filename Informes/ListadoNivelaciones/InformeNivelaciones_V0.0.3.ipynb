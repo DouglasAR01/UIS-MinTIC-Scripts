{
 "cells": [
  {
   "cell_type": "code",
   "execution_count": 1,
   "id": "22e071f1",
   "metadata": {},
   "outputs": [],
   "source": [
    "import pandas as pd\n",
    "from numpy import int64\n",
    "from datetime import date\n",
    "from datetime import datetime"
   ]
  },
  {
   "cell_type": "code",
   "execution_count": 2,
   "id": "58a18ef4",
   "metadata": {},
   "outputs": [],
   "source": [
    "EST_MATRICULADOS = pd.read_excel('./INPUT/EstudiantesMatriculadosNiv.xlsx', engine = 'openpyxl')\n",
    "VERSIONES_NIV = ['./INPUT/2022-1-2499-NP1-Presencial-Examen de nivelación_-calificaciones.csv', './INPUT/2022-1-2499-NP1-Presencial-Examen de nivelación-calificaciones.csv']"
   ]
  },
  {
   "cell_type": "code",
   "execution_count": 3,
   "id": "b98122c9",
   "metadata": {},
   "outputs": [],
   "source": [
    "CALIFICACIONES = []\n",
    "for cal in VERSIONES_NIV:\n",
    "    CALIFICACIONES.append(pd.read_csv(cal, sep = ',')[:-1])\n",
    "CALIFICACIONES = pd.concat(CALIFICACIONES, ignore_index = True)"
   ]
  },
  {
   "cell_type": "code",
   "execution_count": 4,
   "id": "fbbbe35b",
   "metadata": {},
   "outputs": [],
   "source": [
    "aprobados = CALIFICACIONES[CALIFICACIONES['Calificación/5.00'] >= 3]"
   ]
  },
  {
   "cell_type": "code",
   "execution_count": 5,
   "id": "fb89f7ca",
   "metadata": {},
   "outputs": [
    {
     "name": "stderr",
     "output_type": "stream",
     "text": [
      "C:\\Users\\radou\\AppData\\Local\\Temp/ipykernel_11016/423137488.py:4: SettingWithCopyWarning: \n",
      "A value is trying to be set on a copy of a slice from a DataFrame.\n",
      "Try using .loc[row_indexer,col_indexer] = value instead\n",
      "\n",
      "See the caveats in the documentation: https://pandas.pydata.org/pandas-docs/stable/user_guide/indexing.html#returning-a-view-versus-a-copy\n",
      "  aprobados['Cédula'] = cedulas\n"
     ]
    }
   ],
   "source": [
    "cedulas = []\n",
    "for index, row in aprobados.iterrows():\n",
    "    cedulas.append(EST_MATRICULADOS[EST_MATRICULADOS['Nombre de usuario'] == row['Nombre de usuario']]['Cédula'].iloc[0])\n",
    "aprobados['Cédula'] = cedulas"
   ]
  },
  {
   "cell_type": "code",
   "execution_count": 6,
   "id": "92338047",
   "metadata": {},
   "outputs": [],
   "source": [
    "porNivelar = pd.merge(EST_MATRICULADOS, aprobados, on=['Nombre de usuario'], how=\"outer\", indicator=True\n",
    "              ).query('_merge==\"left_only\"')\n",
    "porNivelar = porNivelar[['Nombre_x', 'Apellido(s)_x', 'Nombre de usuario','Cédula_x','Número de ID_x']]"
   ]
  },
  {
   "cell_type": "code",
   "execution_count": 7,
   "id": "27d54ce8",
   "metadata": {},
   "outputs": [],
   "source": [
    "porNivelar.rename(columns = {\n",
    "    'Nombre_x' : 'Nombres',\n",
    "    'Apellido(s)_x' : 'Apellidos',\n",
    "    'Nombre de usuario' : 'Código UIS',\n",
    "    'Cédula_x' : 'Cédula',\n",
    "    'Número de ID_x' : 'ID Moodle'\n",
    "}, inplace = True)"
   ]
  },
  {
   "cell_type": "code",
   "execution_count": 8,
   "id": "60d2f79d",
   "metadata": {},
   "outputs": [],
   "source": [
    "aprobados = aprobados[['Nombre', 'Apellido(s)', 'Nombre de usuario', 'Cédula', 'Número de ID', 'Comenzado el', 'Finalizado', 'Tiempo requerido', 'Calificación/5.00']]\n",
    "aprobados.rename(columns = {\n",
    "    'Nombre' : 'Nombres',\n",
    "    'Apellido(s)': 'Apellidos',\n",
    "    'Nombre de usuario' : 'Código UIS',\n",
    "    'Número de ID': 'ID Moodle',\n",
    "}, inplace = True)\n",
    "aprobados['Código UIS'] = aprobados['Código UIS'].astype(int64, errors='ignore')"
   ]
  },
  {
   "cell_type": "code",
   "execution_count": 9,
   "id": "23589da1",
   "metadata": {},
   "outputs": [],
   "source": [
    "nombreArchivo = 'INFORME_NIVELACIÓN_' + str(date.today()) + '_Hora-' + str(datetime.now().hour) + '.xlsx'\n",
    "writer = pd.ExcelWriter('./OUTPUT/' + nombreArchivo, engine='openpyxl')\n",
    "porNivelar.to_excel(writer, sheet_name = 'Estudiantes pendientes nivelar', index = False)    \n",
    "aprobados.to_excel(writer, sheet_name = 'Estudiantes que aprobaron', index = False)  \n",
    "writer.close()"
   ]
  }
 ],
 "metadata": {
  "kernelspec": {
   "display_name": "Python 3 (ipykernel)",
   "language": "python",
   "name": "python3"
  },
  "language_info": {
   "codemirror_mode": {
    "name": "ipython",
    "version": 3
   },
   "file_extension": ".py",
   "mimetype": "text/x-python",
   "name": "python",
   "nbconvert_exporter": "python",
   "pygments_lexer": "ipython3",
   "version": "3.9.7"
  }
 },
 "nbformat": 4,
 "nbformat_minor": 5
}
