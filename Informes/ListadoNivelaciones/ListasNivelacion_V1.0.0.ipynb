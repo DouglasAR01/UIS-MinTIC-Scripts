{
 "cells": [
  {
   "cell_type": "code",
   "execution_count": 1,
   "id": "060699d7",
   "metadata": {},
   "outputs": [],
   "source": [
    "import pandas as pd"
   ]
  },
  {
   "cell_type": "code",
   "execution_count": 2,
   "id": "42b4d8ee",
   "metadata": {},
   "outputs": [],
   "source": [
    "BD = pd.read_excel('./INPUT/HorariosEstudiantes_C2_2022-06-24.xlsx', engine='openpyxl')\n",
    "NIVELAR = pd.read_excel('./INPUT/INFORME NIVELACIÓN VIERNES 24-06-22_10AM.xlsx', engine='openpyxl')\n",
    "RUTA_1DRV = 'F:/_Misión TIC 2022/OneDrive - Universidad Industrial de Santander/Documentos/Monitoría/MONITORÍA PERIODOS ACADÉMICOS/TUTORES/PERIODO 2/{tutor}/LISTAS DE CLASE/'"
   ]
  },
  {
   "cell_type": "code",
   "execution_count": 3,
   "id": "0cf9798d",
   "metadata": {},
   "outputs": [],
   "source": [
    "codsNivelar = NIVELAR['Código UIS'].unique()\n",
    "lst = []\n",
    "for index, row in BD.iterrows():\n",
    "    codEst = row['CODIGO_UIS']\n",
    "    if not (codEst in codsNivelar):\n",
    "        continue\n",
    "    lst.append(row)\n",
    "datos = pd.DataFrame(lst, columns = list(BD.columns)).sort_values(by='GRUPO', ignore_index = True)"
   ]
  },
  {
   "cell_type": "code",
   "execution_count": 5,
   "id": "c4c97c4a",
   "metadata": {},
   "outputs": [],
   "source": [
    "for i in range(1, 70):\n",
    "    codGrupo = 'H' + str(i)\n",
    "    datosGrupo = datos[datos['GRUPO'] == codGrupo]\n",
    "    if len(datosGrupo) == 0:\n",
    "        continue\n",
    "    nomArchivo = codGrupo + '_NIVELAR.xlsx'\n",
    "    tutor = datosGrupo['NOMBRE_TUTOR'].iloc[0]\n",
    "    rutaT = RUTA_1DRV.format(tutor = tutor)\n",
    "    datosGrupo.to_excel('./OUTPUT/' + nomArchivo, index = False)\n",
    "    datosGrupo.to_excel(rutaT + nomArchivo, index = False)"
   ]
  }
 ],
 "metadata": {
  "kernelspec": {
   "display_name": "Python 3 (ipykernel)",
   "language": "python",
   "name": "python3"
  },
  "language_info": {
   "codemirror_mode": {
    "name": "ipython",
    "version": 3
   },
   "file_extension": ".py",
   "mimetype": "text/x-python",
   "name": "python",
   "nbconvert_exporter": "python",
   "pygments_lexer": "ipython3",
   "version": "3.9.7"
  }
 },
 "nbformat": 4,
 "nbformat_minor": 5
}
