{
 "cells": [
  {
   "cell_type": "code",
   "execution_count": 1,
   "id": "bf1d9f64",
   "metadata": {},
   "outputs": [],
   "source": [
    "import pandas as pd\n",
    "from datetime import date"
   ]
  },
  {
   "cell_type": "code",
   "execution_count": 2,
   "id": "22eb2c0b",
   "metadata": {},
   "outputs": [],
   "source": [
    "N_CICLOS = 3\n",
    "BIN_INI = 0b1\n",
    "# Las definitivas deben de ir en el orden de los ciclos. Es decir, primero debe de ir el del ciclo 1, luego 2...\n",
    "# El formato es el generado por el script de generación de notas definitivas del ciclo\n",
    "REINGRESADOS = [\n",
    "    2222985,\n",
    "    2220048,\n",
    "    2220040\n",
    "]\n",
    "DEFINITIVAS = [\n",
    "    'DEFINITIVAS_CICLO_1_2022-09-26.xlsx',\n",
    "    'DEFINITIVAS_CICLO_2_2022-09-26.xlsx',\n",
    "    'DEFINITIVAS_CICLO_3_2022-09-29.xlsx'\n",
    "]\n",
    "CANCELADOS = pd.read_excel('./INPUT/DEFINITIVAS/ESTUDIANTES A MATRICULAR CICLO 4.xlsx', engine = 'openpyxl', sheet_name='DESERTORES REPORTADOS')['CODIGO_UIS'].unique()"
   ]
  },
  {
   "cell_type": "code",
   "execution_count": 3,
   "id": "1fa3d266",
   "metadata": {},
   "outputs": [],
   "source": [
    "def bin2strFix(n):\n",
    "    bStr = bin(n)\n",
    "    bStr = bStr[2:]\n",
    "    lenStr = len(bStr)\n",
    "    if lenStr < N_CICLOS:\n",
    "        diff = N_CICLOS - lenStr\n",
    "        for _ in range(diff):\n",
    "            bStr = '0' + bStr\n",
    "    return bStr\n",
    "def strBin2Bool(strBin):\n",
    "    rta = []\n",
    "    for c in strBin:\n",
    "        if c == '1':\n",
    "            rta.append(True)\n",
    "        else:\n",
    "            rta.append(False)\n",
    "    return rta\n",
    "def strBin2Nombre(strBin):\n",
    "    i = 1\n",
    "    rta = ''\n",
    "    for c in strBin:\n",
    "        if c == '1':\n",
    "            rta += 'Ciclo' + str(i) + '_'\n",
    "        i += 1\n",
    "    return rta"
   ]
  },
  {
   "cell_type": "code",
   "execution_count": 4,
   "id": "2223e206",
   "metadata": {},
   "outputs": [],
   "source": [
    "est = {\n",
    "    'CÓDIGO': [],\n",
    "    'NOMBRE': [],\n",
    "    'APELLIDO': []\n",
    "}\n",
    "datos = []\n",
    "for i in range (1, N_CICLOS + 1):\n",
    "    est['NIV_CICLO_' + str(i)] = []\n",
    "    datos.append(pd.read_excel('./INPUT/DEFINITIVAS/' + DEFINITIVAS[i - 1], engine='openpyxl'))"
   ]
  },
  {
   "cell_type": "code",
   "execution_count": 5,
   "id": "11eda6b7",
   "metadata": {},
   "outputs": [],
   "source": [
    "# Itera sobre el último dataframe\n",
    "nAnteriores = len(DEFINITIVAS) - 2\n",
    "for index, row in datos[-1].iterrows():\n",
    "    if row['CÓDIGO'] in CANCELADOS and not (row['CÓDIGO'] in REINGRESADOS):\n",
    "        continue\n",
    "    est['CÓDIGO'].append(row['CÓDIGO'])\n",
    "    est['NOMBRE'].append(row['NOMBRE'])\n",
    "    est['APELLIDO'].append(row['APELLIDO'])\n",
    "    est['NIV_CICLO_' + str(nAnteriores + 2)].append(row['REPROBÓ_SA'])\n",
    "    for i in range(nAnteriores + 1):\n",
    "        df = datos[i]\n",
    "        df = df[df['CÓDIGO'] == row['CÓDIGO']]\n",
    "        est['NIV_CICLO_' + str(i + 1)].append(df['REPROBÓ_SA'].iloc[0])"
   ]
  },
  {
   "cell_type": "code",
   "execution_count": 6,
   "id": "f0f7b6dc",
   "metadata": {},
   "outputs": [],
   "source": [
    "CONSOLIDADO = pd.DataFrame(est)\n",
    "binI = BIN_INI\n",
    "rtas = dict()\n",
    "for _ in range(2**N_CICLOS - 1):\n",
    "    strBin = bin2strFix(binI)\n",
    "    combinacion = strBin2Bool(strBin)    \n",
    "    dfRes = CONSOLIDADO\n",
    "    for i in range(N_CICLOS):\n",
    "        dfRes = dfRes[dfRes['NIV_CICLO_' + str(i + 1)] == combinacion[i]]\n",
    "    if len(dfRes) > 0:\n",
    "        rtas[strBin2Nombre(strBin)] = dfRes[['CÓDIGO', 'NOMBRE', 'APELLIDO']]\n",
    "    binI += 1"
   ]
  },
  {
   "cell_type": "code",
   "execution_count": 7,
   "id": "b2e3118a",
   "metadata": {},
   "outputs": [],
   "source": [
    "writer = pd.ExcelWriter('./OUTPUT/MATRICULAS_NIV/MatriculasCursosNivelaciones_' + str(date.today()) + '.xlsx', engine='openpyxl')\n",
    "temp = []\n",
    "for item, value in rtas.items():\n",
    "    temp.append(value)\n",
    "    value.to_excel(writer, sheet_name = item, index = False) \n",
    "pd.concat(temp).to_excel(writer, sheet_name = 'CONSOLIDADO', index = False)\n",
    "writer.close()\n",
    "writer.handles = None\n",
    "CONSOLIDADO.to_excel('./OUTPUT/MATRICULAS_NIV/NivelacionBinario_'+ str(date.today()) +'.xlsx', index = False)"
   ]
  }
 ],
 "metadata": {
  "kernelspec": {
   "display_name": "Python 3 (ipykernel)",
   "language": "python",
   "name": "python3"
  },
  "language_info": {
   "codemirror_mode": {
    "name": "ipython",
    "version": 3
   },
   "file_extension": ".py",
   "mimetype": "text/x-python",
   "name": "python",
   "nbconvert_exporter": "python",
   "pygments_lexer": "ipython3",
   "version": "3.9.7"
  }
 },
 "nbformat": 4,
 "nbformat_minor": 5
}
