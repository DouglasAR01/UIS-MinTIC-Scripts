{
 "cells": [
  {
   "cell_type": "code",
   "execution_count": 1,
   "id": "8c56e38e",
   "metadata": {},
   "outputs": [],
   "source": [
    "import pandas as pd\n",
    "import glob\n",
    "from datetime import date"
   ]
  },
  {
   "cell_type": "code",
   "execution_count": 2,
   "id": "4b3108ab",
   "metadata": {},
   "outputs": [],
   "source": [
    "PERIODOS = [\n",
    "    (1, 'INGLES I', 2412),\n",
    "    (2, 'INGLES II', 2512),\n",
    "    (3, 'INGLES III', 2612),\n",
    "    (4, 'INGLES IV', 2712),\n",
    "]\n",
    "N_PARCIALES = 4\n",
    "NOTA_REVISAR = 5\n",
    "GRUPO_REVISAR = 'HOM'"
   ]
  },
  {
   "cell_type": "code",
   "execution_count": 3,
   "id": "89234220",
   "metadata": {},
   "outputs": [],
   "source": [
    "# LECTURA DE NOTAS PARCIALES Y DEFINITIVAS DEL SISTEMA ACADÉMICO\n",
    "SAparciales = glob.glob('./INPUT/SA_PARCIALES/*.csv')\n",
    "SAdefs = glob.glob('./INPUT/SA_DEFINITIVAS/*.csv')\n",
    "dfsParciales = []\n",
    "dfsDef = []\n",
    "for archivo in SAparciales:\n",
    "    dfsParciales.append(pd.read_csv(archivo, sep=';', encoding='latin-1', skiprows=1))\n",
    "for archivo in SAdefs:\n",
    "    dfsDef.append(pd.read_csv(archivo, sep=';', encoding='latin-1', skiprows=1))\n",
    "notasParcialesSA = pd.concat(dfsParciales, ignore_index = True)\n",
    "notasDefinitivasSA = pd.concat(dfsDef, ignore_index = True)"
   ]
  },
  {
   "cell_type": "code",
   "execution_count": 4,
   "id": "bfa282e6",
   "metadata": {},
   "outputs": [],
   "source": [
    "# LECTURA DE ESTUDIANTES HOMOLOGADOS\n",
    "estHomCiclos = glob.glob('./INPUT/E_HOMOLOGADOS/*.csv')\n",
    "dfsHom = []\n",
    "for archivo in estHomCiclos:\n",
    "    dfsHom.append(pd.read_csv(archivo, sep=';'))\n",
    "estudiantesHom = pd.concat(dfsHom, ignore_index = True)"
   ]
  },
  {
   "cell_type": "code",
   "execution_count": 5,
   "id": "532425e8",
   "metadata": {},
   "outputs": [],
   "source": [
    "# PROCESAMIENTO\n",
    "# Si este bloque se ejecuta sin mostrar mensaje es porque todo está en orden.\n",
    "archivoEstudiantesHom = {\n",
    "    'CÓDIGO': [],\n",
    "    'CÓDIGO_ASIGNATURA': [],\n",
    "    'ASIGNATURA': [],\n",
    "    'PERIODO': []\n",
    "}\n",
    "for nPeriodo, nombrePeriodo, codAsignatura in PERIODOS:\n",
    "    dfParcialesPeriodo = notasParcialesSA[(notasParcialesSA['PE'] == nPeriodo) & (notasParcialesSA['ASIGNATURA'] == nombrePeriodo)]\n",
    "    dfDefinitivasPeriodo = notasDefinitivasSA[(notasDefinitivasSA['PE'] == nPeriodo) & (notasDefinitivasSA['ASIGNATURA'] == nombrePeriodo)]\n",
    "    dfEst = estudiantesHom[estudiantesHom['PERIODO'] == nPeriodo]\n",
    "    for index, row in dfEst.iterrows():\n",
    "        codEst = row['CODIGO_ESTUDIANTE']        \n",
    "        dfDefEst = dfDefinitivasPeriodo[dfDefinitivasPeriodo['ESTUDIANTE'] == codEst]\n",
    "        dfParcialesEst = dfParcialesPeriodo[dfParcialesPeriodo['ESTUDIANTE'] == codEst]\n",
    "        if len(dfDefEst) != 1:\n",
    "            print ('Error: definitiva no encontrada', codEst, 'Periodo:', nPeriodo)\n",
    "            continue\n",
    "        if dfDefEst['NOTA'].iloc[0] != NOTA_REVISAR:\n",
    "            print ('Error: nota definitiva', codEst, 'Periodo:', nPeriodo, 'Nota:', dfDefEst['NOTA'])\n",
    "        if dfDefEst['GRUPO'].iloc[0] != GRUPO_REVISAR:\n",
    "            print ('Error: grupo incorrecto', codEst, 'Periodo:', nPeriodo, 'Grupo:', dfDefEst['GRUPO'])\n",
    "        if len(dfParcialesEst) != N_PARCIALES:\n",
    "            print ('Error: número de notas parciales no coindice', codEst, 'Periodo:', nPeriodo, '# Notas parciales:', len(dfParcialesEst))\n",
    "            continue\n",
    "        dfParcialesEst = dfParcialesEst.sort_values('No')\n",
    "        for iP, rowP in dfParcialesEst.iterrows():\n",
    "            if rowP['NOTA'] != NOTA_REVISAR:\n",
    "                print ('Error: nota parcial incorrecta #', rowP['No'], codEst, 'Periodo:', nPeriodo, 'Nota: ', rowP['NOTA'])\n",
    "            if rowP['GRUPO'] != GRUPO_REVISAR:\n",
    "                print ('Error: grupo parcial incorrecto', codEst, 'Periodo:', nPeriodo, 'Grupo: ', rowP['GRUPO'])\n",
    "        archivoEstudiantesHom['CÓDIGO'].append(codEst)\n",
    "        archivoEstudiantesHom['CÓDIGO_ASIGNATURA'].append(codAsignatura)\n",
    "        archivoEstudiantesHom['ASIGNATURA'].append(nombrePeriodo)\n",
    "        archivoEstudiantesHom['PERIODO'].append(nPeriodo)"
   ]
  },
  {
   "cell_type": "code",
   "execution_count": 6,
   "id": "6f9e6dc3",
   "metadata": {},
   "outputs": [],
   "source": [
    "rta = pd.DataFrame(archivoEstudiantesHom)\n",
    "rta.to_excel('./OUTPUT/INFORME_HOMOLOGADOS_PERIODO_' + str(date.today()) + '.xlsx', index=False)\n",
    "pd.Series(rta['CÓDIGO'].unique(), name = 'CÓDIGO').to_excel('./OUTPUT/TODOS_HOMOLOGADOS_' + str(date.today()) + '.xlsx', index=False)"
   ]
  }
 ],
 "metadata": {
  "kernelspec": {
   "display_name": "Python 3 (ipykernel)",
   "language": "python",
   "name": "python3"
  },
  "language_info": {
   "codemirror_mode": {
    "name": "ipython",
    "version": 3
   },
   "file_extension": ".py",
   "mimetype": "text/x-python",
   "name": "python",
   "nbconvert_exporter": "python",
   "pygments_lexer": "ipython3",
   "version": "3.9.7"
  }
 },
 "nbformat": 4,
 "nbformat_minor": 5
}
