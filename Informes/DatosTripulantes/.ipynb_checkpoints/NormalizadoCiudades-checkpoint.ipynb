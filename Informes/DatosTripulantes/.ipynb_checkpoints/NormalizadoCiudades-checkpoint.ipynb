{
 "cells": [
  {
   "cell_type": "code",
   "execution_count": 3,
   "id": "08fe41f8",
   "metadata": {},
   "outputs": [],
   "source": [
    "import pandas as pd"
   ]
  },
  {
   "cell_type": "code",
   "execution_count": 41,
   "id": "7867e2c1",
   "metadata": {},
   "outputs": [],
   "source": [
    "DATOS = pd.read_excel('./HorariosEstudiantes_C4_2022-10-06.xlsx', engine = 'openpyxl')\n",
    "DATOS_PRINC1 = pd.read_excel('./datosNuevos.xlsx', engine = 'openpyxl')\n",
    "DATOS_SEC1 = pd.read_excel('./datosViejos.xlsx', engine = 'openpyxl')"
   ]
  },
  {
   "cell_type": "code",
   "execution_count": 64,
   "id": "588a295d",
   "metadata": {},
   "outputs": [],
   "source": [
    "# PRINCIPAL\n",
    "COLUMNA_COD_PRINC = 'Código de estudiante'\n",
    "COLUMNA_USAR_PRINC = 'Confirme si han cambiado sus datos socio-económicos relacionados con el lugar de residencia, vivienda y ocupación'\n",
    "COLUMNA_PAIS_PRINC = 'País de residencia'\n",
    "COLUMNA_CIUDAD_PRINC = 'Ciudad de residencia'\n",
    "\n",
    "# SECUNDARIO\n",
    "COLUMNA_COD_SEC = 'CODIGO'\n",
    "COLUMNA_PAIS_SEC = 'PAIS_DE_RECIDENCIA'\n",
    "COLUMNA_CIUDAD_SEC = 'CIUDAD_DE_RECIDENCIA'\n",
    "\n",
    "# DICT REEMPLAZOS\n",
    "REEMPLAZOS = [\n",
    "    (\"á\", \"a\"),\n",
    "    (\"é\", \"e\"),\n",
    "    (\"í\", \"i\"),\n",
    "    (\"ó\", \"o\"),\n",
    "    (\"ú\", \"u\"),\n",
    "    ('à', 'a'),\n",
    "    ('è', 'e'),\n",
    "    ('ì', 'i'),\n",
    "    ('ò', 'o'),\n",
    "    ('ù', 'u'),\n",
    "    ('\\.', ''),\n",
    "    ('|', '')\n",
    "]\n",
    "\n",
    "dictReemplazos = dict()\n",
    "for malo, bueno in REEMPLAZOS:\n",
    "    dictReemplazos[malo] = bueno\n",
    "    dictReemplazos[malo.upper()] = bueno.upper()"
   ]
  },
  {
   "cell_type": "code",
   "execution_count": 65,
   "id": "7e31ecef",
   "metadata": {},
   "outputs": [],
   "source": [
    "DATOS_PRINC = DATOS_PRINC1.copy()\n",
    "DATOS_SEC = DATOS_SEC1.copy()\n",
    "\n",
    "DATOS_PRINC[COLUMNA_PAIS_PRINC].replace(dictReemplazos, inplace = True, regex = True)\n",
    "DATOS_PRINC[COLUMNA_CIUDAD_PRINC].replace(dictReemplazos, inplace = True, regex = True)\n",
    "DATOS_SEC[COLUMNA_PAIS_SEC].replace(dictReemplazos, inplace = True, regex = True)\n",
    "DATOS_SEC[COLUMNA_CIUDAD_SEC].replace(dictReemplazos, inplace = True, regex = True)\n",
    "\n",
    "DATOS_PRINC[COLUMNA_PAIS_PRINC] = DATOS_PRINC[COLUMNA_PAIS_PRINC].str.upper()\n",
    "DATOS_PRINC[COLUMNA_CIUDAD_PRINC] = DATOS_PRINC[COLUMNA_CIUDAD_PRINC].str.upper()\n",
    "DATOS_SEC[COLUMNA_PAIS_SEC] = DATOS_SEC[COLUMNA_PAIS_SEC].str.upper()\n",
    "DATOS_SEC[COLUMNA_CIUDAD_SEC] = DATOS_SEC[COLUMNA_CIUDAD_SEC].str.upper()"
   ]
  },
  {
   "cell_type": "code",
   "execution_count": 66,
   "id": "d3a5440c",
   "metadata": {},
   "outputs": [
    {
     "name": "stdout",
     "output_type": "stream",
     "text": [
      "2224325 no existe en el anterior\n",
      "2224327 no existe en el anterior\n",
      "2224418 no existe en el anterior\n",
      "2224432 no existe en el anterior\n",
      "2224448 no existe en el anterior\n",
      "2224480 no existe en el anterior\n",
      "2224574 no existe en el anterior\n",
      "2224598 no existe en el anterior\n",
      "2224651 no existe en el anterior\n",
      "2224680 no existe en el anterior\n",
      "2224700 no existe en el anterior\n",
      "2224722 no existe en el anterior\n"
     ]
    }
   ],
   "source": [
    "rta = {\n",
    "    'CODIGO': [],\n",
    "    'CEDULA': [],\n",
    "    'NOMBRE': [],\n",
    "    'APELLIDO': [],\n",
    "    'PAIS': [],\n",
    "    'CIUDAD': []\n",
    "}\n",
    "for index, row in DATOS.iterrows():\n",
    "    cod = row['CODIGO_UIS']\n",
    "    rta['CEDULA'].append(row['NUMERO_DE_DOCUMENTO'])\n",
    "    rta['CODIGO'].append(cod)    \n",
    "    rta['NOMBRE'].append(row['NOMBRES'])\n",
    "    rta['APELLIDO'].append(row['APELLIDOS'])\n",
    "    dfAnterior = DATOS_SEC[DATOS_SEC[COLUMNA_COD_SEC] == cod]\n",
    "    dfNuevo = DATOS_PRINC[DATOS_PRINC[COLUMNA_COD_PRINC] == cod]\n",
    "    noNuevo = False\n",
    "    noViejo = False\n",
    "    if len(dfNuevo) < 1:\n",
    "        noNuevo = True\n",
    "    if len(dfAnterior) < 1:\n",
    "        print (cod, 'no existe en el anterior')\n",
    "        noViejo = True\n",
    "    \n",
    "    if noViejo and noNuevo:\n",
    "        rta['PAIS'].append('NO IDENTIFICADO')\n",
    "        rta['CIUDAD'].append('NO IDENTIFICADO')\n",
    "        continue\n",
    "    if not noNuevo and dfNuevo[COLUMNA_USAR_PRINC].iloc[0] == 'SI':\n",
    "        rta['PAIS'].append(dfNuevo[COLUMNA_PAIS_PRINC].iloc[0])\n",
    "        rta['CIUDAD'].append(dfNuevo[COLUMNA_CIUDAD_PRINC].iloc[0])\n",
    "    else:\n",
    "        rta['PAIS'].append(dfAnterior[COLUMNA_PAIS_SEC].iloc[0] if not noViejo else 'NO IDENTIFICADO')\n",
    "        rta['CIUDAD'].append(dfAnterior[COLUMNA_CIUDAD_SEC].iloc[0] if not noViejo else 'NO IDENTIFICADO')\n",
    "        "
   ]
  },
  {
   "cell_type": "code",
   "execution_count": 67,
   "id": "7194fafb",
   "metadata": {},
   "outputs": [],
   "source": [
    "dfCompleto = pd.DataFrame(rta)"
   ]
  },
  {
   "cell_type": "code",
   "execution_count": 68,
   "id": "b65c4596",
   "metadata": {},
   "outputs": [
    {
     "data": {
      "text/plain": [
       "array(['BOGOTA', 'PIEDECUESTA', 'POPAYAN', 'BUCARAMANGA', 'VALLEDUPAR',\n",
       "       'CIUDAD DE PANAMA', 'DUITAMA', 'BOGOTA DC', 'MOGOTES', 'RIONEGRO',\n",
       "       'CUCUTA', 'PALMIRA', 'TUNJA', 'BARRANQUILLA ', 'LA CALERA',\n",
       "       'SOLEDAD', 'BARRANQUILLA', 'BOGOTA DC ', 'CHIQUINQUIRA', 'GIRON',\n",
       "       'SOACHA', 'CAJICA', 'ARAUCA', 'CARTAGENA', 'PEREIRA', 'RESTREPO',\n",
       "       'SAN JUAN DEL CESAR', 'VALENCIA ', 'ARGELIA', 'FLORIDABLANCA',\n",
       "       'VILLAMARIA', 'MEDELLIN', 'CALI', 'IBAGUE', 'BARANOA', 'SOACHA ',\n",
       "       'LA JAGUA DE IBIRICO', 'COGUA', 'TUMACO', 'VILLAVICENCIO',\n",
       "       'MOSQUERA', 'NEIVA', 'CARTAGENA DE INDIAS', 'OCAÑA',\n",
       "       'SANTANDER DE QUILICHAO', 'SOGAMOSO', 'SINCELEJO', 'AGUACHICA',\n",
       "       'MOSQUERA ', 'SUAITA', 'TURBACO', 'MONTERIA', 'BARRANCABERMEJA',\n",
       "       'BOGOTA ', 'CHINACOTA', 'FLORDABLANCA', 'SUBA', 'FUNZA',\n",
       "       'CAUCASIA', 'SAN JOSE DE MIRANDA', 'FUSAGASUGA',\n",
       "       'SAN JUAN NEPOMUCENO', 'SIACHOQUE', 'MOMPOS', 'MANIZALES', 'YOPAL',\n",
       "       'BUESACO', 'EL SOCORRO SANTANDER', 'BOGOTA D,C', 'LOS PATIOS',\n",
       "       'MADRID', 'PUERTO LOPEZ', 'CUCUTA ', 'COROZAL', 'BOGOTA DE',\n",
       "       'TIBASOSA', 'ZARZAL', 'SAN ZENON', 'CHIA', 'LIBANO',\n",
       "       'SANTIAGO DE CALI', 'LA ESTRELLA', 'AGUSTIN CODAZZI', 'TOCANCIPA',\n",
       "       'SAN ANTONIO', 'SANTA MARTA', 'PUERRES', 'MALAMBO', 'VELEZ',\n",
       "       'BOGOTA, DC', 'ENVIGADO', 'SAN JUAN DE PASTO', 'PUEBLO NUEVO',\n",
       "       'LEBRIJA ', 'BARRANCO DE LOBA', 'ARJONA', 'BARANOA ', 'ARMENIA',\n",
       "       'SANTA ROSA DEL NORTE', 'LA MESA', 'JAMUNDI', 'TUNJA ', 'PASTO',\n",
       "       'GIRON ', 'PAMPLONA', 'TRES DE FEBRERO', 'PASTO ',\n",
       "       'PUERTO COLOMBIA', 'EL COPEY', 'VILLANUEVA', 'SAN PEDRO',\n",
       "       'ACACIAS ', 'EL DIFICIL (ARIGUANI)', 'PUERTO ASIS', 'SONSON',\n",
       "       'GÜICAN', 'SOLEDAD ', 'MAGANGUE', 'SOPO', 'BOGATA',\n",
       "       'TALAIGUA NUEVO', 'TOLEDO', 'BARICHARA', 'JARDIN', 'MAICAO ',\n",
       "       'VILLAGORGONA', 'CANDELARIA', 'SIBATE', 'MAICAO', 'VELEZ ',\n",
       "       'TUBARA', 'CONSACA ', 'TIERRALTA', ' BOGOTA', 'IPIALES',\n",
       "       'CHINIQUE', 'PEREIRA ', 'VILLA DEL ROSARIO', 'GARZON',\n",
       "       'VILLA DE LEYVA', 'SAN GIL', 'SAN JOSE DE CUCUTA',\n",
       "       'VALLE DEL GUAMUEZ', 'ESPINAL', 'EL TAMBO', 'QUIBDO', 'SOCORRO',\n",
       "       'SANTA MARTA ', 'NEIVA ', 'BOGOTA  DC', 'COROZAL ', 'MONTERIA ',\n",
       "       'CERETE', 'VETAS', 'MANAURE', 'SAN MARTIN', 'VILLAVICENCIO ',\n",
       "       'LABRANZAGRANDE ', 'AGRADO', 'MONTELIBANO', 'BELLO',\n",
       "       'LA JAGUA DE IBIRICO ', 'EL PAUJIL', 'CHINCHINA', 'BELVEDERE',\n",
       "       'RIONEGRO ', 'ARCABUCO', 'SABANETA', 'EL CERRITO',\n",
       "       'PAZ DE ARIPORO ', 'SIMITI', 'ZAPATOCA', 'SOACAHA', 'MOÑITOS',\n",
       "       'ITAGUI', 'YUMBO', 'EL CARMEN DE VIBORAL', 'PAMPLONA ',\n",
       "       'ZIPAQUIRA', 'PAIME', 'LORICA', 'CHIPATA', 'ORTEGA', 'MELGAR',\n",
       "       'TABIO', 'LA JAGUA DEL PILAR', 'SAN VICENTE DE CHUCURI',\n",
       "       'SOACHA - CUNDINAMARCA', 'LA PLATA', 'GUARNE', 'GIRARDOT',\n",
       "       'MARGARITA', 'PUEBLOVIEJO', 'SABANALARGA', 'GUADALAJARA DE BUGA',\n",
       "       'SAN CARLOS', 'BARCELONA', 'GRANADA', 'FUNDACION', 'FONSECA',\n",
       "       'CAJICA ', 'SAN GIL ', 'MISSISSAUGA', 'SAN PELAYO', 'CARTAGENA ',\n",
       "       'FLORENCIA ', 'MACEO', 'VITERBO', 'SIMACOTA', 'SANTUARIO',\n",
       "       'SAN MARCOS', 'FACATATIVA', 'BUCARAMANGA ', 'NUEVA GRANADA',\n",
       "       'AMALFI', 'CERRITO ', 'ARBOLETES ', 'LA DORADA', 'LA CEJA',\n",
       "       'VENTAQUEMADA', 'URUMITA ', 'OVEJAS', 'POLICARPA', 'VIGO', 'VIVO',\n",
       "       'TOCA', 'PIEDRAS', 'REPELON', 'TIMBIO', 'FLANDES', 'SIBUNDOY',\n",
       "       'A CORUÑA', 'MAHATES', 'ACACIAS', 'CERRITO', 'COTA', 'ARBOLETES',\n",
       "       'CUMARIBO', 'SANTANA', 'GACHANCIPA', 'ADELAIDA',\n",
       "       'SAN ANDRES ISLAS', 'SAN JOSE DE CUCUTA ', 'CANDELARIA ', 'CALI ',\n",
       "       'PUEBLO BELLO', 'SANTA ROSA DE VITERBO', 'BOGOTA BC',\n",
       "       'VILLANUEVA ', 'PUERTO CARREÑO', 'CUITIVA ', 'CIENAGA ',\n",
       "       'MEDELLIN ', 'MOCOA', 'FLORIDABLANCA ', 'SAN VCIENTE DE CHUCURI',\n",
       "       'CUITIVA', 'CARTAGENA DEL CHAIRA', 'BARBOSA', 'TELLO', 'MOMPOX',\n",
       "       'TAURAMENA', 'UBATE', 'CALDAS', 'NIMAIMA', 'SANTA ROSA DE OSOS',\n",
       "       'SAN JOSE DE PARE', 'SOGAMOSO ', 'SAN MARTIN ', 'CINCELADA',\n",
       "       'URUMITA', 'COPACABANA', 'TULUA', 'AGUAZUL', 'VISTA HERMOSA',\n",
       "       'VILLETA', 'SAN JUAN NEPOMUCENO BOLIVAR', 'BOGOTA D C',\n",
       "       'PAZ DE ARIPORO', 'CIUDAD AUTONOMA DE BUENOS AIRES', 'CHAPARRAL',\n",
       "       'GIRARDOTA', 'EL PASO', 'SAN ANDRES ', 'NAIVA', 'RIOSUCIO',\n",
       "       'TURBO', 'EL COLEGIO', 'GUAMAL', 'AMBALEMA', 'EL BAGRE', 'GIGANTE',\n",
       "       'CAPARRAPI', 'OVIEDO', 'SAN CARLOS DE GUAROA', 'GIRALDO',\n",
       "       'FLORIDA BLANCA', 'TOCANCIA', 'RIOHACHA, LA GUAJIRA', 'PAIPA',\n",
       "       'SIMIJACA', 'CABUDARE', 'LEBRIJA', 'SAN MIGUEL DE SEMA',\n",
       "       'TUQUERRES', 'LA PINTADA', 'AQUITANIA', 'DOSQUEBRADAS', 'MSIDA',\n",
       "       'EL CARMEN DE CHUCURI', 'CHARALA', 'BOGOTA, D,E', 'ANAPOIMA ',\n",
       "       'CHAMEZA', 'SAMANIEGO', 'CALIMA DARIEN', 'QUIPILE', 'SAN ANTERO',\n",
       "       'PUERTO WILCHES', 'SAN MIGUEL DE SEMA ', 'TAME',\n",
       "       'EL CARMEN DE BOLIVAR ', 'BUGA', 'GALAPA', 'ASTREA',\n",
       "       'CIENAGA DE ORO', 'BETEITIVA', 'RIOHACHA',\n",
       "       'SAN ANTONIO DEL TEQUENDAMA', 'VALLEDUPAR ', 'PATO', 'SINCELEJO ',\n",
       "       'DON MATIAS ', 'RANCAGUA', 'DUITAMA ', 'OCAÑA ', 'SIACHOQUE ',\n",
       "       'SOACHA CUNDINAMARCA', 'TAMESIS', 'SAN SEBASTIAN DE DE BUENAVISTA',\n",
       "       'PACHO', 'FUNDACION MAGDALENA', 'PUERTO SALGAR ', 'CABRERA',\n",
       "       'LA ESPERANZA', 'CALAMAR', 'MALAGA', 'BRICEÑO', 'ANOLAIMA',\n",
       "       'FLORENCIA', 'PITALITO', 'CALI VALLE', 'MOCOA ', 'BOJACA',\n",
       "       'CUMBAL', 'MADRI', 'CALOTO', 'PUERTO SALGAR', 'SOCHA', 'CHIMA',\n",
       "       'EL RETEN', 'LA UNION', 'SAN JACINTO', 'MEDELLLIN', 'GUACARI',\n",
       "       'MUZO', 'EL RETIRO', 'SAHAGUN', 'RAMIRIQUI', 'RIVERA', 'APARTADO',\n",
       "       'PALMIRA ', 'RAQUIRA', 'SAN CRISTOBAL',\n",
       "       'SAN SEBASTIAN DE BUENA VISTA', 'SANTA FE DE ANTIOQUIA',\n",
       "       'SABANAGRANDE', 'RIOHACHA ', 'PALERMO', 'CICUCO', 'PORE',\n",
       "       'COLOMBIA', 'ESCAZU', 'FRANKFURT ', 'BOGOTA D:C', 'FRANKFURT',\n",
       "       'VLEZ', 'ORITO', 'CARTAGENA DE INDIAS ', 'SAHAGUN ',\n",
       "       'DISTRITO CAPITAL', 'CARTAGO', 'SAN FRANCISCO - PUTUMAYO ',\n",
       "       'CIRCASIA', 'JENESANO', 'CONVENCION', 'JENA', 'MONTERREY', 'ULLOA',\n",
       "       'YONDO ', 'CLEMENCIA', 'SAN JOSE DEL GUAVIARE', 'CHIA ', 'MADRID ',\n",
       "       'COYAIMA', 'GRANBY', 'PLATO', 'QUERETARO', 'CACHIRA', 'ABREGO',\n",
       "       'SARAVENA', 'VILLAPINZON ', 'PTO LEGUIZAMO', 'TARQUI', 'MARINILLA',\n",
       "       'PUERTO ESCONDIDO ', 'APIA', 'SORACA', 'LIBANO ', 'LA LLANADA',\n",
       "       'GRANADA CUNDINAMARCA', 'LORICA ', 'UBERLANDIA', 'HONDA',\n",
       "       'CONTADERO', 'LA PEÑA', 'LEJANIAS', 'COLLADO VILLALBA', 'CAQUEZA',\n",
       "       'ANDES', 'MACANAL', 'MIRAFLORES DE LA SIERRA', 'IQUIRA',\n",
       "       'CAQUEZA ', 'ARRAIJAN', 'SAN AGUSTIN', 'ARMENIA ', 'FERMIN LOPEZ',\n",
       "       'ANSERMA', 'CORDOBA', 'LA VEGA-CAUCA ', 'ZARLZAL', 'SAMACA ',\n",
       "       'IBAGUE ', 'PUERTO GAITAN', 'PIEDRAS ', 'BOGOTA D, C', 'SAMACA',\n",
       "       'TIMANA', 'VILLETA ', 'JUAN DE ACOSTA', 'ITAGÜI ', 'DABEIBA',\n",
       "       'GRAMALOTE', 'SAN JUAN DE BETULIA', 'SINCE', 'CAREPA', 'MONTREAL',\n",
       "       'PENSILVANIA', 'CUNDINAMARCA', 'YARUMAL', 'EL CARMEN',\n",
       "       'PIEDECUESTA ', 'QUEBEC', 'CIENAGA', 'ALBANIA', 'CONCEPCION',\n",
       "       'LA CEJA ', 'BOLIVAR', 'VILLA DEL ROSARIO ', 'SUAZA', 'NOBSA',\n",
       "       'YAGUARA', 'LABRANZAGRANDE', 'NO IDENTIFICADO', 'VILLAGARZON',\n",
       "       'ARRECIFE', 'MOLAGAVITA', 'HATO COROZAL', 'SANTAMARTA',\n",
       "       'MONIQUIRA', 'PUERTO SANTANDER', 'GUADALUPE', 'SAN LUIS',\n",
       "       'POPPAYAN', 'ARJONA ', 'FUSAGASUGA ', 'COELLO', 'AYAPEL',\n",
       "       'CIMITARRA', 'MANIZALES ', 'CUMARAL ', 'HATO COROZAL ', 'OIBA',\n",
       "       'HATONUEVO', 'BUENAVENTURA', 'CASANARE AGUAZUL', 'SAN FERNANDO ',\n",
       "       'SANTA ROSA DE CABAL', 'BUENOS AIRES', 'MALAGA ', 'CARTEGENA',\n",
       "       'TENJO ', 'CARMEN DE APICALA', 'GACHETA', 'AMAGA ', 'CURUMANI ',\n",
       "       'LOS PATIOS ', 'PUERTO TEJADA', 'PARAMO ', 'CACHIPAY', 'ARBELAEZ',\n",
       "       'PINILLOS', 'NEMOCON', 'OWENS CROSS ROADS', 'EL ROSAL ', 'TOPAIPI',\n",
       "       'CARTAGO VALLE ', 'MAPIRIPAN'], dtype=object)"
      ]
     },
     "execution_count": 68,
     "metadata": {},
     "output_type": "execute_result"
    }
   ],
   "source": [
    "dfCompleto['CIUDAD'].unique()"
   ]
  },
  {
   "cell_type": "code",
   "execution_count": 69,
   "id": "c328d823",
   "metadata": {},
   "outputs": [
    {
     "data": {
      "text/plain": [
       "array(['COLOMBIA', 'PANAMA', 'COLOMBIA ', 'ARGENTINA', ' COLOMBIA ',\n",
       "       'GUATEMALA', 'COLOMBIA|', 'COLOMBIA  ', 'COLOMBIAA',\n",
       "       'ESTADOS UNIDOS ', 'BOGOTA ', 'ESPAÑA', 'CANADA', 'COLOMBI',\n",
       "       ' COLOMBIA', 'AUSTRALIA', 'COLOMBA', 'BUCARAMANGA ', 'VENEZUELA',\n",
       "       'MALTA', 'BOGOTA', 'CHILE', 'COSTA RICA', 'ALEMANI', 'ALEMANIA',\n",
       "       'COLOMBIANA', 'MEXICO', 'BRASIL', 'COLOBIA', 'BOGOTA DC',\n",
       "       'COLBOMBIA', 'CANADA ', 'COLOMNIA', 'NO IDENTIFICADO', 'COLOMBAI',\n",
       "       'UNITED STATES'], dtype=object)"
      ]
     },
     "execution_count": 69,
     "metadata": {},
     "output_type": "execute_result"
    }
   ],
   "source": [
    "dfCompleto['PAIS'].unique()"
   ]
  },
  {
   "cell_type": "code",
   "execution_count": 9,
   "id": "e9b43c10",
   "metadata": {},
   "outputs": [],
   "source": [
    "dfCompleto.to_excel('./DatosTripulantes.xlsx', index = False)"
   ]
  }
 ],
 "metadata": {
  "kernelspec": {
   "display_name": "Python 3 (ipykernel)",
   "language": "python",
   "name": "python3"
  },
  "language_info": {
   "codemirror_mode": {
    "name": "ipython",
    "version": 3
   },
   "file_extension": ".py",
   "mimetype": "text/x-python",
   "name": "python",
   "nbconvert_exporter": "python",
   "pygments_lexer": "ipython3",
   "version": "3.10.4"
  }
 },
 "nbformat": 4,
 "nbformat_minor": 5
}
