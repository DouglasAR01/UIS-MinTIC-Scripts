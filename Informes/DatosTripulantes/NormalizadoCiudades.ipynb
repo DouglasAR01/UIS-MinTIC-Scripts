{
 "cells": [
  {
   "cell_type": "code",
   "execution_count": 1,
   "id": "d4673b22",
   "metadata": {},
   "outputs": [],
   "source": [
    "import pandas as pd"
   ]
  },
  {
   "cell_type": "code",
   "execution_count": 2,
   "id": "7867e2c1",
   "metadata": {},
   "outputs": [],
   "source": [
    "DATOS = pd.read_excel('./HorariosEstudiantes_C4_2022-10-06.xlsx', engine = 'openpyxl')\n",
    "DATOS_PRINC1 = pd.read_excel('./datosNuevos.xlsx', engine = 'openpyxl')\n",
    "DATOS_SEC1 = pd.read_excel('./FORMULARIO_COMPLETO.xlsx', engine = 'openpyxl')"
   ]
  },
  {
   "cell_type": "code",
   "execution_count": 3,
   "id": "588a295d",
   "metadata": {},
   "outputs": [],
   "source": [
    "# PRINCIPAL\n",
    "COLUMNA_COD_PRINC = 'Código de estudiante'\n",
    "COLUMNA_USAR_PRINC = 'Confirme si han cambiado sus datos socio-económicos relacionados con el lugar de residencia, vivienda y ocupación'\n",
    "COLUMNA_PAIS_PRINC = 'País de residencia'\n",
    "COLUMNA_DEPTO_PRINC = 'Departamento / Estado de residencia'\n",
    "COLUMNA_CIUDAD_PRINC = 'Ciudad de residencia'\n",
    "\n",
    "# SECUNDARIO\n",
    "COLUMNA_COD_SEC = 'Codigo'\n",
    "COLUMNA_PAIS_SEC = 'País de Residencia'\n",
    "COLUMNA_DEPTO_SEC = 'Departamento / Estado de Residencia'\n",
    "COLUMNA_CIUDAD_SEC = 'Ciudad de Residencia'\n",
    "\n",
    "# DICT REEMPLAZOS\n",
    "REEMPLAZOS = [\n",
    "    (\"á\", \"a\"),\n",
    "    (\"é\", \"e\"),\n",
    "    (\"í\", \"i\"),\n",
    "    (\"ó\", \"o\"),\n",
    "    (\"ú\", \"u\"),\n",
    "    ('à', 'a'),\n",
    "    ('è', 'e'),\n",
    "    ('ì', 'i'),\n",
    "    ('ò', 'o'),\n",
    "    ('ù', 'u'),\n",
    "    ('ä', 'a'),\n",
    "    ('ë', 'e'),\n",
    "    ('ï', 'i'),\n",
    "    ('ö', 'o'),\n",
    "    ('ü', 'u'),\n",
    "    ('\\.', ''),\n",
    "    ('\\|', ''),\n",
    "    (',', ''),\n",
    "    ('/', ''),\n",
    "    (' ', '')\n",
    "]\n",
    "\n",
    "dictReemplazos = dict()\n",
    "for malo, bueno in REEMPLAZOS:\n",
    "    dictReemplazos[malo] = bueno\n",
    "    dictReemplazos[malo.upper()] = bueno.upper()"
   ]
  },
  {
   "cell_type": "code",
   "execution_count": 4,
   "id": "98b59701",
   "metadata": {},
   "outputs": [],
   "source": [
    "DATOS_PRINC = DATOS_PRINC1.copy()\n",
    "DATOS_SEC = DATOS_SEC1.copy()\n",
    "\n",
    "DATOS_PRINC[COLUMNA_PAIS_PRINC].replace(dictReemplazos, inplace = True, regex = True)\n",
    "DATOS_PRINC[COLUMNA_CIUDAD_PRINC].replace(dictReemplazos, inplace = True, regex = True)\n",
    "DATOS_PRINC[COLUMNA_DEPTO_PRINC].replace(dictReemplazos, inplace = True, regex = True)\n",
    "DATOS_SEC[COLUMNA_PAIS_SEC].replace(dictReemplazos, inplace = True, regex = True)\n",
    "DATOS_SEC[COLUMNA_CIUDAD_SEC].replace(dictReemplazos, inplace = True, regex = True)\n",
    "DATOS_SEC[COLUMNA_DEPTO_SEC].replace(dictReemplazos, inplace = True, regex = True)\n",
    "\n",
    "DATOS_PRINC[COLUMNA_PAIS_PRINC] = DATOS_PRINC[COLUMNA_PAIS_PRINC].str.upper()\n",
    "DATOS_PRINC[COLUMNA_CIUDAD_PRINC] = DATOS_PRINC[COLUMNA_CIUDAD_PRINC].str.upper()\n",
    "DATOS_PRINC[COLUMNA_DEPTO_PRINC] = DATOS_PRINC[COLUMNA_DEPTO_PRINC].str.upper()\n",
    "DATOS_SEC[COLUMNA_PAIS_SEC] = DATOS_SEC[COLUMNA_PAIS_SEC].str.upper()\n",
    "DATOS_SEC[COLUMNA_CIUDAD_SEC] = DATOS_SEC[COLUMNA_CIUDAD_SEC].str.upper()\n",
    "DATOS_SEC[COLUMNA_DEPTO_SEC] = DATOS_SEC[COLUMNA_DEPTO_SEC].str.upper()"
   ]
  },
  {
   "cell_type": "code",
   "execution_count": 5,
   "id": "d3a5440c",
   "metadata": {},
   "outputs": [
    {
     "name": "stdout",
     "output_type": "stream",
     "text": [
      "2224325 no existe en el anterior\n",
      "2224327 no existe en el anterior\n",
      "2224418 no existe en el anterior\n",
      "2224432 no existe en el anterior\n",
      "2224448 no existe en el anterior\n",
      "2224480 no existe en el anterior\n",
      "2224574 no existe en el anterior\n",
      "2224598 no existe en el anterior\n",
      "2224651 no existe en el anterior\n",
      "2224680 no existe en el anterior\n",
      "2224700 no existe en el anterior\n",
      "2224722 no existe en el anterior\n"
     ]
    }
   ],
   "source": [
    "rta = {\n",
    "    'CODIGO': [],\n",
    "    'CEDULA': [],\n",
    "    'NOMBRE': [],\n",
    "    'APELLIDO': [],\n",
    "    'PAIS': [],\n",
    "    'DEPARTAMENTO': [],\n",
    "    'CIUDAD': []\n",
    "}\n",
    "for index, row in DATOS.iterrows():\n",
    "    cod = row['CODIGO_UIS']\n",
    "    rta['CEDULA'].append(row['NUMERO_DE_DOCUMENTO'])\n",
    "    rta['CODIGO'].append(cod)    \n",
    "    rta['NOMBRE'].append(row['NOMBRES'])\n",
    "    rta['APELLIDO'].append(row['APELLIDOS'])\n",
    "    dfAnterior = DATOS_SEC[DATOS_SEC[COLUMNA_COD_SEC] == cod]\n",
    "    dfNuevo = DATOS_PRINC[DATOS_PRINC[COLUMNA_COD_PRINC] == cod]\n",
    "    noNuevo = False\n",
    "    noViejo = False\n",
    "    if len(dfNuevo) < 1:\n",
    "        noNuevo = True\n",
    "    if len(dfAnterior) < 1:\n",
    "        print (cod, 'no existe en el anterior')\n",
    "        noViejo = True\n",
    "    \n",
    "    if noViejo and noNuevo:\n",
    "        rta['PAIS'].append('NO IDENTIFICADO')\n",
    "        rta['CIUDAD'].append('NO IDENTIFICADO')\n",
    "        rta['DEPARTAMENTO'].append('NO IDENTIFICADO')\n",
    "        continue\n",
    "    if not noNuevo and dfNuevo[COLUMNA_USAR_PRINC].iloc[0] == 'SI':\n",
    "        rta['PAIS'].append(dfNuevo[COLUMNA_PAIS_PRINC].iloc[0])\n",
    "        rta['CIUDAD'].append(dfNuevo[COLUMNA_CIUDAD_PRINC].iloc[0])\n",
    "        rta['DEPARTAMENTO'].append(dfNuevo[COLUMNA_DEPTO_PRINC].iloc[0])\n",
    "    else:\n",
    "        rta['PAIS'].append(dfAnterior[COLUMNA_PAIS_SEC].iloc[0] if not noViejo else 'NO IDENTIFICADO')\n",
    "        rta['CIUDAD'].append(dfAnterior[COLUMNA_CIUDAD_SEC].iloc[0] if not noViejo else 'NO IDENTIFICADO')\n",
    "        rta['DEPARTAMENTO'].append(dfAnterior[COLUMNA_DEPTO_SEC].iloc[0] if not noViejo else 'NO IDENTIFICADO')\n",
    "        "
   ]
  },
  {
   "cell_type": "code",
   "execution_count": 6,
   "id": "7194fafb",
   "metadata": {},
   "outputs": [],
   "source": [
    "dfCompleto = pd.DataFrame(rta)"
   ]
  },
  {
   "cell_type": "code",
   "execution_count": 7,
   "id": "b65c4596",
   "metadata": {},
   "outputs": [
    {
     "data": {
      "text/plain": [
       "array(['CUNDINAMARCA', 'BOGOTA', 'SANTANDER', 'CAUCA', 'CESAR', 'PANAMA',\n",
       "       'BOYACA', 'ANTIOQUIA', 'NORTEDESANTANDER', 'VALLEDELCAUCA',\n",
       "       'ATLANTICO', 'BOGOTADC', 'ARAUCA', 'BOLIVAR', 'RISARALDA', 'META',\n",
       "       'LAGUAJIRA', 'CORDOBA', 'CALDAS', 'TOLIMA', 'USAQUEN', 'NARIÑO',\n",
       "       'HUILA', 'SUCRE', 'SOACHACUNDINAMARCA', 'CASANARE', 'CUNDIMARCA',\n",
       "       'NORTEDDESANTANDER', 'CARTAGENA', 'BOGOTADE', 'MAGDALENA',\n",
       "       'QUINDIO', 'VALLE', 'BUENOSAIRES', 'PUTUMAYO', 'COLOMBIA',\n",
       "       'VSLLEDELCAUCA', 'CUNDINAMARCABOGOTA', 'QUICHE', 'CHOCO',\n",
       "       'CAQUETA', 'CALIFORNIA', 'CUNDINAMARCASOACHA', 'CUNDINAMRCA',\n",
       "       'SANTANDEDR', 'NORTEDESANTANDEER', 'NORTEDEDANTANDER',\n",
       "       'NORTEDESANTENDER', 'SOACHA-CUNDINAMARCA', 'PROVINCIADEBARCELONA',\n",
       "       'ONTARIO', 'ANTIOAQUIA', 'SANTANER', 'SANTANDERBUCARAMANGA',\n",
       "       'PONTEVEDRA', 'GALICIA', 'VICHADA', 'CUMDINAMARCA',\n",
       "       'SOUTHAUSTRALIA(SA)', 'SANANDRESISLAS', 'DISTRITOCAPITAL',\n",
       "       'VALLEDECAUCA', 'SANANDRES', 'ASTURIAS', 'LARA', 'LAVALLETA',\n",
       "       'SOACHA', 'LIBERTADORBERNARDOOHIGGINS', 'BOGOTADCBOGOTADC',\n",
       "       'CUNDIANAMARCA', 'CUNDINAMARCA-APARTAMENTO',\n",
       "       'NARIÑO-SANJUANDEPASTO', 'MAGDALEN', 'SANJOSE', 'HESSEN',\n",
       "       'CUNDINAMARCABOGOTADC', 'NSANTANDER', 'CUANDINAMARCA', 'TURINGIA',\n",
       "       'MEDELLIN', 'ANTIIOQUIA', 'MADRID', 'BOGOTADISTRITOCAPITAL',\n",
       "       'GUAVIARE', 'QUEBEC', 'QUERETARO', 'MINASGERAIS',\n",
       "       'DISTRITOCAPITALBOGOTA', 'PROVINCIAPANAMAOESTE', 'CUBARRIOCUTA',\n",
       "       'SANTANDERFLORDABLANCA', 'GUAJIRA', 'CINDINAMARCA', 'FUSAGASUGA',\n",
       "       'CUNDINDAMARCA', 'CUNDINAMARCA-MADRID', 'REGIONDELBIO-BIO',\n",
       "       'LAGUAJRIA', 'DISTRITOESPECIAL', 'NO IDENTIFICADO',\n",
       "       'CUNDICAMANRCA', 'BOGOTAD-C', 'LASPALMAS', 'BOGOTACOLOMBIA',\n",
       "       'CUNCINAMARCA', 'CABA', 'ALABAMA', 'CUNDINAMARCABOGOTADCCOLOMBIA'],\n",
       "      dtype=object)"
      ]
     },
     "execution_count": 7,
     "metadata": {},
     "output_type": "execute_result"
    }
   ],
   "source": [
    "dfCompleto['DEPARTAMENTO'].unique()"
   ]
  },
  {
   "cell_type": "code",
   "execution_count": 8,
   "id": "c328d823",
   "metadata": {},
   "outputs": [
    {
     "data": {
      "text/plain": [
       "array(['COLOMBIA', 'PANAMA', 'ARGENTINA', 'GUATEMALA', 'COLOMBIAA',\n",
       "       'ESTADOSUNIDOS', 'BOGOTA', 'ESPAÑA', 'CANADA', 'COLOMBI',\n",
       "       'AUSTRALIA', 'COLOMBA', 'BUCARAMANGA', 'VENEZUELA', 'MALTA',\n",
       "       'CHILE', 'COSTARICA', 'ALEMANI', 'ALEMANIA', 'COLOMBIANA',\n",
       "       'MEXICO', 'BRASIL', 'COLOBIA', 'BOGOTADC', 'COLBOMBIA', 'COLOMNIA',\n",
       "       'NO IDENTIFICADO', 'COLOMBAI', 'UNITEDSTATES'], dtype=object)"
      ]
     },
     "execution_count": 8,
     "metadata": {},
     "output_type": "execute_result"
    }
   ],
   "source": [
    "dfCompleto['PAIS'].unique()"
   ]
  },
  {
   "cell_type": "code",
   "execution_count": 10,
   "id": "e9b43c10",
   "metadata": {},
   "outputs": [],
   "source": [
    "dfCompleto.to_excel('./DatosTripulantes2.xlsx', index = False)"
   ]
  }
 ],
 "metadata": {
  "kernelspec": {
   "display_name": "Python 3 (ipykernel)",
   "language": "python",
   "name": "python3"
  },
  "language_info": {
   "codemirror_mode": {
    "name": "ipython",
    "version": 3
   },
   "file_extension": ".py",
   "mimetype": "text/x-python",
   "name": "python",
   "nbconvert_exporter": "python",
   "pygments_lexer": "ipython3",
   "version": "3.10.4"
  }
 },
 "nbformat": 4,
 "nbformat_minor": 5
}
