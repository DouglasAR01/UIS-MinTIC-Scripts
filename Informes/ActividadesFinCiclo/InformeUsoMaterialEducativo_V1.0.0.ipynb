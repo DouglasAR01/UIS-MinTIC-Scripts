{
 "cells": [
  {
   "cell_type": "code",
   "execution_count": 1,
   "id": "ee8c04f0",
   "metadata": {},
   "outputs": [],
   "source": [
    "import pandas as pd\n",
    "from datetime import date"
   ]
  },
  {
   "cell_type": "code",
   "execution_count": 2,
   "id": "19980d3e",
   "metadata": {},
   "outputs": [],
   "source": [
    "CICLO = 3\n",
    "INFO_GRUPOS = [('O', 59)] # Código, # de grupos\n",
    "NOMENCLATURA_CONTIENE_CERO = True # True si los grupos menores a 10 empiezan con cero, ejemplo, A01\n",
    "ACTIVIDADES = [\n",
    "    'Guía de estudio - Introducción Ingeniería de Software y Trabajo Colaborativo',\n",
    "    'Recurso Educativo Digital - Introducción Ingeniería de Software y Trabajo Colaborativo',\n",
    "    'Guía de Estudio - Control de Versiones I',\n",
    "    'Guía de Estudio - Control de Versiones II',\n",
    "    'Recurso Educativo Digital - Control de Versiones',\n",
    "    'Guía de Estudio - Acceso a la Base de Datos',\n",
    "    'Recurso Educativo Digital - Acceso a la Base de Datos',\n",
    "    'Guía de Estudio - Backend',\n",
    "    'Recurso Educativo Digital - Backend',\n",
    "    'Guía de Estudio - Frontend',\n",
    "    'Recurso Educativo Digital - Frontend',\n",
    "    'Recurso Educativo Digital - Tutorial de despliege.'\n",
    "]\n",
    "NOMBRE_DATOS = 'Actividades _programacion_ ciclo3 _semana_7.xlsx'\n",
    "GRUPOS_IGNORAR = [53, ] # Lista de códigos de grupos a ignorar"
   ]
  },
  {
   "cell_type": "code",
   "execution_count": 3,
   "id": "a462cfbe",
   "metadata": {},
   "outputs": [],
   "source": [
    "# CARGUE DE DATOS\n",
    "rta = {}\n",
    "consolidado = []\n",
    "for cod, num in INFO_GRUPOS:\n",
    "    for i in range (1, num + 1):\n",
    "        if i in GRUPOS_IGNORAR:\n",
    "            GRUPOS_IGNORAR.remove(i)\n",
    "            continue\n",
    "        grupo = cod\n",
    "        grupo += '0' + str(i) if NOMENCLATURA_CONTIENE_CERO and i < 10 else str(i)\n",
    "        df = pd.read_excel('./INPUT/' + NOMBRE_DATOS, engine = 'openpyxl', sheet_name = grupo)\n",
    "        rta[grupo] = df\n",
    "        consolidado.append(df)\n"
   ]
  },
  {
   "cell_type": "code",
   "execution_count": 4,
   "id": "f4f46f2f",
   "metadata": {},
   "outputs": [],
   "source": [
    "# PROCESADO\n",
    "resultado = {\n",
    "    'GRUPO': [],\n",
    "    'PORCENTAJE_PROMEDIO': []\n",
    "}\n",
    "nActividades = len(ACTIVIDADES)\n",
    "for grupo, df in rta.items():\n",
    "    acumGrupo = []\n",
    "    for index, row in df.iterrows():\n",
    "        acumActividades = 0\n",
    "        for actividad in ACTIVIDADES:\n",
    "            acumActividades += 1 if row[actividad] == 'Finalizado' else 0 # Suma 1 si finaliza la actividad\n",
    "        acumGrupo.append(acumActividades/nActividades)\n",
    "    resultado['GRUPO'].append(grupo)\n",
    "    resultado['PORCENTAJE_PROMEDIO'].append(sum(acumGrupo)/len(acumGrupo)*100)\n",
    "pd.DataFrame(resultado).to_excel(f'./OUTPUT/PORCENTAJE_PROMEDIO_ACTIVIDADES_{CICLO}_{str(date.today())}.xlsx', index = False)\n",
    "            "
   ]
  },
  {
   "cell_type": "code",
   "execution_count": null,
   "id": "83ee9f01",
   "metadata": {},
   "outputs": [],
   "source": []
  }
 ],
 "metadata": {
  "kernelspec": {
   "display_name": "Python 3 (ipykernel)",
   "language": "python",
   "name": "python3"
  },
  "language_info": {
   "codemirror_mode": {
    "name": "ipython",
    "version": 3
   },
   "file_extension": ".py",
   "mimetype": "text/x-python",
   "name": "python",
   "nbconvert_exporter": "python",
   "pygments_lexer": "ipython3",
   "version": "3.10.4"
  }
 },
 "nbformat": 4,
 "nbformat_minor": 5
}
