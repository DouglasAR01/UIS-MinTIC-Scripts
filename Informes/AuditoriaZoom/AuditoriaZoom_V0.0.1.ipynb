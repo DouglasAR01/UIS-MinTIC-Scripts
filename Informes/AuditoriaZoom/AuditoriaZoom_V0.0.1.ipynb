{
 "cells": [
  {
   "cell_type": "code",
   "execution_count": null,
   "id": "26d8f64c",
   "metadata": {},
   "outputs": [],
   "source": [
    "import pandas as pd\n",
    "import glob\n",
    "from datetime import timedelta"
   ]
  },
  {
   "cell_type": "code",
   "execution_count": null,
   "id": "c17d001b",
   "metadata": {},
   "outputs": [],
   "source": [
    "archivos = glob.glob('.\\INPUT\\ZOOM\\*.csv')\n",
    "dfsBase = []\n",
    "for archivo in archivos:\n",
    "    dfsBase.append(pd.read_csv(archivo))\n",
    "DATOS = pd.concat(dfsBase, ignore_index=True)"
   ]
  },
  {
   "cell_type": "code",
   "execution_count": null,
   "id": "d4ab3e02",
   "metadata": {},
   "outputs": [],
   "source": [
    "INFO_FORMADORES = pd.read_excel('.\\INPUT\\INFO_SALAS_FORMADORES.xlsx', engine='openpyxl')"
   ]
  },
  {
   "cell_type": "code",
   "execution_count": null,
   "id": "6acfefad",
   "metadata": {},
   "outputs": [],
   "source": [
    "DIAS_LABORALES = pd.bdate_range('04/18/2022', '06/03/2022')"
   ]
  },
  {
   "cell_type": "code",
   "execution_count": null,
   "id": "74a7d0ed",
   "metadata": {},
   "outputs": [],
   "source": [
    "DATOS['Hora de inicio'] = pd.to_datetime(DATOS['Hora de inicio'], format=\"%m/%d/%Y %H:%M:%S\")\n",
    "DATOS['Hora de finalización'] = pd.to_datetime(DATOS['Hora de finalización'], format=\"%m/%d/%Y %H:%M:%S\")"
   ]
  },
  {
   "cell_type": "code",
   "execution_count": null,
   "id": "16fed5ec",
   "metadata": {},
   "outputs": [],
   "source": [
    "DATOS[:5]"
   ]
  },
  {
   "cell_type": "code",
   "execution_count": null,
   "id": "84950447",
   "metadata": {},
   "outputs": [],
   "source": [
    "DATOS['Hora de inicio']"
   ]
  },
  {
   "cell_type": "code",
   "execution_count": null,
   "id": "1a808a39",
   "metadata": {},
   "outputs": [],
   "source": [
    "INFO_FORMADORES[:5]"
   ]
  },
  {
   "cell_type": "code",
   "execution_count": null,
   "id": "5df7c57c",
   "metadata": {},
   "outputs": [],
   "source": [
    "type(INFO_FORMADORES['HORA_INICIAL_'].iloc[0])"
   ]
  },
  {
   "cell_type": "code",
   "execution_count": null,
   "id": "a75bcfab",
   "metadata": {},
   "outputs": [],
   "source": [
    "nomFormador = []\n",
    "cedFormador = []\n",
    "for index, row in DATOS.iterrows():\n",
    "    dfFormador = INFO_FORMADORES[INFO_FORMADORES['CUENTA_ZOOM_UIS_DEFINITIVA_2022'] == row['E-mail del usuario']]\n",
    "    nomFormador.append(dfFormador['NOMBRE_DOCENTE_PYTHON'].iloc[0])\n",
    "    cedFormador.append(dfFormador['ID_DOCENTE_PYTHON'].iloc[0])\n",
    "DATOS['NOMBRE_DOCENTE'] = nomFormador\n",
    "DATOS['CEDULA_DOCENTE'] = cedFormador\n",
    "    "
   ]
  },
  {
   "cell_type": "code",
   "execution_count": null,
   "id": "6c25e011",
   "metadata": {},
   "outputs": [],
   "source": [
    "DATOS = DATOS[[\n",
    "    'CEDULA_DOCENTE',\n",
    "    'NOMBRE_DOCENTE',\n",
    "    'E-mail del usuario',\n",
    "    'Hora de inicio',\n",
    "    'Hora de finalización',\n",
    "    'Duración (minutos)',\n",
    "]]"
   ]
  },
  {
   "cell_type": "code",
   "execution_count": null,
   "id": "bbf737c9",
   "metadata": {},
   "outputs": [],
   "source": [
    "DATOS.iloc[1700:,:]"
   ]
  },
  {
   "cell_type": "code",
   "execution_count": null,
   "id": "8fa7c950",
   "metadata": {},
   "outputs": [],
   "source": [
    "dia,mes,anio = DATOS['Hora de inicio'].iloc[0].day, DATOS['Hora de inicio'].iloc[0].month, DATOS['Hora de inicio'].iloc[0].year\n",
    "pd.to_datetime(f'{anio}-{mes}-{dia} {xI}')"
   ]
  },
  {
   "cell_type": "code",
   "execution_count": null,
   "id": "278a2c9c",
   "metadata": {},
   "outputs": [],
   "source": [
    "ced = DATOS['CEDULA_DOCENTE'].iloc[0]\n",
    "testIni = DATOS['Hora de inicio'].iloc[0]\n",
    "testFin = DATOS['Hora de finalización'].iloc[0]\n",
    "dia, mes, anio = testIni.day, testIni.month, testIni.year\n",
    "xI = testIni \n",
    "xF = testFin \n",
    "dfTest = INFO_FORMADORES[INFO_FORMADORES['ID_DOCENTE_PYTHON'] == ced]\n",
    "grupo = -1\n",
    "for index, row in dfTest.iterrows():    \n",
    "    cI = pd.to_datetime(f'{anio}-{mes}-{dia} ' + str(row['HORA_INICIAL_'])) - timedelta(minutes = 15)\n",
    "    cF = pd.to_datetime(f'{anio}-{mes}-{dia} ' + str(row['HORA_FINAL_'])) + timedelta(minutes = 15)\n",
    "    print (cI, xI, cF, xF)\n",
    "    print ((cI <= xI) and (xF <= cF))\n",
    "    if ((cI <= xI) and (xF <= cF)):\n",
    "        grupo = row['GRUPO']\n",
    "        break\n",
    "    elif ((cI <= xI) and (xF <= testIni + timedelta(hours=1))):\n",
    "        grupo = row['GRUPO']\n",
    "        break\n",
    "print(grupo)"
   ]
  },
  {
   "cell_type": "code",
   "execution_count": null,
   "id": "8d84dddf",
   "metadata": {},
   "outputs": [],
   "source": [
    "def matchGrupo(horaIni, horaFin, df, tolerancia = 15):\n",
    "    dia, mes, anio = horaIni.day, horaIni.month, horaIni.year\n",
    "    for index, row in df.iterrows():\n",
    "        cotaInferior = pd.to_datetime(f'{anio}-{mes}-{dia} ' + str(row['HORA_INICIAL_'])) - timedelta(minutes=tolerancia)\n",
    "        cotaSuperior = pd.to_datetime(f'{anio}-{mes}-{dia} ' + str(row['HORA_FINAL_'])) + timedelta(minutes=tolerancia)\n",
    "        if ((cotaInferior <= horaIni) and (horaFin <= cotaSuperior)): # Normal\n",
    "            return row['GRUPO']\n",
    "        elif ((cotaInferior <= horaIni) and (horaFin <= cotaSuperior + timedelta(hours = 1))): # Termina muy tarde\n",
    "            return row['GRUPO']\n",
    "        elif ((cotaInferior - timedelta(hours = 1) <= horaIni) and (horaFin <= cotaSuperior)): # Inicia muy temprano\n",
    "            return row['GRUPO']\n",
    "    return -1"
   ]
  },
  {
   "cell_type": "code",
   "execution_count": null,
   "id": "02cf30e6",
   "metadata": {},
   "outputs": [],
   "source": [
    "ced = DATOS['CEDULA_DOCENTE'].iloc[1856]\n",
    "testIni = DATOS['Hora de inicio'].iloc[1856]\n",
    "testFin = DATOS['Hora de finalización'].iloc[1856]\n",
    "dfTest = INFO_FORMADORES[INFO_FORMADORES['ID_DOCENTE_PYTHON'] == ced]\n",
    "matchGrupo(testIni, testFin, dfTest)"
   ]
  },
  {
   "cell_type": "code",
   "execution_count": null,
   "id": "70979f61",
   "metadata": {},
   "outputs": [],
   "source": [
    "DATOS.iloc[1856]"
   ]
  },
  {
   "cell_type": "code",
   "execution_count": null,
   "id": "fb0b89c2",
   "metadata": {},
   "outputs": [],
   "source": [
    "DATOS_COPIA = DATOS.copy()\n",
    "adicionales = []\n",
    "for index, row in DATOS_COPIA.iterrows():\n",
    "    hIni = row['Hora de inicio']\n",
    "    hFin = row['Hora de finalización']\n",
    "    if (not(str(row['Hora de inicio'].date())) in DIAS_LABORALES) or row['Duración (minutos)'] < 235 or row['Duración (minutos)'] > 500:\n",
    "        continue\n",
    "    nIni = hFin - timedelta(hours = 2)\n",
    "    nDur = row['Duración (minutos)'] // 2\n",
    "    DATOS_COPIA['Hora de finalización'].loc[index] = nIni\n",
    "    DATOS_COPIA['Duración (minutos)'].loc[index] = nDur\n",
    "    adicionales.append([row['CEDULA_DOCENTE'], row['NOMBRE_DOCENTE'], row['E-mail del usuario'], nIni, row['Hora de finalización'], nDur])\n",
    "\n",
    "tam = len(DATOS_COPIA.index)\n",
    "for nuevo in adicionales:\n",
    "    DATOS_COPIA.loc[tam] = nuevo\n",
    "    tam += 1\n",
    "\n",
    "        \n"
   ]
  },
  {
   "cell_type": "code",
   "execution_count": null,
   "id": "5012b806",
   "metadata": {},
   "outputs": [],
   "source": [
    "DATOS_COPIA"
   ]
  },
  {
   "cell_type": "code",
   "execution_count": null,
   "id": "57e2291a",
   "metadata": {},
   "outputs": [],
   "source": [
    "grupos = []\n",
    "for index, row in DATOS_COPIA.iterrows():\n",
    "    if not(str(row['Hora de inicio'].date())) in DIAS_LABORALES:\n",
    "        grupos.append('EXTRA')\n",
    "        continue\n",
    "    if row['Duración (minutos)'] > 500:\n",
    "        print ('Duración demasiado alta')\n",
    "        print (row)\n",
    "        grupo = input('Escriba el grupo al que pertenece esta sesión: ')\n",
    "        grupos.append(grupo)\n",
    "        continue\n",
    "    ced = row['CEDULA_DOCENTE']\n",
    "    dfFormador = INFO_FORMADORES[INFO_FORMADORES['ID_DOCENTE_PYTHON'] == ced]\n",
    "    grupo = matchGrupo(row['Hora de inicio'], row['Hora de finalización'], dfFormador, 20)\n",
    "    if grupo == -1:\n",
    "        print ('\\n No se pudo determinar: ')\n",
    "        print (row)\n",
    "        grupo = input('Escriba el grupo al que pertenece esta sesión: ')\n",
    "    grupos.append(grupo)"
   ]
  },
  {
   "cell_type": "code",
   "execution_count": null,
   "id": "10bd8bc1",
   "metadata": {},
   "outputs": [],
   "source": [
    "DATOS_COPIA['GRUPO'] = grupos"
   ]
  },
  {
   "cell_type": "code",
   "execution_count": null,
   "id": "9c56e51d",
   "metadata": {},
   "outputs": [],
   "source": [
    "DATOS_COPIA.to_excel('./OUTPUT/CONSOLIDADO_DURACIONES_ZOOM.xlsx', index = False)"
   ]
  },
  {
   "cell_type": "code",
   "execution_count": null,
   "id": "8ca5153a",
   "metadata": {},
   "outputs": [],
   "source": [
    "cursos = DATOS_COPIA['GRUPO'].unique()\n",
    "resultados = {\n",
    "    'CEDULA_DOCENTE': [],\n",
    "    'NOMBRE_DOCENTE': [],\n",
    "    'CURSO': [],\n",
    "    'HORAS_ACUMULADAS': [],\n",
    "    'FLAG': [],\n",
    "    'RESTANTE': []\n",
    "}\n",
    "for curso in cursos:\n",
    "    if curso == 'EXTRA' or curso == 'ERROR':\n",
    "        continue\n",
    "    dfCurso = DATOS_COPIA[DATOS_COPIA['GRUPO'] == curso]\n",
    "    resultados['CEDULA_DOCENTE'].append(dfCurso['CEDULA_DOCENTE'].iloc[0])\n",
    "    resultados['NOMBRE_DOCENTE'].append(dfCurso['NOMBRE_DOCENTE'].iloc[0])\n",
    "    resultados['CURSO'].append(curso)\n",
    "    duracionHoras = dfCurso['Duración (minutos)'].sum() / 60\n",
    "    resultados['HORAS_ACUMULADAS'].append(duracionHoras)\n",
    "    resultados['FLAG'].append('x' if duracionHoras < 45.5 else '')\n",
    "    resultados['RESTANTE'].append(50-duracionHoras)"
   ]
  },
  {
   "cell_type": "code",
   "execution_count": null,
   "id": "8b916d12",
   "metadata": {},
   "outputs": [],
   "source": [
    "pd.DataFrame(resultados).to_excel('./OUTPUT/RESULTADOS.xlsx', index = False)"
   ]
  }
 ],
 "metadata": {
  "kernelspec": {
   "display_name": "Python 3 (ipykernel)",
   "language": "python",
   "name": "python3"
  },
  "language_info": {
   "codemirror_mode": {
    "name": "ipython",
    "version": 3
   },
   "file_extension": ".py",
   "mimetype": "text/x-python",
   "name": "python",
   "nbconvert_exporter": "python",
   "pygments_lexer": "ipython3",
   "version": "3.9.7"
  }
 },
 "nbformat": 4,
 "nbformat_minor": 5
}
