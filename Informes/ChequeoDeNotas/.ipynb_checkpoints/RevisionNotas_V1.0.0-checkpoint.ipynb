{
 "cells": [
  {
   "cell_type": "code",
   "execution_count": 1,
   "id": "fafd7f40",
   "metadata": {},
   "outputs": [],
   "source": [
    "import pandas as pd\n",
    "import glob\n",
    "from os.path import basename"
   ]
  },
  {
   "cell_type": "code",
   "execution_count": 2,
   "id": "9699cba4",
   "metadata": {},
   "outputs": [],
   "source": [
    "CURSO = 'F55'\n",
    "RUTA_GENERAL = './INPUT/GRUPOS_PREDEFINITIVAS/'\n",
    "RUTA_ESPECIFICA = RUTA_GENERAL + CURSO\n",
    "PREFIJO_CUESTIONARIOS = 'Cuestionario:'\n",
    "SUFIJO_ACTIVIDADES = ' (Real)'\n",
    "NOMENCLATURA_OMITIR = 5\n",
    "TOLERANCIA_MOODLE = 0.051\n",
    "ACTIVIDADES_CALIFICABLES = [\n",
    "    'Academic Reading 2',    \n",
    "    'Academic Reading 4',\n",
    "    'Assessment Test - Cycle 1',\n",
    "    'ESP Reading 2',\n",
    "    'ESP Reading 4',\n",
    "    'Mid-Term Exam'\n",
    "]\n",
    "BLOQUES_ACTIVIDADES = {\n",
    "    'Total Activities 1 (Real)' : ['ESP Reading 2', 'Academic Reading 2'],\n",
    "    'Total Mid Term Exam (Real)' : ['Mid-Term Exam'],\n",
    "    'Total Activities 2 (Real)': ['Academic Reading 4', 'ESP Reading 4'],\n",
    "    'Total Final Exam (Real)': ['Assessment Test - Cycle 1']\n",
    "}"
   ]
  },
  {
   "cell_type": "code",
   "execution_count": 3,
   "id": "60d2d09a",
   "metadata": {},
   "outputs": [],
   "source": [
    "def extraerNombre(ruta):\n",
    "    nBase = basename(archivo) \n",
    "    tokens = nBase.split('-')\n",
    "    casiNombre = '-'.join(tokens[NOMENCLATURA_OMITIR:-1])\n",
    "    nombre = casiNombre.split('.')[0]\n",
    "    return nombre\n",
    "def generarNombreColumnaLibro(nombre):\n",
    "    return PREFIJO_CUESTIONARIOS + nombre + SUFIJO_ACTIVIDADES\n",
    "\n",
    "def getDfActividadEstudiante(dfs, actividad, codigo):\n",
    "    dfActividad = dfs[actividad]\n",
    "    dfActividad = dfActividad[dfActividad['Número de ID'] == codigo]\n",
    "    return dfActividad\n",
    "def getNotaActividad(dfActividad, rayita = True):\n",
    "    columnaCalificacion = dfActividad.columns[8]\n",
    "    if len(dfActividad) > 0:\n",
    "        return float(dfActividad[columnaCalificacion].iloc[0])\n",
    "    return '-' if rayita else 0\n",
    "def getNotaLibro(notaLibro, rayita = True):\n",
    "    if notaLibro == '-':\n",
    "        return notaLibro if rayita else 0.0\n",
    "    return float(notaLibro)"
   ]
  },
  {
   "cell_type": "code",
   "execution_count": 4,
   "id": "58683c31",
   "metadata": {},
   "outputs": [],
   "source": [
    "archivos = glob.glob(RUTA_ESPECIFICA + '/*.csv')\n",
    "dfs = {}\n",
    "bandera = False\n",
    "for archivo in archivos:\n",
    "    nombre = extraerNombre(archivo)\n",
    "    if nombre in ACTIVIDADES_CALIFICABLES:\n",
    "        df = pd.read_csv(archivo)\n",
    "        df = df.drop(len(df) - 1) # Quita el promedio general\n",
    "        columnaCalificacion = df.columns[8]\n",
    "        df = df.sort_values(columnaCalificacion)\n",
    "        test = df[df[columnaCalificacion] == '-']\n",
    "        if len(test) > 0:\n",
    "            bandera = True\n",
    "            print ('\\nSE ENCONTRARON ESTUDIANTES SIN ENVIAR: ')\n",
    "            print(test[['Nombre', 'Apellido(s)', 'Número de ID','Estado']])\n",
    "        df = df.drop_duplicates('Nombre de usuario', keep = 'last') # Quita todos los intentos y deja el más alto\n",
    "        dfs[nombre] = df\n",
    "    else:\n",
    "        dfs['LIBRO'] = pd.read_csv(archivo)"
   ]
  },
  {
   "cell_type": "code",
   "execution_count": 5,
   "id": "4848e9c8",
   "metadata": {},
   "outputs": [],
   "source": [
    "for indexLibro, rowLibro in dfs['LIBRO'].iterrows():\n",
    "    if bandera:\n",
    "        print ('Hay notas sin enviar')\n",
    "        break\n",
    "    codEst = rowLibro['Número de ID']\n",
    "    for actividad in ACTIVIDADES_CALIFICABLES:\n",
    "        calificacionLibro = getNotaLibro(rowLibro[generarNombreColumnaLibro(actividad)])\n",
    "        dfActividad = getDfActividadEstudiante(dfs, actividad, codEst)\n",
    "        calificacionAct = getNotaActividad(dfActividad)        \n",
    "        if calificacionLibro != calificacionAct and not(calificacionLibro <= calificacionAct <= calificacionLibro + TOLERANCIA_MOODLE):\n",
    "            print ('=============')\n",
    "            print ('\\nINCONSISTENCIA DETECTADA', codEst, actividad)\n",
    "            print ('Calificación libro: ', calificacionLibro,'Calificacion actividad: ', calificacionAct)\n",
    "            #print ((calificacionLibro <= calificacionAct <= calificacionLibro + TOLERANCIA_MOODLE))\n",
    "            #print (calificacionLibro, calificacionAct, calificacionLibro + TOLERANCIA_MOODLE)\n",
    "    \n",
    "    # Verificación de notas en bloques de actividades\n",
    "    for carpeta, items in BLOQUES_ACTIVIDADES.items():\n",
    "        notasCarpeta = 0\n",
    "        for actividad in items:\n",
    "            dfActividad = getDfActividadEstudiante(dfs, actividad, codEst)\n",
    "            notasCarpeta += getNotaActividad(dfActividad, rayita = False)\n",
    "        notaCarpetaLibro = getNotaLibro(rowLibro[carpeta], False) \n",
    "        notaCarpeta = notasCarpeta/len(items)\n",
    "        diff = abs(notaCarpeta - notaCarpetaLibro)\n",
    "        if diff > TOLERANCIA_MOODLE:\n",
    "            print ('++++++++++++')\n",
    "            print ('\\nINCONSISTENCIA EN CARPETA DETECTADA', codEst, carpeta)\n",
    "            print ('Calificación libro: ', notaCarpetaLibro,'Calificacion carpeta: ', notaCarpeta)\n",
    "            "
   ]
  }
 ],
 "metadata": {
  "kernelspec": {
   "display_name": "Python 3 (ipykernel)",
   "language": "python",
   "name": "python3"
  },
  "language_info": {
   "codemirror_mode": {
    "name": "ipython",
    "version": 3
   },
   "file_extension": ".py",
   "mimetype": "text/x-python",
   "name": "python",
   "nbconvert_exporter": "python",
   "pygments_lexer": "ipython3",
   "version": "3.9.7"
  }
 },
 "nbformat": 4,
 "nbformat_minor": 5
}
