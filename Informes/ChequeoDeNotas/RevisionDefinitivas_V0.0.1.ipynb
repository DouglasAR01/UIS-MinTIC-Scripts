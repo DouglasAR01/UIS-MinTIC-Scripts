{
 "cells": [
  {
   "cell_type": "code",
   "execution_count": 1,
   "id": "16348ee3",
   "metadata": {},
   "outputs": [],
   "source": [
    "import pandas as pd\n",
    "import glob\n",
    "from os.path import basename\n",
    "from os.path import exists\n",
    "from datetime import date"
   ]
  },
  {
   "cell_type": "code",
   "execution_count": 2,
   "id": "8cc9587f",
   "metadata": {},
   "outputs": [],
   "source": [
    "CODIGO_MATERIA = 'O'\n",
    "ASIGNATURA = 'DESARROLLO DE SOFTWARE'\n",
    "NUMERO_GRUPOS = 59\n",
    "RUTA = './INPUT/GRUPOS_PREDEFINITIVAS/'\n",
    "CONSULTA = './INPUT/DEFINITIVAS-PROG-23-09.csv'\n",
    "MATERIA_CON_HOMOLOGACION = False\n",
    "GRUPO_HOMOLOGACION = 'HOM'\n",
    "NOMENCLATURA_OMITIR = 5\n",
    "NOMENCLATURA_TIENE_PUNTOS = False\n",
    "TOLERANCIA_MOODLE = 0.051\n",
    "ACTIVIDADES_CALIFICABLES = [\n",
    "    'Sprint 1. Definiendo el Proyecto',\n",
    "    'Sprint 2. Diseñando la Base de Datos',\n",
    "    'Sprint 3. Estructurando el Backend',\n",
    "    'Sprint 4. Estructurando el FrontEnd'\n",
    "]"
   ]
  },
  {
   "cell_type": "code",
   "execution_count": 3,
   "id": "553ac4b7",
   "metadata": {},
   "outputs": [],
   "source": [
    "DEFINITIVAS = pd.read_csv(CONSULTA, skiprows=1, sep=';', encoding='latin-1')\n",
    "DEFINITIVAS = DEFINITIVAS[DEFINITIVAS['ASIGNATURA'] == ASIGNATURA]"
   ]
  },
  {
   "cell_type": "code",
   "execution_count": 4,
   "id": "438f17f0",
   "metadata": {},
   "outputs": [],
   "source": [
    "def extraerNombre(ruta, punto = False):\n",
    "    nBase = basename(archivo) \n",
    "    tokens = nBase.split('-')\n",
    "    casiNombre = '-'.join(tokens[NOMENCLATURA_OMITIR:-1])\n",
    "    nombre = casiNombre.split('.')[0]\n",
    "    return nombre if not(punto) else casiNombre\n",
    "\n",
    "def getNotaLibro(notaLibro, rayita = True):\n",
    "    if notaLibro == '-':\n",
    "        return notaLibro if rayita else 0.0\n",
    "    return float(notaLibro)\n",
    "\n",
    "def buscarEnDf(df, columnaKey, key, columna):\n",
    "    query = df[df[columnaKey] == key][columna]\n",
    "    if len(query) > 0:        \n",
    "        return query.iloc[0]\n",
    "    return -1"
   ]
  },
  {
   "cell_type": "code",
   "execution_count": 5,
   "id": "62ceacf7",
   "metadata": {},
   "outputs": [],
   "source": [
    "if MATERIA_CON_HOMOLOGACION:\n",
    "    DEFINITIVAS_HOMOLOGADOS = DEFINITIVAS[DEFINITIVAS['GRUPO'] == GRUPO_HOMOLOGACION]\n",
    "noEncontrados = []\n",
    "for i in range (1, NUMERO_GRUPOS + 1):\n",
    "    num = str(i)\n",
    "    grupo = CODIGO_MATERIA + num\n",
    "    rutaCarpeta = RUTA + grupo\n",
    "    if not exists(rutaCarpeta):\n",
    "        print (f'El curso {grupo} no tiene una carpeta definida, omitido')\n",
    "        continue\n",
    "    archivosCarpeta = glob.glob(rutaCarpeta + '/*.csv')\n",
    "    df = -1\n",
    "    for archivo in archivosCarpeta:\n",
    "        nombreArchivo = extraerNombre(archivo, NOMENCLATURA_TIENE_PUNTOS)\n",
    "        if not(nombreArchivo in ACTIVIDADES_CALIFICABLES):\n",
    "            df = pd.read_csv(archivo)\n",
    "            break\n",
    "    if type(df) == int:\n",
    "        raise Exception('Archivo de calificaciones no encontrado')\n",
    "    definitivasGrupo = DEFINITIVAS[DEFINITIVAS['GRUPO'] == grupo]\n",
    "    for index, row in df.iterrows():\n",
    "        nota = round(getNotaLibro(row['Total del curso (Real)'], False), 1)\n",
    "        codBase = row['Número de ID'] if type(row['Número de ID']) == str else '-1'\n",
    "        codigoEst = int(codBase.split('-')[-1])\n",
    "        notaSA = buscarEnDf(definitivasGrupo, 'ESTUDIANTE', codigoEst, 'NOTA')\n",
    "        if nota != notaSA:\n",
    "            homologado = False\n",
    "            if MATERIA_CON_HOMOLOGACION:\n",
    "                notaHom = buscarEnDf(DEFINITIVAS_HOMOLOGADOS, 'ESTUDIANTE', codigoEst, 'NOTA')\n",
    "                if notaHom != -1:\n",
    "                    homologado = True\n",
    "            noEncontrados.append([codigoEst, grupo, homologado, nota, notaSA])\n",
    "        "
   ]
  },
  {
   "cell_type": "code",
   "execution_count": 6,
   "id": "a11b131a",
   "metadata": {},
   "outputs": [
    {
     "name": "stdout",
     "output_type": "stream",
     "text": [
      "68\n"
     ]
    }
   ],
   "source": [
    "nNoEncontrados = len(noEncontrados)\n",
    "print (nNoEncontrados)\n",
    "if nNoEncontrados > 0:\n",
    "    pd.DataFrame(noEncontrados, columns = ['CÓDIGO', 'GRUPO', 'HOMOLOGADO', 'NOTA_LIBRO', 'NOTA_SISTEMA_ACADÉMICO']).to_excel('./OUTPUT/AUDITORIA_NOTAS_SA_'+ ASIGNATURA + '_' + str(date.today()) + '.xlsx', index = False)"
   ]
  },
  {
   "cell_type": "code",
   "execution_count": null,
   "id": "96904547",
   "metadata": {},
   "outputs": [],
   "source": []
  }
 ],
 "metadata": {
  "kernelspec": {
   "display_name": "Python 3 (ipykernel)",
   "language": "python",
   "name": "python3"
  },
  "language_info": {
   "codemirror_mode": {
    "name": "ipython",
    "version": 3
   },
   "file_extension": ".py",
   "mimetype": "text/x-python",
   "name": "python",
   "nbconvert_exporter": "python",
   "pygments_lexer": "ipython3",
   "version": "3.9.7"
  }
 },
 "nbformat": 4,
 "nbformat_minor": 5
}
