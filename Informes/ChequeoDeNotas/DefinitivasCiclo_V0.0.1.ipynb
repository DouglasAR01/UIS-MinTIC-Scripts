{
 "cells": [
  {
   "cell_type": "code",
   "execution_count": 1,
   "id": "36a09230",
   "metadata": {},
   "outputs": [],
   "source": [
    "import pandas as pd\n",
    "from datetime import date"
   ]
  },
  {
   "cell_type": "code",
   "execution_count": 2,
   "id": "c32d6e4e",
   "metadata": {},
   "outputs": [],
   "source": [
    "DATOS = pd.read_csv('./INPUT/DEFINITIVAS_8-06.csv', skiprows=1, sep=';', encoding='latin-1')\n",
    "CANCELADOS = pd.read_excel('./INPUT/INFO_MATRICULAS.xlsx', engine='openpyxl', sheet_name='4. CANCELADOS')['CODIGO_UIS'].unique()\n",
    "CODIGOS = DATOS['ESTUDIANTE'].unique()\n",
    "CICLO = 1\n",
    "ASIGNATURA_PESADA = 'PYTHON'\n",
    "PONDERADO_PESADA = 0.8\n",
    "PONDERADO_LIVIANAS = 0.1\n",
    "UMBRAL_REPROBADO = 2.945\n",
    "REDONDEO_DECIMALES = 1"
   ]
  },
  {
   "cell_type": "code",
   "execution_count": 3,
   "id": "e15f19c4",
   "metadata": {},
   "outputs": [],
   "source": [
    "rta = {\n",
    "    'CODIGO': [],\n",
    "    'NOMBRE': [],\n",
    "    'APELLIDO': [],\n",
    "    'DEFINITIVA_REAL': [],\n",
    "    'DEFINITIVA_CICLO': [],\n",
    "    'REPROBÓ': [],\n",
    "    'CANCELÓ_MATRICULA': []\n",
    "}\n",
    "asignaturas = DATOS['ASIGNATURA'].unique()\n",
    "for asignatura in asignaturas:    \n",
    "    rta[asignatura] = []\n",
    "for cod in CODIGOS:\n",
    "    df = DATOS[DATOS['ESTUDIANTE'] == cod]\n",
    "    acum = 0\n",
    "    for index, row in df.iterrows():\n",
    "        rta[row['ASIGNATURA']].append(row['NOTA'])\n",
    "        if row['ASIGNATURA'] == ASIGNATURA_PESADA:\n",
    "            acum += row['NOTA'] * PONDERADO_PESADA\n",
    "        else:\n",
    "            acum += row['NOTA'] * PONDERADO_LIVIANAS\n",
    "    definitiva = round(acum, REDONDEO_DECIMALES)\n",
    "    rta['CODIGO'].append(cod)\n",
    "    rta['NOMBRE'].append(row['NOMBRES'])\n",
    "    rta['APELLIDO'].append(row['APELLIDOS'])\n",
    "    rta['DEFINITIVA_REAL'].append(acum)\n",
    "    rta['DEFINITIVA_CICLO'].append(definitiva)\n",
    "    rta['REPROBÓ'].append(True if definitiva < UMBRAL_REPROBADO else False)\n",
    "    rta['CANCELÓ_MATRICULA'].append(True if cod in CANCELADOS else False)\n",
    "rCompleto = pd.DataFrame(rta)\n",
    "rCompleto = rCompleto[['CODIGO', 'NOMBRE', 'APELLIDO'] + list(asignaturas) + ['DEFINITIVA_REAL', 'DEFINITIVA_CICLO', 'REPROBÓ', 'CANCELÓ_MATRICULA']]\n",
    "rCompleto.to_excel('./OUTPUT/DEFINITIVAS_CICLO_' + str(CICLO) + '_' + str(date.today()) + '.xlsx', index = False)\n",
    "rNivelar = rCompleto[(rCompleto['REPROBÓ'] == True) & (rCompleto['CANCELÓ_MATRICULA'] == False)]\n",
    "rNivelar.to_excel('./OUTPUT/ESTUDIANTES_NIVELAR_CICLO_' + str(CICLO) + '_' + str(date.today()) + '.xlsx', index = False)"
   ]
  }
 ],
 "metadata": {
  "kernelspec": {
   "display_name": "Python 3 (ipykernel)",
   "language": "python",
   "name": "python3"
  },
  "language_info": {
   "codemirror_mode": {
    "name": "ipython",
    "version": 3
   },
   "file_extension": ".py",
   "mimetype": "text/x-python",
   "name": "python",
   "nbconvert_exporter": "python",
   "pygments_lexer": "ipython3",
   "version": "3.9.7"
  }
 },
 "nbformat": 4,
 "nbformat_minor": 5
}
