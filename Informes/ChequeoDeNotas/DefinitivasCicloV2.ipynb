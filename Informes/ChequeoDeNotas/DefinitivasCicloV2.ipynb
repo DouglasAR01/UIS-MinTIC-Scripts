{
 "cells": [
  {
   "cell_type": "markdown",
   "id": "e252a2f7",
   "metadata": {},
   "source": [
    "### Información relevante\n",
    "La diferencia de este script con la versión 1 es que este omite los cancelados sin necesidad de indicarlos, partiendo de la premisa que todo estudiante debe de tener 3 notas registradas en las definitivas. Además, no incluye información relacionada a 100k."
   ]
  },
  {
   "cell_type": "code",
   "execution_count": 1,
   "id": "88d072a5",
   "metadata": {},
   "outputs": [],
   "source": [
    "import pandas as pd\n",
    "from datetime import date"
   ]
  },
  {
   "cell_type": "code",
   "execution_count": 2,
   "id": "e0ccf858",
   "metadata": {},
   "outputs": [],
   "source": [
    "DATOS = pd.read_csv('./INPUT/DEFINITIVAS-C2-1-12.csv', skiprows=1, sep=';', encoding='latin-1')\n",
    "CODIGOS = DATOS['ESTUDIANTE'].unique()\n",
    "CICLO = 2\n",
    "# La llave debe ser el nombre de la asignatura y el contenido una tupla (porcentaje, haceParteParcial),\n",
    "# donde haceParteParcial es Verdadero si y solo si se requiere en el calculo individual de notas parciales.\n",
    "# por defecto debe ser Verdadero si la asignatura NO es la asignatura con retos/sprints.\n",
    "NOMBRE_ASIG_PRINCIPAL = 'JAVA'\n",
    "ASIGNATURAS = {\n",
    "    NOMBRE_ASIG_PRINCIPAL: (0.8, False),\n",
    "    'INGLES II': (0.1, True),\n",
    "    'COACHING II': (0.1, True)\n",
    "}\n",
    "# Necesario por si el ciclo cuenta con más de una asignatura principal, como lo es el ciclo 4\n",
    "PROGRAMACIONES = ['JAVA']\n",
    "UMBRAL_REPROBADO_SA = 2.945\n",
    "UMBRAL_REPROBADO_100K = 3\n",
    "REDONDEO_DECIMALES_SA = 1\n",
    "REDONDEO_DECIMALES_100K = 2\n",
    "\n",
    "INCLUIR_RETOS = False\n",
    "if INCLUIR_RETOS:\n",
    "    DATOS_PARCIALES = pd.read_csv('./INPUT/PARCIALES-C1-1-12.csv', skiprows=1, sep=';', encoding='latin-1')\n",
    "# Los porcentajes de la siguiente lista NO deben ser los de Moodle sino los dados por el MinTIC/Operador para EL CICLO\n",
    "RETOS = [\n",
    "    ('RETO_1', 0.1),\n",
    "    ('RETO_2', 0.1),\n",
    "    ('RETO_3', 0.2),\n",
    "    ('RETO_4', 0.2),\n",
    "    ('RETO_5', 0.2),\n",
    "]\n",
    "N_RETOS = len(RETOS)"
   ]
  },
  {
   "cell_type": "code",
   "execution_count": 3,
   "id": "ee89a1e3",
   "metadata": {},
   "outputs": [],
   "source": [
    "rta = {\n",
    "    'CÓDIGO': [],\n",
    "    'NOMBRE': [],\n",
    "    'APELLIDO': [],\n",
    "    'DEFINITIVA_REAL_SA': [],\n",
    "    'DEFINITIVA_CICLO_SA': [],\n",
    "    'REPROBÓ_SA': [],\n",
    "}\n",
    "for asignatura in ASIGNATURAS:    \n",
    "    rta[asignatura] = []\n",
    "if INCLUIR_RETOS:\n",
    "    for reto, _ in RETOS:\n",
    "        rta[reto] = []\n",
    "    rta['DEFINITIVA_100K'] = []\n",
    "    rta['REPROBÓ_100K'] = []\n",
    "    rta['SA_IGUAL_A_100K'] = []\n",
    "    rta['DIFERENCIA_DEFSA_DEF100K'] = []\n",
    "\n",
    "omitidos = []\n",
    "for cod in CODIGOS:\n",
    "    if cod in omitidos:\n",
    "        continue\n",
    "    dfDefinitiva = DATOS[DATOS['ESTUDIANTE'] == cod]\n",
    "    # Omisión de cancelados\n",
    "    if len(dfDefinitiva) < 3:\n",
    "        omitidos.append(cod)\n",
    "        continue\n",
    "    acum = 0\n",
    "    acumP = 0\n",
    "    for index, row in dfDefinitiva.iterrows():\n",
    "        asignaturaActual = row['ASIGNATURA']\n",
    "        asignaturaActual = asignaturaActual if asignaturaActual not in PROGRAMACIONES else NOMBRE_ASIG_PRINCIPAL\n",
    "        rta[asignaturaActual].append(row['NOTA'])\n",
    "        nota = row['NOTA'] * ASIGNATURAS[asignaturaActual][0]\n",
    "        acum += nota\n",
    "        acumP += nota if ASIGNATURAS[asignaturaActual][1] else 0\n",
    "        \n",
    "    definitiva = round(acum, REDONDEO_DECIMALES_SA)\n",
    "    repSA = True if definitiva < UMBRAL_REPROBADO_SA else False\n",
    "    rta['CÓDIGO'].append(cod)\n",
    "    rta['NOMBRE'].append(row['NOMBRES'])\n",
    "    rta['APELLIDO'].append(row['APELLIDOS'])\n",
    "    rta['DEFINITIVA_REAL_SA'].append(acum)\n",
    "    rta['DEFINITIVA_CICLO_SA'].append(definitiva)\n",
    "    rta['REPROBÓ_SA'].append(repSA)\n",
    "    \n",
    "    if INCLUIR_RETOS:\n",
    "        dfParciales = -1\n",
    "        for asig in PROGRAMACIONES:\n",
    "            dfTestP = DATOS_PARCIALES[(DATOS_PARCIALES['ESTUDIANTE'] == cod) & (DATOS_PARCIALES['ASIGNATURA'] == asig)]\n",
    "            if len(dfTestP) != 0:\n",
    "                dfParciales = dfTestP\n",
    "                break\n",
    "        if type(dfParciales) == int or len(dfParciales) != N_RETOS:\n",
    "            print ('Error en número de actividades parciales', cod)\n",
    "        for i in range(N_RETOS):\n",
    "            reto, porcentaje = RETOS[i]\n",
    "            notaP = dfParciales[dfParciales['No'] == (i+1)]['NOTA'].iloc[0]\n",
    "            rta[reto].append(notaP)\n",
    "            acumP += notaP * porcentaje\n",
    "        def100k = round(acumP, REDONDEO_DECIMALES_100K)\n",
    "        rep100k = True if def100k < UMBRAL_REPROBADO_100K else False\n",
    "        rta['DEFINITIVA_100K'].append(def100k)\n",
    "        rta['REPROBÓ_100K'].append(rep100k)\n",
    "        rta['SA_IGUAL_A_100K'].append(repSA == rep100k)\n",
    "        rta['DIFERENCIA_DEFSA_DEF100K'].append(definitiva - def100k)"
   ]
  },
  {
   "cell_type": "code",
   "execution_count": 4,
   "id": "561f7e7a",
   "metadata": {},
   "outputs": [
    {
     "name": "stdout",
     "output_type": "stream",
     "text": [
      "CÓDIGO 4681\n",
      "NOMBRE 4681\n",
      "APELLIDO 4681\n",
      "DEFINITIVA_REAL_SA 4681\n",
      "DEFINITIVA_CICLO_SA 4681\n",
      "REPROBÓ_SA 4681\n",
      "JAVA 4681\n",
      "INGLES II 4681\n",
      "COACHING II 4681\n"
     ]
    }
   ],
   "source": [
    "for llave, valor in rta.items():\n",
    "    print (llave, len(valor))"
   ]
  },
  {
   "cell_type": "code",
   "execution_count": 5,
   "id": "85e28923",
   "metadata": {},
   "outputs": [],
   "source": [
    "# Generación y guardado Dataset definitivas\n",
    "rCompleto = pd.DataFrame(rta)\n",
    "ordenRCompleto = [\n",
    "    'CÓDIGO',\n",
    "    'NOMBRE',\n",
    "    'APELLIDO',\n",
    "]\n",
    "ordenRCompleto += list(ASIGNATURAS.keys())\n",
    "if INCLUIR_RETOS:\n",
    "    ordenRCompleto += [reto[0] for reto in RETOS]\n",
    "ordenRCompleto += ['DEFINITIVA_REAL_SA', 'DEFINITIVA_CICLO_SA', 'REPROBÓ_SA']\n",
    "if INCLUIR_RETOS:\n",
    "    ordenRCompleto += ['DEFINITIVA_100K', 'REPROBÓ_100K', 'SA_IGUAL_A_100K', 'DIFERENCIA_DEFSA_DEF100K']\n",
    "rCompleto = rCompleto[ordenRCompleto]\n",
    "rCompleto.to_excel('./OUTPUT/DEFINITIVAS_CICLO_' + str(CICLO) + '_' + str(date.today()) + '.xlsx', index = False)"
   ]
  }
 ],
 "metadata": {
  "kernelspec": {
   "display_name": "Python 3 (ipykernel)",
   "language": "python",
   "name": "python3"
  },
  "language_info": {
   "codemirror_mode": {
    "name": "ipython",
    "version": 3
   },
   "file_extension": ".py",
   "mimetype": "text/x-python",
   "name": "python",
   "nbconvert_exporter": "python",
   "pygments_lexer": "ipython3",
   "version": "3.10.4"
  }
 },
 "nbformat": 4,
 "nbformat_minor": 5
}
