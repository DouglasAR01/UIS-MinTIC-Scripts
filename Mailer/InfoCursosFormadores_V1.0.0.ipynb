{
 "cells": [
  {
   "cell_type": "code",
   "execution_count": 1,
   "id": "fe66fd16",
   "metadata": {},
   "outputs": [],
   "source": [
    "import pandas as pd\n",
    "import smtplib\n",
    "import os\n",
    "import json\n",
    "from email.mime.multipart import MIMEMultipart\n",
    "from email.mime.text import MIMEText\n",
    "from email.mime.application import MIMEApplication\n",
    "from email import encoders"
   ]
  },
  {
   "cell_type": "code",
   "execution_count": 8,
   "id": "ee4dec3f",
   "metadata": {},
   "outputs": [],
   "source": [
    "# Configuración de comportamiento\n",
    "ORIGEN = 'locuestkey@gmail.com'\n",
    "ASUNTO = 'Correo de prueba'\n",
    "SERVIDOR_SMTP = 'smtp.gmail.com:587'\n",
    "CORREO_TEST = True\n",
    "\n",
    "COLUMNA_CORREO = 'CORREO_DOCENTE'\n",
    "COLUMNAS = [\n",
    "    'CODIGO_CURSO',\n",
    "    'NOMBRE_TUTOR',\n",
    "    'CORREO_TUTOR',\n",
    "    'TELEFONO_TUTOR',\n",
    "    'PROFESIONAL+',\n",
    "    'BACHILLER',\n",
    "    'TÉCNICO',\n",
    "    'DESCONOCIDO',\n",
    "    'TOTAL',\n",
    "    'INDICE_HOMOGENEIDAD'\n",
    "]"
   ]
  },
  {
   "cell_type": "code",
   "execution_count": 3,
   "id": "c59d21fa",
   "metadata": {},
   "outputs": [],
   "source": [
    "MSG = \"\"\"Bucaramanga, 17 de abril de 2022\n",
    "Respetado profesional\n",
    "{formador}\n",
    "Programa Misión TIC 2022\n",
    "\n",
    "En vista a que va a iniciar el Ciclo 1, adjunto a este correo se encuentran las listas de clase de cada uno de los grupos a los que usted pertenece y con la información de la caracterización de cada curso.\n",
    "Esta caracterización está dada por el nivel académico de cada tripulante, donde está dividido en 4 clases: Bachiller, Técnico, Profesional+ y Desconocido. \n",
    "A partir de estas 4 posibles clases, se calcula un índice de homogeneidad por cada grupo. Este índice varía de 0 hasta 1, a más cercano esté el índice a 1 significa que el grupo es más homogéneo.\n",
    "Esta información se le proporciona para que tenga una idea general sobre los tripulantes de sus cursos, con el fin de abordar, de ser necesario, diferentes estrategias pedagógicas.\n",
    "\n",
    "ESTE EMAIL SE ENVIÓ DE FORMA AUTOMÁTICA, NO RESPONDA A ESTE CORREO. Cualquier información, contacte a misiontic.monitor@uis.edu.co o rectoria.misiontic@uis.edu.co.\n",
    "\"\"\""
   ]
  },
  {
   "cell_type": "code",
   "execution_count": 4,
   "id": "10b04849",
   "metadata": {},
   "outputs": [],
   "source": [
    "ruta = './INPUT/INFO_CURSOS/LISTA_CURSOS_FORMADORES_EMAIL.xlsx' if not CORREO_TEST else './INPUT/INFO_CURSOS/TEST.xlsx'"
   ]
  },
  {
   "cell_type": "code",
   "execution_count": 5,
   "id": "8e9deb52",
   "metadata": {},
   "outputs": [],
   "source": [
    "f = open('CREDENCIALES.json')\n",
    "CREDENCIALES = json.load(f)\n",
    "f.close()\n",
    "ruta = './INPUT/INFO_CURSOS/LISTA_CURSOS_FORMADORES_EMAIL.xlsx' if not CORREO_TEST else './INPUT/INFO_CURSOS/TEST.xlsx'\n",
    "datos = pd.read_excel(ruta, engine = 'openpyxl')"
   ]
  },
  {
   "cell_type": "code",
   "execution_count": 6,
   "id": "2d2e5d38",
   "metadata": {},
   "outputs": [],
   "source": [
    "def enviarCorreo(origen, destino, asunto, mensaje, adjuntos = []):\n",
    "    multipart = MIMEMultipart()\n",
    "    multipart['From'] = origen\n",
    "    multipart['To'] = destino\n",
    "    multipart['Subject'] = asunto\n",
    "    multipart.attach(MIMEText(mensaje))\n",
    "    for adjunto in adjuntos:\n",
    "        f = open(adjunto, 'rb')\n",
    "        nFile = MIMEApplication(f.read(), 'vnd.ms-excel')\n",
    "        f.close()\n",
    "        encoders.encode_base64(nFile)\n",
    "        nFile.add_header('Content-Disposition', 'attachment', filename=os.path.basename(adjunto))\n",
    "        multipart.attach(nFile)\n",
    "    return multipart"
   ]
  },
  {
   "cell_type": "code",
   "execution_count": 9,
   "id": "d896d61d",
   "metadata": {},
   "outputs": [
    {
     "data": {
      "text/plain": [
       "(221,\n",
       " b'2.0.0 closing connection c131-20020a379a89000000b0069c903625absm5526037qke.102 - gsmtp')"
      ]
     },
     "execution_count": 9,
     "metadata": {},
     "output_type": "execute_result"
    }
   ],
   "source": [
    "destinos = datos[COLUMNA_CORREO].unique()\n",
    "servidor = smtplib.SMTP(SERVIDOR_SMTP)\n",
    "servidor.starttls()\n",
    "servidor.login(CREDENCIALES['USUARIO'], CREDENCIALES['PASS'])\n",
    "for destino in destinos:\n",
    "    dfD = datos[datos[COLUMNA_CORREO] == destino]\n",
    "    nombreFormador = dfD['NOMBRE_DOCENTE'].iloc[0]\n",
    "    adjuntos = []\n",
    "    for index, row in dfD.iterrows():\n",
    "        ruta = './INPUT/INFO_CURSOS/LISTAS/' + row['CODIGO_CURSO'] + '.xlsx'\n",
    "        adjuntos.append(ruta)\n",
    "    nombreArchivo = 'INFO_GRUPOS_' + nombreFormador.replace(' ', '_')\n",
    "    ruta = './Temp/' + nombreArchivo + '.xlsx'\n",
    "    dfD[COLUMNAS].to_excel(ruta, index = False)\n",
    "    adjuntos.append(ruta)\n",
    "    msg = enviarCorreo(ORIGEN, destino, ASUNTO, MSG.format(formador = nombreFormador), adjuntos)\n",
    "    servidor.sendmail(ORIGEN, destino, msg.as_string())\n",
    "servidor.quit()"
   ]
  },
  {
   "cell_type": "code",
   "execution_count": null,
   "id": "9cc2471e",
   "metadata": {},
   "outputs": [],
   "source": [
    "# Limpiado de archivos temporales\n"
   ]
  }
 ],
 "metadata": {
  "kernelspec": {
   "display_name": "Python 3 (ipykernel)",
   "language": "python",
   "name": "python3"
  },
  "language_info": {
   "codemirror_mode": {
    "name": "ipython",
    "version": 3
   },
   "file_extension": ".py",
   "mimetype": "text/x-python",
   "name": "python",
   "nbconvert_exporter": "python",
   "pygments_lexer": "ipython3",
   "version": "3.9.7"
  }
 },
 "nbformat": 4,
 "nbformat_minor": 5
}
