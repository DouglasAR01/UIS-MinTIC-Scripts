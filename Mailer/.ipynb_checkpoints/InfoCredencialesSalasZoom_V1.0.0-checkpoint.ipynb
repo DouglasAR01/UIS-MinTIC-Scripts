{
 "cells": [
  {
   "cell_type": "code",
   "execution_count": null,
   "id": "4e852b79",
   "metadata": {},
   "outputs": [],
   "source": [
    "import pandas as pd\n",
    "import smtplib\n",
    "import os\n",
    "import json\n",
    "import matplotlib.pyplot as plt\n",
    "from email.mime.multipart import MIMEMultipart\n",
    "from email.mime.text import MIMEText\n",
    "from email.mime.image import MIMEImage\n",
    "from email.mime.application import MIMEApplication\n",
    "from email import encoders\n",
    "from email.utils import make_msgid"
   ]
  },
  {
   "cell_type": "code",
   "execution_count": null,
   "id": "87264cd4",
   "metadata": {},
   "outputs": [],
   "source": [
    "# Configuración de comportamiento\n",
    "ORIGEN = 'misiontic.noresponder@outlook.com'\n",
    "ASUNTO = 'ACTUALIZACIÓN: GRUPOS Y HORARIOS ASIGNADOS - CICLO 3'\n",
    "SERVIDOR_SMTP = 'smtp-mail.outlook.com:587'\n",
    "CORREO_TEST = False\n",
    "ENVIO_A_PENDIENTES = False\n",
    "\n",
    "if CORREO_TEST:\n",
    "    RUTA = './INPUT/INFO_CURSOS/TEST_3.xlsx'\n",
    "elif ENVIO_A_PENDIENTES:\n",
    "    RUTA = './INPUT/INFO_CURSOS/ENVIOS_PENDIENTES_CREDENCIALES.xlsx'\n",
    "else:\n",
    "    RUTA = './INPUT/INFO_CURSOS/LISTA_CREDENCIALES_FORMADORES_fixed_EdwardO21.xlsx'\n",
    "\n",
    "COLUMNA_CORREO = 'CORREO_DOCENTE'\n",
    "COLUMNAS = [\n",
    "    'ASIGNATURA',\n",
    "    'GRUPO',\n",
    "    'DIA',\n",
    "    'HORA_INICIAL_',\n",
    "    'HORA_FINAL_',\n",
    "    'CUENTA_ZOOM_UIS_DEFINITIVA_2022',    \n",
    "    'CONTRASEÑA_ZOOM',\n",
    "    'ENLACE_ZOOM_CLASES_SINCRÓNICAS',\n",
    "]"
   ]
  },
  {
   "cell_type": "code",
   "execution_count": null,
   "id": "baa38938",
   "metadata": {},
   "outputs": [],
   "source": [
    "MSG_HEAD = \"\"\"<html><body><p>Bucaramanga, 6 de agosto de 2022<br>\n",
    "Respetado profesional<br>\n",
    "<b>{formador}</b><br>\n",
    "Programa Misión TIC 2022 - Ciclo 3</p>\n",
    "\n",
    "\"\"\"\n",
    "MSG_BODY = \"\"\"<p>Dado que este lunes 8 de agosto inicia el ciclo 3, se le comparten sus grupos asignados y sus horarios. Tenga en cuenta que la hora va en <u><b>FORMATO DE 24 HORAS</u></b>:<br></p>\n",
    "\n",
    "\"\"\"\n",
    "\n",
    "MSG_FOOTER = \"\"\"<p>ESTE CORREO SE ENVIÓ DE FORMA AUTOMÁTICA, NO RESPONDA A ESTA DIRECCIÓN O CORREO. Cualquier información, contacte a misiontic.monitor@uis.edu.co o rectoria.misiontic@uis.edu.co.</p>\n",
    "<p>Tecnología diseñada por <a href=\"https://nuwebs.com.co\">Nuwebs</a></p>\n",
    "<p>Bucaramanga, Colombia. +57 3184301032</p>\n",
    "</body></html>\"\"\""
   ]
  },
  {
   "cell_type": "code",
   "execution_count": null,
   "id": "502791bd",
   "metadata": {},
   "outputs": [],
   "source": [
    "f = open('CREDENCIALES.json')\n",
    "CREDENCIALES = json.load(f)\n",
    "f.close()\n",
    "datos = pd.read_excel(RUTA, engine = 'openpyxl')"
   ]
  },
  {
   "cell_type": "code",
   "execution_count": null,
   "id": "ad86d096",
   "metadata": {},
   "outputs": [],
   "source": [
    "datos"
   ]
  },
  {
   "cell_type": "code",
   "execution_count": null,
   "id": "48bbdad5",
   "metadata": {},
   "outputs": [],
   "source": [
    "datos['HORA_INICIAL_'] = datos['HORA_INICIAL_'].astype(str)\n",
    "datos['HORA_FINAL_'] = datos['HORA_FINAL_'].astype(str)"
   ]
  },
  {
   "cell_type": "code",
   "execution_count": null,
   "id": "e901d2a1",
   "metadata": {},
   "outputs": [],
   "source": [
    "def generarCorreo(origen, destino, asunto):\n",
    "    multipart = MIMEMultipart('related') # Posible quitar related\n",
    "    multipart['From'] = origen\n",
    "    multipart['To'] = destino\n",
    "    multipart['Subject'] = asunto\n",
    "    multipart['X-Priority'] = '2'\n",
    "    multipart.preamble = '====================================================='\n",
    "    \n",
    "    return multipart\n",
    "\n",
    "def getCuerpoCorreo(multipart, formador, df): \n",
    "    msgAlternative = MIMEMultipart('alternative') #Posible quitar esto\n",
    "    multipart.attach(msgAlternative)\n",
    "    \n",
    "    cuerpoAdicional = '<table border=\"1\"><tbody><tr>'\n",
    "    for columna in COLUMNAS:\n",
    "        cuerpoAdicional += '<th>' + columna + '</th>'\n",
    "    cuerpoAdicional += '</tr>'\n",
    "    for index, row in df.iterrows():\n",
    "        cuerpoAdicional += '<tr>'\n",
    "        for columna in COLUMNAS:            \n",
    "            cuerpoAdicional += '<td>' + row[columna] + '</td>'\n",
    "        cuerpoAdicional += '</tr>'        \n",
    "    cuerpoAdicional += '</tbody></table>'\n",
    "    cuerpoAdicional += '<p><b>Nota:</b> Si no puede visualizar la tabla, sus credenciales igualmente están en el archivo adjunto a este correo</p>'\n",
    "    cuerpo = MSG_HEAD.format(formador = formador) + MSG_BODY + cuerpoAdicional + MSG_FOOTER\n",
    "    cuerpo = MIMEText(cuerpo, 'html', 'utf-8')\n",
    "    msgAlternative.attach(cuerpo)\n",
    "    return multipart, cuerpo\n",
    "\n",
    "def getAdjuntos(multipart, imgs = [], adjuntos = []):\n",
    "    for img in imgs:\n",
    "        multipart.attach(img)\n",
    "    for adjunto in adjuntos:\n",
    "        f = open(adjunto, 'rb')\n",
    "        nFile = MIMEApplication(f.read(), 'vnd.ms-excel')\n",
    "        f.close()\n",
    "        encoders.encode_base64(nFile)\n",
    "        nFile.add_header('Content-Disposition', 'attachment', filename=os.path.basename(adjunto))\n",
    "        multipart.attach(nFile)\n",
    "    return multipart"
   ]
  },
  {
   "cell_type": "code",
   "execution_count": null,
   "id": "50fe2e83",
   "metadata": {},
   "outputs": [],
   "source": [
    "enviados = datos.copy()\n",
    "destinos = datos[COLUMNA_CORREO].unique()\n",
    "servidor = smtplib.SMTP(SERVIDOR_SMTP)\n",
    "servidor.starttls()\n",
    "servidor.login(CREDENCIALES['USUARIO'], CREDENCIALES['PASS'])\n",
    "cont = 1\n",
    "for destino in destinos:\n",
    "    dfD = datos[datos[COLUMNA_CORREO] == destino]\n",
    "    nombreFormador = dfD['NOMBRE_DOCENTE'].iloc[0]\n",
    "    adjuntos = []\n",
    "    nombreArchivo = 'GRUPOS_ASIGNADOS_' + nombreFormador.replace(' ', '_')\n",
    "    ruta = './Temp/' + nombreArchivo + '.xlsx'\n",
    "    dfD[COLUMNAS].to_excel(ruta, index = False)\n",
    "    adjuntos.append(ruta)\n",
    "    \n",
    "    base = generarCorreo(ORIGEN, destino, ASUNTO)\n",
    "    base, contenido = getCuerpoCorreo(base, nombreFormador, dfD)\n",
    "    base = getAdjuntos(base, [], adjuntos)\n",
    "    try:        \n",
    "        servidor.sendmail(ORIGEN, destino, base.as_string())\n",
    "        enviados = enviados[enviados[COLUMNA_CORREO] != destino]\n",
    "    except:\n",
    "        enviados.to_excel('./INPUT/INFO_CURSOS/ENVIOS_PENDIENTES_CREDENCIALES.xlsx', index=False)\n",
    "        print ('Ocurrió un error al enviar el correo a', destino)\n",
    "        break\n",
    "    print (cont, 'Enviado a', nombreFormador, destino)\n",
    "    cont += 1\n",
    "servidor.quit()"
   ]
  },
  {
   "cell_type": "code",
   "execution_count": null,
   "id": "2981ab5f",
   "metadata": {},
   "outputs": [],
   "source": []
  }
 ],
 "metadata": {
  "kernelspec": {
   "display_name": "Python 3 (ipykernel)",
   "language": "python",
   "name": "python3"
  },
  "language_info": {
   "codemirror_mode": {
    "name": "ipython",
    "version": 3
   },
   "file_extension": ".py",
   "mimetype": "text/x-python",
   "name": "python",
   "nbconvert_exporter": "python",
   "pygments_lexer": "ipython3",
   "version": "3.9.7"
  }
 },
 "nbformat": 4,
 "nbformat_minor": 5
}
