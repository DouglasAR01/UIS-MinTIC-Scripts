{
 "cells": [
  {
   "cell_type": "code",
   "execution_count": 1,
   "id": "fe66fd16",
   "metadata": {},
   "outputs": [],
   "source": [
    "import pandas as pd\n",
    "import smtplib\n",
    "import os\n",
    "import json\n",
    "from email.mime.multipart import MIMEMultipart\n",
    "from email.mime.text import MIMEText\n",
    "from email.mime.application import MIMEApplication\n",
    "from email import encoders"
   ]
  },
  {
   "cell_type": "code",
   "execution_count": 2,
   "id": "ee4dec3f",
   "metadata": {},
   "outputs": [],
   "source": [
    "# Configuración de comportamiento\n",
    "ORIGEN = 'misiontic.noresponder@outlook.com'\n",
    "ASUNTO = 'ACTUALIZACIÓN: LISTAS DE CLASE E INFORMACIÓN DE GRUPOS'\n",
    "SERVIDOR_SMTP = 'smtp-mail.outlook.com:587'\n",
    "CORREO_TEST = False\n",
    "\n",
    "COLUMNA_CORREO = 'CORREO_DOCENTE'\n",
    "COLUMNAS = [\n",
    "    'CODIGO_CURSO',\n",
    "    'PROFESIONAL+',\n",
    "    'BACHILLER',\n",
    "    'TÉCNICO',\n",
    "    'DESCONOCIDO',\n",
    "    'TOTAL',\n",
    "    'INDICE_HOMOGENEIDAD',    \n",
    "    'NOMBRE_TUTOR',\n",
    "    'CORREO_TUTOR',\n",
    "    'TELEFONO_TUTOR',\n",
    "    # QUITAR INFO DE TUTOR EN GURPOS INGLES Y COACH\n",
    "]"
   ]
  },
  {
   "cell_type": "code",
   "execution_count": 3,
   "id": "c59d21fa",
   "metadata": {},
   "outputs": [],
   "source": [
    "MSG = \"\"\"Bucaramanga, 24 de abril de 2022\n",
    "Respetado profesional\n",
    "{formador}\n",
    "Programa Misión TIC 2022\n",
    "\n",
    "En vista a que ha iniciado el Ciclo 1, adjunto a este correo se encuentran las listas de clase de el/los grupos en el que usted desempeña el rol de formador. Además, se encuentra la información general de caracterización de cada grupo, junto con los datos de contacto del tutor asignado a estos.\n",
    "La caracterización está dada por el nivel académico de cada tripulante. Existen 4 posibles clases: Bachiller, Técnico, Profesional+ y Desconocido. \n",
    "A partir de estas 4 clases, se calcula un índice de homogeneidad por cada grupo. Este índice varía de 0 hasta 1, a más cercano esté el índice a 1 significa que el grupo es más homogéneo.\n",
    "Esta información se le proporciona para que usted tenga una idea general sobre los tripulantes de sus grupos, con el fin de abordar, de ser necesario, diferentes estrategias pedagógicas.\n",
    "Es fundamental que se pongan en contacto con el tutor asignado a cada grupo, con el fin de lograr una sinergia y buena comunicación.\n",
    "\n",
    "ESTE CORREO SE ENVIÓ DE FORMA AUTOMÁTICA, NO RESPONDA A ESTA DIRECCIÓN O CORREO. Cualquier información, contacte a misiontic.monitor@uis.edu.co o rectoria.misiontic@uis.edu.co.\n",
    "\"\"\""
   ]
  },
  {
   "cell_type": "code",
   "execution_count": 4,
   "id": "10b04849",
   "metadata": {},
   "outputs": [],
   "source": [
    "ruta = './INPUT/INFO_CURSOS/LISTA_CURSOS_FORMADORES_EMAIL.xlsx' if not CORREO_TEST else './INPUT/INFO_CURSOS/TEST.xlsx'"
   ]
  },
  {
   "cell_type": "code",
   "execution_count": 6,
   "id": "8e9deb52",
   "metadata": {},
   "outputs": [],
   "source": [
    "f = open('CREDENCIALES.json')\n",
    "CREDENCIALES = json.load(f)\n",
    "f.close()\n",
    "ruta = './INPUT/INFO_CURSOS/LISTA_CURSOS_FORMADORES_EMAIL.xlsx' if not CORREO_TEST else './INPUT/INFO_CURSOS/TEST.xlsx'\n",
    "datos = pd.read_excel(ruta, engine = 'openpyxl')"
   ]
  },
  {
   "cell_type": "code",
   "execution_count": 8,
   "id": "2d2e5d38",
   "metadata": {},
   "outputs": [],
   "source": [
    "def enviarCorreo(origen, destino, asunto, mensaje, adjuntos = []):\n",
    "    multipart = MIMEMultipart()\n",
    "    multipart['From'] = origen\n",
    "    multipart['To'] = destino\n",
    "    multipart['Subject'] = asunto\n",
    "    multipart.attach(MIMEText(mensaje))\n",
    "    for adjunto in adjuntos:\n",
    "        f = open(adjunto, 'rb')\n",
    "        nFile = MIMEApplication(f.read(), 'vnd.ms-excel')\n",
    "        f.close()\n",
    "        encoders.encode_base64(nFile)\n",
    "        nFile.add_header('Content-Disposition', 'attachment', filename=os.path.basename(adjunto))\n",
    "        multipart.attach(nFile)\n",
    "    return multipart"
   ]
  },
  {
   "cell_type": "code",
   "execution_count": 9,
   "id": "d896d61d",
   "metadata": {},
   "outputs": [
    {
     "name": "stdout",
     "output_type": "stream",
     "text": [
      "1 Enviado a DARIO ALEJANDRO RIANO VELANDIA alejandroria.94@gmail.com\n",
      "2 Enviado a EDWARD ALBERTO ROPERO PEREZ edward_a_ropero@hotmail.com\n",
      "3 Enviado a FABIO ANDRES HERNANDEZ RUEDA fabiohernandezr10@gmail.com\n",
      "4 Enviado a JAVIER DIAZ DIAZ jdiazd@sena.edu.co\n",
      "5 Enviado a SERGIO NICOLAS PINILLA CANON pinilla.nicolas10@gmail.com\n",
      "6 Enviado a OSCAR MAURICIO GONZALEZ GOMEZ om5@misena.edu.co\n",
      "7 Enviado a ROY HERNANDO LLAMAS MUNOZ rhllamas@gmail.com\n",
      "8 Enviado a WILLIAM ALEXANDER SALAMANCA BECERRA williamsalamanca@gmail.com\n",
      "9 Enviado a YHARY ESTEFANIA ARIAS TRILLOS yharystefa@gmail.com\n",
      "10 Enviado a ALBERTO LUIS SILVA LORA silva.l.a.l@gmail.com\n",
      "11 Enviado a CARLOS ARTURO BOADA QUIJANO carturoboada@gmail.com\n",
      "12 Enviado a CARLOS HORACIO GARCIA CASTRILLON carloshgcastrillon@gmail.com\n",
      "13 Enviado a JHON JAIRO CORTES PAREDES jhonjairo.cortesp@live.com\n",
      "14 Enviado a SERGIO ARTURO MEDINA CASTILLO smedina_castillo@yahoo.es\n",
      "15 Enviado a YESID OSWALDO QUINTERO MARTINEZ yesidquintero06@gmail.com\n",
      "16 Enviado a JAHIR AUGUSTO SAAVEDRA GARCIA jahir.saavedra@gmail.com\n",
      "17 Enviado a GUILLERMO BEJARANO REYES gbejarano@gmail.com\n",
      "18 Enviado a IVAN JAVIER SANCHEZ GALVIS ivanjavier240@gmail.com\n",
      "19 Enviado a DAVID EDUARDO FLOREZ GOMEZ florez.davide@gmail.com\n",
      "20 Enviado a EDILBERTO SIERRA MEJIA ingeniero.beto@hotmail.com\n",
      "21 Enviado a JULIO CESAR RUEDA RANGEL jcrueda2005@yahoo.com\n",
      "22 Enviado a LUIS ALBERTO SAURITH ALVARADO sauriths@gmail.com\n",
      "23 Enviado a CARLOS EDUARDO CLAROS ROZO eduardoclaros@gmail.com\n",
      "24 Enviado a DIEGO FERNANDO MANTILLA VEGA diego.mantilla.trabajo@gmail.com; dfmco999@gmail.com\n",
      "25 Enviado a OMAR VIVAS CALDERON Omar.vivas.calderon@hotmail.com\n",
      "26 Enviado a ROGERIO ORLANDO BELTRAN CASTRO rogeriobeltran@gmail.com\n",
      "27 Enviado a ALVARO ANDRES LOPEZ OCHOA lalvaroandres@gmail.com\n",
      "28 Enviado a ALVARO JAVIER HERNANDEZ RUEDA alvarojhr96@gmail.com\n",
      "29 Enviado a CARLOS ANDRES GUERRERO ALARCON anguerrco@msn.com\n",
      "30 Enviado a CARLOS ANDRES NINO NINO carlos.andres.nio2@gmail.com\n",
      "31 Enviado a CARLOS ANDRES PALMA SUAREZ carlospalma_sistemas@hotmail.com\n",
      "32 Enviado a CARLOS HUMBERTO CARRENO DIAZ cahucadi@gmail.com\n",
      "33 Enviado a CATERINE LIZNETH GOMEZ ZARATE lizneth2@hotmail.com\n",
      "34 Enviado a DANIEL RINCON LEON drincon.89@gmail.com\n",
      "35 Enviado a ELKIN DAVID DIAZ PLATA ing.daviid@gmail.com\n",
      "36 Enviado a JAVIER ENRIQUE QUINTERO ROJAS javierq80@gmail.com\n",
      "37 Enviado a JHEYSTON OMAR SERRANO LUNA jheyston.serrano@correo.uis.edu.co\n",
      "38 Enviado a JUAN CARLOS REYES FIGUEROA juancarlosreyesfigueroa@gmail.com\n",
      "39 Enviado a LUIS CARLOS GAMBOA GELVEZ luiscarlosgamboagelvez@gmail.com\n",
      "40 Enviado a MAGDA MILENA GARCIA GAMBOA magmigarcia@misena.edu.co\n",
      "41 Enviado a OMAR ANDRES BENAVIDES PRADA omar.benavides@correo.uis.edu.co; abenavidesprada@gmail.com\n",
      "42 Enviado a SILVIA JULIANA  MORENO ROA julianamroa@gmail.com; silvia.moreno2@correo.uis.edu.co\n",
      "43 Enviado a ALEX DAVID MORALES ACOSTA alexmo14@gmail.com\n",
      "44 Enviado a ARIEL YEZID VILLARREAL SOLANO ayvilsol@correo.uis.edu.co; arielyezid@hotmail.com\n",
      "45 Enviado a CARLOS ADOLFO BELTRAN CASTRO osocarbel@gmail.com\n",
      "46 Enviado a EDDINSON JULIAN CARRILLO SISA edjuca2@gmail.com\n",
      "47 Enviado a JORGE ARMANDO RODRIGUEZ HERNANDEZ Jorge.r@msn.com\n",
      "48 Enviado a SANDY YORLADY ARDILA CARDENAS sayoardi@correo.uis.edu.co; sayoarca@gmail.com\n",
      "49 Enviado a JENNIFER TATIANA MATEUS BETANCUR jtmatbet@correo.uis.edu.co; tatianamateus1717@gmail.com\n",
      "50 Enviado a ADRIANA TERESA ROZO CARVAJAL adriana_rozo@yahoo.com\n",
      "51 Enviado a HERNAN DARIO PINTO AMAYA hernanpinto.hp@gmail.com; herdapin@correo.uis.edu.co\n",
      "52 Enviado a OMAR DAVID PARRA PENA odparrap@correo.uis.edu.co; dp930826@gmail.com \n",
      "53 Enviado a DIEGO ELKIN BUENO CARRENO diego.elkin.bueno@gmail.com; diebueno@correo.uis.edu.co\n",
      "54 Enviado a LEONARDO CORREDOR AMARIS leocoram@correo.uis.edu.co\n",
      "55 Enviado a LUISA MARIA MONSALVE BELTRAN lmmonbel@correo.uis.edu.co; monsalvebeltranluisa@gmail.com\n",
      "56 Enviado a LEIDY TATIANA JAIMES CADAVID leidyjaimes0711@gmail.com\n",
      "57 Enviado a LAURA DANIELA CHAPARRO PENA chaparrodaniela1@gmail.com\n",
      "58 Enviado a LUZ DAYANARA SALDANA SARMIENTO luzdasal@correo.uis.edu.co; dayanara.saldana@gmail.com\n",
      "59 Enviado a MARYLIN BLANCO RIOS marylinblaris@gmail.com\n",
      "60 Enviado a MARIA ALEJANDRA CELY LATORRE cely.mariale@gmail.com\n",
      "61 Enviado a NATHALIA RODRIGUEZ SAAVEDRA narodsaa@correo.uis.edu.co\n",
      "62 Enviado a PABLO ANDRES KENNETH BLANCO GOMEZ pabloandresblanco1987@gmail.com\n",
      "63 Enviado a LAURA JULIANA GEREDA ANTOLINEZ lauragereda09@gmail.com; ljgerant@correo.uis.edu.co\n",
      "64 Enviado a KELLY JOHANNA RODRIGUEZ GOMEZ johannitarodriguez@gmail.com\n",
      "65 Enviado a JOHNATTAN ENRIQUE RUEDA FONSECA joeruefo@correo.uis.edu.co; johenrique04@gmail.com\n",
      "66 Enviado a CESAR SNEYDEER QUIJANO SARMIENTO nyck_jack@hotmail.com\n",
      "67 Enviado a CAROL ARIANA BAUTISTA PABON carolariana7@gmail.com\n",
      "68 Enviado a ANA MARIA MORENO SALAZAR morenosalazaranamaria@gmail.com; ammorsal@correo.uis.edu.co\n",
      "69 Enviado a LADY DIANA MONTAGUT FERNANDEZ ladymontagut@gmail.com; ladymont@correo.uis.edu.co\n",
      "70 Enviado a EDGAR FABIAN GIL AMADO edgarfabian.g.a@gmail.com\n",
      "71 Enviado a WILLIAN ARMANDO DORADO LUJAN widoradu@correo.uis.edu.co; williamdoradouis@gmail.com\n",
      "72 Enviado a ANA VICTORIA VARGAS PIMIENTO axlvictoria@gmail.com\n",
      "73 Enviado a VIVIAN CAROLINA PEREZ ALMANZA ps.vivianperez@gmail.com\n",
      "74 Enviado a PAOLA ANDREA SANTOS ORDONES paola08.psi@gmail.com\n"
     ]
    },
    {
     "data": {
      "text/plain": [
       "(221, b'2.0.0 Service closing transmission channel')"
      ]
     },
     "execution_count": 9,
     "metadata": {},
     "output_type": "execute_result"
    }
   ],
   "source": [
    "destinos = datos[COLUMNA_CORREO].unique()\n",
    "servidor = smtplib.SMTP(SERVIDOR_SMTP)\n",
    "servidor.starttls()\n",
    "servidor.login(CREDENCIALES['USUARIO'], CREDENCIALES['PASS'])\n",
    "cont = 1\n",
    "for destino in destinos:\n",
    "    dfD = datos[datos[COLUMNA_CORREO] == destino]\n",
    "    nombreFormador = dfD['NOMBRE_DOCENTE'].iloc[0]\n",
    "    adjuntos = []\n",
    "    for index, row in dfD.iterrows():\n",
    "        ruta = './INPUT/INFO_CURSOS/LISTAS/' + row['CODIGO_CURSO'] + '.xlsx'\n",
    "        adjuntos.append(ruta)\n",
    "    nombreArchivo = 'INFO_GRUPOS_' + nombreFormador.replace(' ', '_')\n",
    "    ruta = './Temp/' + nombreArchivo + '.xlsx'\n",
    "    dfD[COLUMNAS].to_excel(ruta, index = False)\n",
    "    adjuntos.append(ruta)\n",
    "    msg = enviarCorreo(ORIGEN, destino, ASUNTO, MSG.format(formador = nombreFormador), adjuntos)\n",
    "    servidor.sendmail(ORIGEN, destino, msg.as_string())\n",
    "    print (cont, 'Enviado a', nombreFormador, destino)\n",
    "    cont += 1\n",
    "servidor.quit()"
   ]
  },
  {
   "cell_type": "code",
   "execution_count": null,
   "id": "9cc2471e",
   "metadata": {},
   "outputs": [],
   "source": [
    "# Limpiado de archivos temporales\n"
   ]
  }
 ],
 "metadata": {
  "kernelspec": {
   "display_name": "Python 3 (ipykernel)",
   "language": "python",
   "name": "python3"
  },
  "language_info": {
   "codemirror_mode": {
    "name": "ipython",
    "version": 3
   },
   "file_extension": ".py",
   "mimetype": "text/x-python",
   "name": "python",
   "nbconvert_exporter": "python",
   "pygments_lexer": "ipython3",
   "version": "3.9.7"
  }
 },
 "nbformat": 4,
 "nbformat_minor": 5
}
