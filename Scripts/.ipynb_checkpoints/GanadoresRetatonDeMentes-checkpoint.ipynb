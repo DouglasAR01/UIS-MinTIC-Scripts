{
 "cells": [
  {
   "cell_type": "code",
   "execution_count": 1,
   "id": "833c6f64",
   "metadata": {},
   "outputs": [],
   "source": [
    "import pandas as pd\n",
    "import glob\n",
    "from datetime import date"
   ]
  },
  {
   "cell_type": "code",
   "execution_count": 2,
   "id": "637dbd24",
   "metadata": {},
   "outputs": [],
   "source": [
    "TIEMPOS = { # Por cuánto se tiene que multiplicar para que de en minutos, SE DEBE PONER EN SINGULAR\n",
    "    'hora': 60,\n",
    "    'minuto': 1,\n",
    "    'segundo': 1/60\n",
    "}\n",
    "COLUMNA_ID = 'Número de ID'\n",
    "COLUMNA_CALIFICACION = 'Calificación/5.00'\n",
    "COLUMNA_TIEMPO = 'Tiempo requerido'\n",
    "\n",
    "# Añade los plurales\n",
    "for llave, valor in TIEMPOS.copy().items():\n",
    "    TIEMPOS[llave + 's'] = valor"
   ]
  },
  {
   "cell_type": "code",
   "execution_count": 3,
   "id": "f2ca0756",
   "metadata": {},
   "outputs": [],
   "source": [
    "def extraerTiempo(cadena):\n",
    "    tokens = cadena.split()\n",
    "    numeros = []\n",
    "    poder = []\n",
    "    for token in tokens:\n",
    "        if token.isnumeric():\n",
    "            numeros.append(float(token))\n",
    "        else:\n",
    "            poder.append(TIEMPOS[token])\n",
    "    tNumeros = len(numeros)\n",
    "    tPoder = len(poder)\n",
    "    if tNumeros < 1:\n",
    "        raise Exception('No se pudo extraer ningún valor numérico de la cadena', cadena)\n",
    "    if tPoder < 1:\n",
    "        raise Exception('No se pudo extraer el multiplicador de la cadena', cadena)\n",
    "    if tNumeros != tPoder:\n",
    "        raise Exception('No coincide el valor numérico con el multiplicador', numeros, poder)\n",
    "    acum = 0\n",
    "    for i in range(tNumeros):\n",
    "        acum += numeros[i]*poder[i]    \n",
    "    return acum\n",
    "\n",
    "def ajustarSerie(serie):\n",
    "    valores = []\n",
    "    for index, item in serie.iteritems():\n",
    "        valores.append(extraerTiempo(item))\n",
    "    return pd.Series(valores)"
   ]
  },
  {
   "cell_type": "code",
   "execution_count": 4,
   "id": "18fa7ffe",
   "metadata": {},
   "outputs": [],
   "source": [
    "# Extracción y ordenamiento de datos\n",
    "csvs = []\n",
    "for elemento in glob.glob('./INPUT/MENTES/*.csv'):\n",
    "    df = pd.read_csv(elemento)[:-1]\n",
    "    df[COLUMNA_TIEMPO] = ajustarSerie(df[COLUMNA_TIEMPO])\n",
    "    csvs.append(df)\n",
    "DATOS = pd.concat(csvs)[['Nombre', 'Apellido(s)', COLUMNA_ID, COLUMNA_CALIFICACION, COLUMNA_TIEMPO]]"
   ]
  },
  {
   "cell_type": "code",
   "execution_count": 5,
   "id": "6e6ee833",
   "metadata": {},
   "outputs": [],
   "source": [
    "rta = {    \n",
    "    'Id': [],\n",
    "    'Nombre': [],\n",
    "    'Apellido': [],\n",
    "    'Tiempo': [],\n",
    "    'Nota': []\n",
    "}\n",
    "for cod in DATOS[COLUMNA_ID].unique():\n",
    "    dfEst = DATOS[DATOS[COLUMNA_ID] == cod]\n",
    "    if len(dfEst) < 1:\n",
    "        print ('ERROR FATAL: No se encuentra al estudiante')\n",
    "    acumTiempo = 0\n",
    "    acumNota = 0\n",
    "    lr = -1\n",
    "    for index, row in dfEst.iterrows():\n",
    "        acumTiempo += row[COLUMNA_TIEMPO]\n",
    "        acumNota += row[COLUMNA_CALIFICACION]\n",
    "        lr = row\n",
    "    rta['Nombre'].append(lr['Nombre'])\n",
    "    rta['Apellido'].append(lr['Apellido(s)'])\n",
    "    rta['Id'].append(cod)\n",
    "    rta['Tiempo'].append(acumTiempo)\n",
    "    rta['Nota'].append(acumNota)\n",
    "rta = pd.DataFrame(rta).sort_values('Nota', ascending = False)"
   ]
  },
  {
   "cell_type": "code",
   "execution_count": 6,
   "id": "59b30f01",
   "metadata": {},
   "outputs": [],
   "source": [
    "rta.to_excel('./ResultadosRetatonDeMentes_PROCESADO_' + str(date.today()) + '.xlsx', index = False)\n",
    "DATOS.to_excel('./ResultadosRetatonDeMentes_BRUTO_' + str(date.today()) + '.xlsx', index = False)"
   ]
  }
 ],
 "metadata": {
  "kernelspec": {
   "display_name": "Python 3 (ipykernel)",
   "language": "python",
   "name": "python3"
  },
  "language_info": {
   "codemirror_mode": {
    "name": "ipython",
    "version": 3
   },
   "file_extension": ".py",
   "mimetype": "text/x-python",
   "name": "python",
   "nbconvert_exporter": "python",
   "pygments_lexer": "ipython3",
   "version": "3.10.4"
  }
 },
 "nbformat": 4,
 "nbformat_minor": 5
}
