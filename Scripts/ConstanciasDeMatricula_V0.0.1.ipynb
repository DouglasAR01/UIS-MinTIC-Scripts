{
 "cells": [
  {
   "cell_type": "code",
   "execution_count": 1,
   "id": "7fc77b42",
   "metadata": {},
   "outputs": [],
   "source": [
    "import pandas as pd\n",
    "import os"
   ]
  },
  {
   "cell_type": "code",
   "execution_count": 2,
   "id": "562a7c6b",
   "metadata": {},
   "outputs": [],
   "source": [
    "RUTA = './INPUT/ARCHIVOS/'\n",
    "DATOS = pd.read_excel('./INPUT/EST.xlsx', engine='openpyxl')\n",
    "NOMBRE_BASE = 'CONSTANCIAS TODAS'\n",
    "SEPARADOR = '-'\n",
    "N_CARPETAS = 5\n",
    "N_ARCHIVOS = 1000\n",
    "EXTENSION_COMPARTIDA = '.pdf'"
   ]
  },
  {
   "cell_type": "code",
   "execution_count": 3,
   "id": "5073a36d",
   "metadata": {},
   "outputs": [
    {
     "data": {
      "text/html": [
       "<div>\n",
       "<style scoped>\n",
       "    .dataframe tbody tr th:only-of-type {\n",
       "        vertical-align: middle;\n",
       "    }\n",
       "\n",
       "    .dataframe tbody tr th {\n",
       "        vertical-align: top;\n",
       "    }\n",
       "\n",
       "    .dataframe thead th {\n",
       "        text-align: right;\n",
       "    }\n",
       "</style>\n",
       "<table border=\"1\" class=\"dataframe\">\n",
       "  <thead>\n",
       "    <tr style=\"text-align: right;\">\n",
       "      <th></th>\n",
       "      <th>NOMBRE</th>\n",
       "    </tr>\n",
       "  </thead>\n",
       "  <tbody>\n",
       "    <tr>\n",
       "      <th>0</th>\n",
       "      <td>2220001_LIZARAZO PENA STEVEN</td>\n",
       "    </tr>\n",
       "    <tr>\n",
       "      <th>1</th>\n",
       "      <td>2220002_CARRERO PUENTES SARA VIVIANA</td>\n",
       "    </tr>\n",
       "    <tr>\n",
       "      <th>2</th>\n",
       "      <td>2220003_DIAZ BARRIOS ANDRES FELIPE</td>\n",
       "    </tr>\n",
       "    <tr>\n",
       "      <th>3</th>\n",
       "      <td>2220004_RODRIGUEZ HERNANDEZ CARLOS JOSSEPH</td>\n",
       "    </tr>\n",
       "    <tr>\n",
       "      <th>4</th>\n",
       "      <td>2220005_SARRIA SOLARTE FABIO NELSON</td>\n",
       "    </tr>\n",
       "    <tr>\n",
       "      <th>...</th>\n",
       "      <td>...</td>\n",
       "    </tr>\n",
       "    <tr>\n",
       "      <th>4890</th>\n",
       "      <td>2224915_LINEROS ESCALONA LEONARD LEE</td>\n",
       "    </tr>\n",
       "    <tr>\n",
       "      <th>4891</th>\n",
       "      <td>2224916_IBANEZ AMAYA ABRAHAM EDUARDO</td>\n",
       "    </tr>\n",
       "    <tr>\n",
       "      <th>4892</th>\n",
       "      <td>2224917_MEDINA CADENA LUZ DEY</td>\n",
       "    </tr>\n",
       "    <tr>\n",
       "      <th>4893</th>\n",
       "      <td>2224918_AREVALO BLANCO JERSON ELIAN</td>\n",
       "    </tr>\n",
       "    <tr>\n",
       "      <th>4894</th>\n",
       "      <td>2224919_ROMERO PEREZ JAIRO DAVID</td>\n",
       "    </tr>\n",
       "  </tbody>\n",
       "</table>\n",
       "<p>4895 rows × 1 columns</p>\n",
       "</div>"
      ],
      "text/plain": [
       "                                          NOMBRE\n",
       "0                   2220001_LIZARAZO PENA STEVEN\n",
       "1           2220002_CARRERO PUENTES SARA VIVIANA\n",
       "2             2220003_DIAZ BARRIOS ANDRES FELIPE\n",
       "3     2220004_RODRIGUEZ HERNANDEZ CARLOS JOSSEPH\n",
       "4            2220005_SARRIA SOLARTE FABIO NELSON\n",
       "...                                          ...\n",
       "4890        2224915_LINEROS ESCALONA LEONARD LEE\n",
       "4891        2224916_IBANEZ AMAYA ABRAHAM EDUARDO\n",
       "4892               2224917_MEDINA CADENA LUZ DEY\n",
       "4893         2224918_AREVALO BLANCO JERSON ELIAN\n",
       "4894            2224919_ROMERO PEREZ JAIRO DAVID\n",
       "\n",
       "[4895 rows x 1 columns]"
      ]
     },
     "execution_count": 3,
     "metadata": {},
     "output_type": "execute_result"
    }
   ],
   "source": [
    "DATOS"
   ]
  },
  {
   "cell_type": "code",
   "execution_count": 6,
   "id": "fdd7836e",
   "metadata": {},
   "outputs": [
    {
     "data": {
      "text/plain": [
       "['2220001', 'LIZARAZO PENA STEVEN']"
      ]
     },
     "execution_count": 6,
     "metadata": {},
     "output_type": "execute_result"
    }
   ],
   "source": [
    "DATOS.iloc[0]['NOMBRE'].split('_')"
   ]
  },
  {
   "cell_type": "code",
   "execution_count": 7,
   "id": "d6e9a4b9",
   "metadata": {},
   "outputs": [],
   "source": [
    "cont = 0\n",
    "for j in range(1, N_CARPETAS + 1):    \n",
    "    for i in range(1, N_ARCHIVOS + 1):\n",
    "        info = DATOS.iloc[cont]['NOMBRE']\n",
    "        data = info.split('_')\n",
    "        archivo = RUTA + str(j) + '/' + NOMBRE_BASE + SEPARADOR + str(i) + EXTENSION_COMPARTIDA\n",
    "        nuevoNombre = './OUTPUT/ARCHIVOS/' + data[0] + '_' + data[1] + EXTENSION_COMPARTIDA\n",
    "        os.rename(archivo, nuevoNombre)\n",
    "        cont += 1\n",
    "        if cont == 4895:\n",
    "            break\n"
   ]
  }
 ],
 "metadata": {
  "kernelspec": {
   "display_name": "Python 3 (ipykernel)",
   "language": "python",
   "name": "python3"
  },
  "language_info": {
   "codemirror_mode": {
    "name": "ipython",
    "version": 3
   },
   "file_extension": ".py",
   "mimetype": "text/x-python",
   "name": "python",
   "nbconvert_exporter": "python",
   "pygments_lexer": "ipython3",
   "version": "3.9.7"
  }
 },
 "nbformat": 4,
 "nbformat_minor": 5
}
