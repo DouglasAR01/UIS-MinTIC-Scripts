{
 "cells": [
  {
   "cell_type": "code",
   "execution_count": 1,
   "id": "73376e1b",
   "metadata": {},
   "outputs": [],
   "source": [
    "import pandas as pd\n",
    "from datetime import date"
   ]
  },
  {
   "cell_type": "code",
   "execution_count": 2,
   "id": "4f531224",
   "metadata": {},
   "outputs": [],
   "source": [
    "COLUMNA_NOMBRE = 'NOMBRES'\n",
    "COLUMNA_TELEFONO = 'TELEFONO_SISTEMA_ACADEMICO'"
   ]
  },
  {
   "cell_type": "code",
   "execution_count": 3,
   "id": "96896cee",
   "metadata": {},
   "outputs": [],
   "source": [
    "def calcularCostoAprox(longitudMsg):\n",
    "    costo = 19\n",
    "    while (longitudMsg > 0):\n",
    "        longitudMsg -= 153\n",
    "        costo += 1.2\n",
    "    return costo\n",
    "def normalizar(msg):\n",
    "    reemplazos = (\n",
    "        (\"á\", \"a\"),\n",
    "        (\"é\", \"e\"),\n",
    "        (\"í\", \"i\"),\n",
    "        (\"ó\", \"o\"),\n",
    "        (\"ú\", \"u\"),\n",
    "        (\"ñ\", \"n\")\n",
    "    )\n",
    "    for a, b in reemplazos:\n",
    "        msg = msg.replace(a, b).replace(a.upper(), b.upper())\n",
    "    return msg"
   ]
  },
  {
   "cell_type": "code",
   "execution_count": 4,
   "id": "29037b56",
   "metadata": {},
   "outputs": [],
   "source": [
    "MSG = \"\"\"Apreciado Tripulante {nombre},\n",
    "Desde la Universidad Industrial de Santander nos complace informarte que La Ultima Tripulacion continua su viaje en el CICLO 4 - Desarrollo de aplicaciones WEB o MÓVIL, programado para iniciar el lunes, 3 de octubre de 2022.\n",
    "Es por ello que te invitamos a diligenciar el siguiente formulario para que realices tu matricula y registro de disponibilidad horaria para las sesiones sincronicas de los modulos del CICLO 4 que cursaras.\n",
    "Recuerda que tienes plazo de registrar tu disponibilidad horaria hasta el domingo, 18 de septiembre. Con el registro también participarás en el sorteo de fabulosos premios.\n",
    "\n",
    "Paso a paso para diligenciar el formulario:\n",
    "-> Entra a https://forms.office.com/r/50zfPPR4zy\n",
    "-> Accede una sola vez al formulario y diligencia todos los campos.\n",
    "-> Asegurate de enviar el formulario de matricula completo.\n",
    "\n",
    "Ten en cuenta que, por cada ciclo, el grupo, los companeros de clase o los docentes pueden cambiar.\n",
    "\"\"\""
   ]
  },
  {
   "cell_type": "code",
   "execution_count": 5,
   "id": "4ebff199",
   "metadata": {},
   "outputs": [],
   "source": [
    "datos = pd.read_excel('./INPUT/EstPenPreC4.xlsx', engine = 'openpyxl')"
   ]
  },
  {
   "cell_type": "code",
   "execution_count": 6,
   "id": "3d99768c",
   "metadata": {},
   "outputs": [
    {
     "name": "stdout",
     "output_type": "stream",
     "text": [
      "Costo aproximado de envío masivo: 98557.79999999708\n"
     ]
    }
   ],
   "source": [
    "output = []\n",
    "costoTotal = 0\n",
    "for index, row in datos.iterrows():\n",
    "    msg = normalizar(MSG).format(nombre = row[COLUMNA_NOMBRE]) # Añadir .format si se requieren etiquetas\n",
    "    costoTotal += calcularCostoAprox(len(msg))\n",
    "    output.append([\n",
    "        row[COLUMNA_TELEFONO],\n",
    "        msg\n",
    "    ])\n",
    "print ('Costo aproximado de envío masivo:', costoTotal * 1.1)"
   ]
  },
  {
   "cell_type": "code",
   "execution_count": 7,
   "id": "9755ece8",
   "metadata": {},
   "outputs": [],
   "source": [
    "pd.DataFrame(output).to_excel('./OUTPUT/MsgPreMatriculaC4_' + str(date.today()) +'.xlsx', index = False, header = False)"
   ]
  }
 ],
 "metadata": {
  "kernelspec": {
   "display_name": "Python 3 (ipykernel)",
   "language": "python",
   "name": "python3"
  },
  "language_info": {
   "codemirror_mode": {
    "name": "ipython",
    "version": 3
   },
   "file_extension": ".py",
   "mimetype": "text/x-python",
   "name": "python",
   "nbconvert_exporter": "python",
   "pygments_lexer": "ipython3",
   "version": "3.9.7"
  }
 },
 "nbformat": 4,
 "nbformat_minor": 5
}
