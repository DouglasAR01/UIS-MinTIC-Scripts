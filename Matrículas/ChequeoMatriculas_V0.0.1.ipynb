{
 "cells": [
  {
   "cell_type": "code",
   "execution_count": 1,
   "id": "1608b9c7",
   "metadata": {},
   "outputs": [],
   "source": [
    "import pandas as pd"
   ]
  },
  {
   "cell_type": "code",
   "execution_count": 2,
   "id": "7c108009",
   "metadata": {},
   "outputs": [],
   "source": [
    "ASIGNATURAS = {\n",
    "    'PROGRAMACION': [2711, 2714],\n",
    "    'INGLES': [2712],\n",
    "    'COACH': [2713]\n",
    "}"
   ]
  },
  {
   "cell_type": "code",
   "execution_count": 3,
   "id": "4b72f9df",
   "metadata": {},
   "outputs": [],
   "source": [
    "MODO_TRIPULANTES_NOREGULARES = False\n",
    "REVISION = 5 #Es el número que estará de sufijo en el reporte\n",
    "CICLO = 4\n",
    "if not MODO_TRIPULANTES_NOREGULARES:\n",
    "    CONSULTA = pd.read_csv('./INPUT/CHEQUEO/MATRICULAS-C4-29-09.csv', sep=';', encoding='latin-1', skiprows=1)\n",
    "    REAL = pd.read_excel('./INPUT/CHEQUEO/CONSOLIDADO_MATRICULAS_2022-09-27.xlsx', engine='openpyxl')\n",
    "else:\n",
    "    CONSULTA = pd.read_csv('./INPUT/CHEQUEO/MATRICULAS-NR-C3-04-08-22-2.csv', sep=';', encoding='latin-1', skiprows=1)\n",
    "    REAL = pd.read_excel('./INPUT/CHEQUEO/MATRICULAS_NO_REGULARES_2022-08-04.xlsx', engine='openpyxl')"
   ]
  },
  {
   "cell_type": "code",
   "execution_count": 4,
   "id": "880c5161",
   "metadata": {},
   "outputs": [],
   "source": [
    "rta = {\n",
    "    'CODIGO': [],\n",
    "    'NOMBRE': [],\n",
    "    'PROGRAMACION_REAL': [],\n",
    "    'PROGRAMACION_SA': [],\n",
    "    'PROGRAMACION_COINCIDE': [],\n",
    "    'INGLES_REAL': [],\n",
    "    'INGLES_SA': [],\n",
    "    'INGLES_COINCIDE': [],\n",
    "    'COACH_REAL': [],\n",
    "    'COACH_SA': [],\n",
    "    'COACH_COINCIDE': [],\n",
    "}\n",
    "codigos = CONSULTA['ESTUDIANTE'].unique()\n",
    "if MODO_TRIPULANTES_NOREGULARES:\n",
    "    codigosNR = REAL['CODIGO'].unique()\n",
    "for codigo in codigos:\n",
    "    if MODO_TRIPULANTES_NOREGULARES and not (codigo in codigosNR):\n",
    "        continue\n",
    "    dfEst = CONSULTA[CONSULTA['ESTUDIANTE'] == codigo]\n",
    "    dfEstReal = REAL[REAL['CODIGO'] == codigo]\n",
    "    rta['CODIGO'].append(codigo)\n",
    "    rta['NOMBRE'].append(dfEst['APELLIDOS'].iloc[0] +' '+ dfEst['NOMBRES'].iloc[0])\n",
    "    for asignatura, codAsignatura in ASIGNATURAS.items():\n",
    "        grupoReal = dfEstReal[asignatura].iloc[0]\n",
    "        rta[asignatura + '_REAL'].append(grupoReal)\n",
    "        temp = []\n",
    "        for cod in codAsignatura:\n",
    "            check = dfEst[dfEst['ASIGNATURA'] == cod]\n",
    "            if len(check) > 0:\n",
    "                temp.append(check)\n",
    "#         if len(codAsignatura) > 1:\n",
    "#             for cod in codAsignatura:\n",
    "#                 check = dfEst[dfEst['ASIGNATURA'] == cod]\n",
    "#                 if len(check) > 0:\n",
    "#                     temp.append(check)\n",
    "#         else:\n",
    "#             temp.append(dfEst[dfEst['ASIGNATURA'] == codAsignatura[0]])\n",
    "        tam = len(temp)\n",
    "        if tam == 0:\n",
    "            rta[asignatura + '_SA'].append('NO MATRICULADO')\n",
    "            rta[asignatura + '_COINCIDE'].append('N/A')\n",
    "        elif tam == 1:\n",
    "            grupo = temp[0]['GRUPO'].iloc[0]\n",
    "            rta[asignatura + '_SA'].append(grupo)\n",
    "            rta[asignatura + '_COINCIDE'].append(True if grupoReal == grupo else False)\n",
    "        else:\n",
    "            grupo = ''\n",
    "            for df in temp:\n",
    "                grupo += df['GRUPO'].iloc[0]\n",
    "            rta[asignatura + '_SA'].append(grupo)\n",
    "            rta[asignatura + '_COINCIDE'].append(True if grupoReal == grupo else False)\n",
    "resultados = pd.DataFrame(rta)"
   ]
  },
  {
   "cell_type": "code",
   "execution_count": 5,
   "id": "dd0e1c6a",
   "metadata": {},
   "outputs": [],
   "source": [
    "from datetime import date\n",
    "nombre = f'./OUTPUT/CHEQUEO/RevisiónCiclo{str(CICLO)}-{str(date.today())}{\"-NR\" if MODO_TRIPULANTES_NOREGULARES else \"\"}-{REVISION}.xlsx'\n",
    "resultados.to_excel(nombre, index = False)"
   ]
  }
 ],
 "metadata": {
  "kernelspec": {
   "display_name": "Python 3 (ipykernel)",
   "language": "python",
   "name": "python3"
  },
  "language_info": {
   "codemirror_mode": {
    "name": "ipython",
    "version": 3
   },
   "file_extension": ".py",
   "mimetype": "text/x-python",
   "name": "python",
   "nbconvert_exporter": "python",
   "pygments_lexer": "ipython3",
   "version": "3.9.7"
  }
 },
 "nbformat": 4,
 "nbformat_minor": 5
}
