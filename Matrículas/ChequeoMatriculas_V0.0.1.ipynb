{
 "cells": [
  {
   "cell_type": "code",
   "execution_count": 1,
   "id": "1608b9c7",
   "metadata": {},
   "outputs": [],
   "source": [
    "import pandas as pd"
   ]
  },
  {
   "cell_type": "code",
   "execution_count": 2,
   "id": "7c108009",
   "metadata": {},
   "outputs": [],
   "source": [
    "ASIGNATURAS = {\n",
    "    'PROGRAMACION': 2511,\n",
    "    'INGLES': 2512,\n",
    "    'COACH': 2513\n",
    "}"
   ]
  },
  {
   "cell_type": "code",
   "execution_count": 3,
   "id": "4b72f9df",
   "metadata": {},
   "outputs": [],
   "source": [
    "CONSULTA = pd.read_csv('./INPUT/CHEQUEO/SISTEMA.csv', sep=';', encoding='latin-1', skiprows=1)\n",
    "REAL = pd.read_excel('./INPUT/CHEQUEO/CONSOLIDADO_MATRICULAS_2022-06-08.xlsx', engine='openpyxl')"
   ]
  },
  {
   "cell_type": "code",
   "execution_count": 4,
   "id": "880c5161",
   "metadata": {},
   "outputs": [],
   "source": [
    "rta = {\n",
    "    'CODIGO': [],\n",
    "    'NOMBRE': [],\n",
    "    'PROGRAMACION_REAL': [],\n",
    "    'PROGRAMACION_SA': [],\n",
    "    'PROGRAMACION_COINCIDE': [],\n",
    "    'INGLES_REAL': [],\n",
    "    'INGLES_SA': [],\n",
    "    'INGLES_COINCIDE': [],\n",
    "    'COACH_REAL': [],\n",
    "    'COACH_SA': [],\n",
    "    'COACH_COINCIDE': [],\n",
    "}\n",
    "codigos = CONSULTA['ESTUDIANTE'].unique()\n",
    "for codigo in codigos:\n",
    "    dfEst = CONSULTA[CONSULTA['ESTUDIANTE'] == codigo]\n",
    "    dfEstReal = REAL[REAL['CODIGO'] == codigo]\n",
    "    rta['CODIGO'].append(codigo)\n",
    "    rta['NOMBRE'].append(dfEst['APELLIDOS'].iloc[0] + dfEst['NOMBRES'].iloc[0])\n",
    "    for asignatura, codAsignatura in ASIGNATURAS.items():\n",
    "        grupoReal = dfEstReal[asignatura].iloc[0]\n",
    "        rta[asignatura + '_REAL'].append(grupoReal)\n",
    "        temp = dfEst[dfEst['ASIGNATURA'] == codAsignatura]\n",
    "        if len(temp) == 0:\n",
    "            rta[asignatura + '_SA'].append('NO MATRICULADO')\n",
    "            rta[asignatura + '_COINCIDE'].append('N/A')\n",
    "        else:\n",
    "            grupo = temp['GRUPO'].iloc[0]\n",
    "            rta[asignatura + '_SA'].append(grupo)\n",
    "            rta[asignatura + '_COINCIDE'].append(True if grupoReal == grupo else False)\n",
    "resultados = pd.DataFrame(rta)"
   ]
  },
  {
   "cell_type": "code",
   "execution_count": 5,
   "id": "dd0e1c6a",
   "metadata": {},
   "outputs": [],
   "source": [
    "from datetime import date\n",
    "resultados.to_excel('./OUTPUT/CHEQUEO/REVISIÓN_' + str(date.today()) + '_6.xlsx', index = False)"
   ]
  }
 ],
 "metadata": {
  "kernelspec": {
   "display_name": "Python 3 (ipykernel)",
   "language": "python",
   "name": "python3"
  },
  "language_info": {
   "codemirror_mode": {
    "name": "ipython",
    "version": 3
   },
   "file_extension": ".py",
   "mimetype": "text/x-python",
   "name": "python",
   "nbconvert_exporter": "python",
   "pygments_lexer": "ipython3",
   "version": "3.9.7"
  }
 },
 "nbformat": 4,
 "nbformat_minor": 5
}
