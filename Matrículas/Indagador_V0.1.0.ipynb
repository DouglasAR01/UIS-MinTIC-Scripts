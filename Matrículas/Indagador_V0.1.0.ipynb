{
 "cells": [
  {
   "cell_type": "code",
   "execution_count": 1,
   "id": "b91faa24",
   "metadata": {},
   "outputs": [],
   "source": [
    "import pandas as pd\n",
    "import glob\n",
    "import matplotlib.pyplot as plt"
   ]
  },
  {
   "cell_type": "markdown",
   "id": "dfc94e11",
   "metadata": {},
   "source": [
    "# Configuración"
   ]
  },
  {
   "cell_type": "code",
   "execution_count": 2,
   "id": "52446d8a",
   "metadata": {},
   "outputs": [],
   "source": [
    "# La llave será el nombre final de la columna, el valor el nombre con el que se encuentra en los archivos brutos\n",
    "COLUMNAS = {\n",
    "    'DOCUMENTO': 'Número de Documento',\n",
    "    'CODIGO': 'Codigo',\n",
    "    'NOMBRE': 'Nombres',\n",
    "    'APELLIDO': 'Apellidos',\n",
    "    'TELEFONO': 'Teléfono Celular que usa',\n",
    "    'EMAIL': 'Correo electrónico personal que usa',\n",
    "    'DEDICACION RUTA': '¿Qué dedicación de tiempo diaria espera tener con el proyecto Misión TIC 2022?',\n",
    "    'DISP_PROGRAMACION': 'Seleccione por lo menos dos (2) de las franjas horarias especificadas en las cuales tiene disponibilidad de tiempo para atender las clases sincrónicas del módulo de PROGRAMACIÓN que cursará durant...',\n",
    "    'DISP_INGLES': 'Seleccione por lo menos dos (2) de las franjas horarias en las cuales tiene disponibilidad de tiempo para atender las clases sincrónicas del módulo INGLÉS (5 horas/semana), es decir (1 hora/día de...',\n",
    "    'DISP_COACHING': 'Seleccione por lo menos dos (2) de las franjas horarias en las cuales tiene disponibilidad de tiempo para atender las clases sincrónicas del módulo COACHING/HABILIDADES PERSONALES (1 hora/semana)',\n",
    "    'TRAB_COLABORATIVO': '¿Qué franja de horario le convendría para desarrollar el trabajo colaborativo que amerita el desarrollo de un proyecto Web o móvil? (Aplica para los Ciclos 3 y 4)',\n",
    "    'FECHA_NACIMIENTO': 'Fecha de Nacimiento',\n",
    "    'GENERO': 'Sexo',\n",
    "    'NIVEL_EDUCATIVO_REAL': 'Nivel de Escolaridad',\n",
    "    'OCUPACION': 'Ocupación',\n",
    "    'TITULO_SI_TIENE': 'Si es técnico, tecnólogo o profesional, escriba su título académico'    \n",
    "}\n",
    "\n",
    "COLUMNAS_ADICIONALES = {\n",
    "    'nivelE': 'NIVEL_EDUCATIVO_AGRUPADO'\n",
    "}\n",
    "\n",
    "GRUPOS_EDUCATIVOS = {\n",
    "    'BACHILLER': [\n",
    "        'Ninguno',\n",
    "        'Bachillerato Técnico',\n",
    "        'Bachillerato Académico',\n",
    "        'Bachillerato Comercial'\n",
    "    ],\n",
    "    'TÉCNICO': [\n",
    "        'Técnica',\n",
    "        'Tecnológico'\n",
    "    ],\n",
    "    'PROFESIONAL+': [\n",
    "        'Posgrado',\n",
    "        'Profesional'\n",
    "    ]\n",
    "}\n",
    "\n",
    "JORNADA_DEFECTO_PROGRAMACION = 'Jornada de la noche (8 p.m. a 10 p.m.)'\n",
    "JORNADA_DEFECTO_INGLES_COACH = 'Jornada de la noche (7 p.m. a 8 p.m.)'"
   ]
  },
  {
   "cell_type": "code",
   "execution_count": 3,
   "id": "1bcdb2fb",
   "metadata": {},
   "outputs": [],
   "source": [
    "# FUNCIONES\n",
    "def iniciarContadores(jornadas):\n",
    "    dic = {}\n",
    "    for jornada in jornadas:\n",
    "        dic[jornada] = 0\n",
    "    return dic\n",
    "def tokenizadoFiltrado(cadena, separador, defecto):\n",
    "    rta = []\n",
    "    if (type(cadena) != str):\n",
    "        return [defecto]\n",
    "    tokens = cadena.split(separador)\n",
    "    for token in tokens:\n",
    "        if token != '':\n",
    "            if token == 'Jornada de la tarde (10 a.m. a 11 a.m.)':\n",
    "                rta.append('Jornada de la mañana (10 a.m. a 11 a.m.)')\n",
    "            elif token == 'Jornada de la tarde (11 a.m. a 12 m.)':\n",
    "                rta.append('Jornada de la mañana (11 a.m. a 12 m.)')\n",
    "            else:\n",
    "                rta.append(token)\n",
    "    return rta"
   ]
  },
  {
   "cell_type": "markdown",
   "id": "54f48a95",
   "metadata": {},
   "source": [
    "# Procesamiento"
   ]
  },
  {
   "cell_type": "code",
   "execution_count": 4,
   "id": "c250de5e",
   "metadata": {},
   "outputs": [],
   "source": [
    "archivos = glob.glob('./INPUT/INDAGAR/*.xlsx')\n",
    "dfs = []\n",
    "for archivo in archivos:\n",
    "    dfs.append(pd.read_excel(archivo, engine = 'openpyxl'))\n",
    "datos = pd.concat(dfs, ignore_index = True)\n",
    "# Toma de las columnas valiosas\n",
    "datos = datos[COLUMNAS.values()]"
   ]
  },
  {
   "cell_type": "code",
   "execution_count": 5,
   "id": "38310dad",
   "metadata": {},
   "outputs": [],
   "source": [
    "# Cargue de jornadas\n",
    "JORNADAS = [\n",
    "    'Jornada de la mañana (6 a.m. a 8 a.m.)',\n",
    "    'Jornada de la mañana (8 a.m. a 10 a.m.)',\n",
    "    'Jornada de la mañana (10 a.m. a 12 m.)',\n",
    "    'Jornada de la tarde (12 m. a 2 p.m.)',\n",
    "    'Jornada de la tarde (2 p.m. a 4 p.m.)',\n",
    "    'Jornada de la tarde (4 p.m. a 6 p.m.)',\n",
    "    'Jornada de la noche (6 p.m. a 8 p.m.)',\n",
    "    'Jornada de la noche (8 p.m. a 10 p.m.)'\n",
    "]\n",
    "JORNADAS_COACH_INGLES = [\n",
    "    'Jornada de la mañana (6 a.m. a 7 a.m.)',\n",
    "    'Jornada de la mañana (7 a.m. a 8 a.m.)',\n",
    "    'Jornada de la mañana (8 a.m. a 9 a.m.)',\n",
    "    'Jornada de la mañana (9 a.m. a 10 a.m.)',\n",
    "    'Jornada de la mañana (10 a.m. a 11 a.m.)',\n",
    "    'Jornada de la mañana (11 a.m. a 12 m.)',\n",
    "    'Jornada de la tarde (12 m. a 1 p.m.)',\n",
    "    'Jornada de la tarde (1 p.m. a 2 p.m.)',\n",
    "    'Jornada de la tarde (2 p.m. a 3 p.m.)',\n",
    "    'Jornada de la tarde (3 p.m. a 4 p.m.)',\n",
    "    'Jornada de la tarde (4 p.m. a 5 p.m.)',\n",
    "    'Jornada de la tarde (5 p.m. a 6 p.m.)',\n",
    "    'Jornada de la noche (6 p.m. a 7 p.m.)',\n",
    "    'Jornada de la noche (7 p.m. a 8 p.m.)',\n",
    "    'Jornada de la noche (8 p.m. a 9 p.m.)',\n",
    "    'Jornada de la noche (9 p.m. a 10 p.m.)'\n",
    "]\n",
    "if len(JORNADAS)*2 != len(JORNADAS_COACH_INGLES):\n",
    "    raise Exception('Jornadas mal configuradas.')"
   ]
  },
  {
   "cell_type": "code",
   "execution_count": 6,
   "id": "f2872441",
   "metadata": {},
   "outputs": [],
   "source": [
    "CONTEOS = {\n",
    "    'PROGRAMACIÓN': iniciarContadores(JORNADAS),\n",
    "    'INGLÉS': iniciarContadores(JORNADAS_COACH_INGLES),\n",
    "    'COACHING': iniciarContadores(JORNADAS_COACH_INGLES),\n",
    "}\n",
    "grupoNivel = []\n",
    "for index, row in datos.iterrows():\n",
    "    # Tomado y limpiado de los datos\n",
    "    a = tokenizadoFiltrado(row[COLUMNAS['DISP_PROGRAMACION']], ';', JORNADA_DEFECTO_PROGRAMACION)\n",
    "    b = tokenizadoFiltrado(row[COLUMNAS['DISP_INGLES']], ';', JORNADA_DEFECTO_INGLES_COACH)\n",
    "    c = tokenizadoFiltrado(row[COLUMNAS['DISP_COACHING']], ';', JORNADA_DEFECTO_INGLES_COACH)\n",
    "    # Guardado de la información\n",
    "    datos.at[index, COLUMNAS['DISP_PROGRAMACION']] = ';'.join(a)\n",
    "    datos.at[index, COLUMNAS['DISP_INGLES']] = ';'.join(b)\n",
    "    datos.at[index, COLUMNAS['DISP_COACHING']] = ';'.join(c)\n",
    "    jornadasEstudiante = {\n",
    "        'PROGRAMACIÓN': a,\n",
    "        'INGLÉS': b,\n",
    "        'COACHING': c\n",
    "    }\n",
    "    for jornada in jornadasEstudiante:\n",
    "        for horario in jornadasEstudiante[jornada]:\n",
    "            if horario in CONTEOS[jornada]:\n",
    "                CONTEOS[jornada][horario] += 1\n",
    "            else:\n",
    "                raise Exception(horario, jornada)\n",
    "    band = False\n",
    "    for grupoE in GRUPOS_EDUCATIVOS:\n",
    "        for nivel in GRUPOS_EDUCATIVOS[grupoE]:\n",
    "            if row[COLUMNAS['NIVEL_EDUCATIVO_REAL']] == nivel:\n",
    "                grupoNivel.append(grupoE)\n",
    "                band = True\n",
    "                break\n",
    "        if band:\n",
    "            break            \n",
    "datos[COLUMNAS['OCUPACION']] = datos[COLUMNAS['OCUPACION']].str.upper()\n",
    "datos[COLUMNAS['TITULO_SI_TIENE']] = datos[COLUMNAS['TITULO_SI_TIENE']].str.upper()\n",
    "datos[COLUMNAS_ADICIONALES['nivelE']] = pd.Series(grupoNivel)"
   ]
  },
  {
   "cell_type": "code",
   "execution_count": 7,
   "id": "5398f732",
   "metadata": {},
   "outputs": [
    {
     "name": "stdout",
     "output_type": "stream",
     "text": [
      "========\n",
      "Horarios de PROGRAMACIÓN\n",
      "Franja: Jornada de la mañana (6 a.m. a 8 a.m.), cantidad: 950, porcentaje: 10.32\n",
      "Franja: Jornada de la mañana (8 a.m. a 10 a.m.), cantidad: 928, porcentaje: 10.08\n",
      "Franja: Jornada de la mañana (10 a.m. a 12 m.), cantidad: 643, porcentaje: 6.99\n",
      "Franja: Jornada de la tarde (12 m. a 2 p.m.), cantidad: 483, porcentaje: 5.25\n",
      "Franja: Jornada de la tarde (2 p.m. a 4 p.m.), cantidad: 582, porcentaje: 6.32\n",
      "Franja: Jornada de la tarde (4 p.m. a 6 p.m.), cantidad: 773, porcentaje: 8.40\n",
      "Franja: Jornada de la noche (6 p.m. a 8 p.m.), cantidad: 2313, porcentaje: 25.13\n",
      "Franja: Jornada de la noche (8 p.m. a 10 p.m.), cantidad: 2531, porcentaje: 27.50\n",
      "Total elecciones:  9203\n",
      "========\n",
      "Horarios de INGLÉS\n",
      "Franja: Jornada de la mañana (6 a.m. a 7 a.m.), cantidad: 767, porcentaje: 7.62\n",
      "Franja: Jornada de la mañana (7 a.m. a 8 a.m.), cantidad: 800, porcentaje: 7.95\n",
      "Franja: Jornada de la mañana (8 a.m. a 9 a.m.), cantidad: 0, porcentaje: 0.00\n",
      "Franja: Jornada de la mañana (9 a.m. a 10 a.m.), cantidad: 574, porcentaje: 5.70\n",
      "Franja: Jornada de la mañana (10 a.m. a 11 a.m.), cantidad: 0, porcentaje: 0.00\n",
      "Franja: Jornada de la mañana (11 a.m. a 12 m.), cantidad: 525, porcentaje: 5.22\n",
      "Franja: Jornada de la tarde (12 m. a 1 p.m.), cantidad: 604, porcentaje: 6.00\n",
      "Franja: Jornada de la tarde (1 p.m. a 2 p.m.), cantidad: 712, porcentaje: 7.07\n",
      "Franja: Jornada de la tarde (2 p.m. a 3 p.m.), cantidad: 523, porcentaje: 5.20\n",
      "Franja: Jornada de la tarde (3 p.m. a 4 p.m.), cantidad: 0, porcentaje: 0.00\n",
      "Franja: Jornada de la tarde (4 p.m. a 5 p.m.), cantidad: 0, porcentaje: 0.00\n",
      "Franja: Jornada de la tarde (5 p.m. a 6 p.m.), cantidad: 817, porcentaje: 8.12\n",
      "Franja: Jornada de la noche (6 p.m. a 7 p.m.), cantidad: 945, porcentaje: 9.39\n",
      "Franja: Jornada de la noche (7 p.m. a 8 p.m.), cantidad: 1276, porcentaje: 12.68\n",
      "Franja: Jornada de la noche (8 p.m. a 9 p.m.), cantidad: 1373, porcentaje: 13.64\n",
      "Franja: Jornada de la noche (9 p.m. a 10 p.m.), cantidad: 1149, porcentaje: 11.42\n",
      "Total elecciones:  10065\n",
      "========\n",
      "Horarios de COACHING\n",
      "Franja: Jornada de la mañana (6 a.m. a 7 a.m.), cantidad: 638, porcentaje: 6.13\n",
      "Franja: Jornada de la mañana (7 a.m. a 8 a.m.), cantidad: 593, porcentaje: 5.70\n",
      "Franja: Jornada de la mañana (8 a.m. a 9 a.m.), cantidad: 462, porcentaje: 4.44\n",
      "Franja: Jornada de la mañana (9 a.m. a 10 a.m.), cantidad: 305, porcentaje: 2.93\n",
      "Franja: Jornada de la mañana (10 a.m. a 11 a.m.), cantidad: 409, porcentaje: 3.93\n",
      "Franja: Jornada de la mañana (11 a.m. a 12 m.), cantidad: 274, porcentaje: 2.63\n",
      "Franja: Jornada de la tarde (12 m. a 1 p.m.), cantidad: 507, porcentaje: 4.88\n",
      "Franja: Jornada de la tarde (1 p.m. a 2 p.m.), cantidad: 606, porcentaje: 5.83\n",
      "Franja: Jornada de la tarde (2 p.m. a 3 p.m.), cantidad: 389, porcentaje: 3.74\n",
      "Franja: Jornada de la tarde (3 p.m. a 4 p.m.), cantidad: 481, porcentaje: 4.62\n",
      "Franja: Jornada de la tarde (4 p.m. a 5 p.m.), cantidad: 621, porcentaje: 5.97\n",
      "Franja: Jornada de la tarde (5 p.m. a 6 p.m.), cantidad: 630, porcentaje: 6.06\n",
      "Franja: Jornada de la noche (6 p.m. a 7 p.m.), cantidad: 957, porcentaje: 9.20\n",
      "Franja: Jornada de la noche (7 p.m. a 8 p.m.), cantidad: 1034, porcentaje: 9.94\n",
      "Franja: Jornada de la noche (8 p.m. a 9 p.m.), cantidad: 1230, porcentaje: 11.83\n",
      "Franja: Jornada de la noche (9 p.m. a 10 p.m.), cantidad: 1264, porcentaje: 12.15\n",
      "Total elecciones:  10400\n"
     ]
    }
   ],
   "source": [
    "for tema in CONTEOS:\n",
    "    suma = 0\n",
    "    print ('========')\n",
    "    print ('Horarios de', tema)\n",
    "    for horario in CONTEOS[tema]:\n",
    "        suma += CONTEOS[tema][horario]\n",
    "    for horario in CONTEOS[tema]:\n",
    "        total = CONTEOS[tema][horario]\n",
    "        msg = 'Franja: {franja}, cantidad: {cantidad}, porcentaje: {porcentaje:.2f}'\n",
    "        print (msg.format(franja = horario, cantidad = total, porcentaje = total/suma*100))\n",
    "    print ('Total elecciones: ', suma)"
   ]
  },
  {
   "cell_type": "code",
   "execution_count": 8,
   "id": "cecc9789",
   "metadata": {},
   "outputs": [],
   "source": [
    "# GUARDADO\n",
    "datosRenombrados = datos.rename(columns = {v: k for k, v in COLUMNAS.items()})\n",
    "datosRenombrados.to_excel('./OUTPUT/INDAGAR/CONSOLIDADO_DATOS_IMPORTANTES.xlsx', index = False)"
   ]
  },
  {
   "cell_type": "code",
   "execution_count": 9,
   "id": "ea4fcce5",
   "metadata": {},
   "outputs": [
    {
     "data": {
      "image/png": "[encoded data removed]",
      "text/plain": [
       "<Figure size 432x288 with 1 Axes>"
      ]
     },
     "metadata": {},
     "output_type": "display_data"
    }
   ],
   "source": [
    "# Gráfica grupos de nivel educativo\n",
    "labels = list(GRUPOS_EDUCATIVOS.keys())\n",
    "sizes = []\n",
    "for grupo in GRUPOS_EDUCATIVOS:\n",
    "    sizes.append(len(datos[datos[COLUMNAS_ADICIONALES['nivelE']] == grupo]))\n",
    "fig1, ax1 = plt.subplots()\n",
    "ax1.pie(sizes, labels=labels, autopct='%1.1f%%',\n",
    "        shadow=True, startangle=90)\n",
    "ax1.axis('equal')\n",
    "\n",
    "plt.show()"
   ]
  },
  {
   "cell_type": "code",
   "execution_count": null,
   "id": "389735f9",
   "metadata": {},
   "outputs": [],
   "source": []
  },
  {
   "cell_type": "code",
   "execution_count": null,
   "id": "0cd0cc19",
   "metadata": {},
   "outputs": [],
   "source": []
  }
 ],
 "metadata": {
  "kernelspec": {
   "display_name": "Python 3 (ipykernel)",
   "language": "python",
   "name": "python3"
  },
  "language_info": {
   "codemirror_mode": {
    "name": "ipython",
    "version": 3
   },
   "file_extension": ".py",
   "mimetype": "text/x-python",
   "name": "python",
   "nbconvert_exporter": "python",
   "pygments_lexer": "ipython3",
   "version": "3.9.7"
  }
 },
 "nbformat": 4,
 "nbformat_minor": 5
}
