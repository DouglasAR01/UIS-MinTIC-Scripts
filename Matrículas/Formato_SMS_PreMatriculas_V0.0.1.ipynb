{
 "cells": [
  {
   "cell_type": "code",
   "execution_count": 1,
   "id": "be5d1c27",
   "metadata": {},
   "outputs": [],
   "source": [
    "import pandas as pd\n",
    "from datetime import date"
   ]
  },
  {
   "cell_type": "code",
   "execution_count": 2,
   "id": "2dd1aa44",
   "metadata": {},
   "outputs": [],
   "source": [
    "COLUMNA_NOMBRE = 'NOMBRES'\n",
    "COLUMNA_TELEFONO = 'TELEFONO_SISTEMA_ACADEMICO'"
   ]
  },
  {
   "cell_type": "code",
   "execution_count": 3,
   "id": "d94a2213",
   "metadata": {},
   "outputs": [],
   "source": [
    "def calcularCostoAprox(longitudMsg):\n",
    "    costo = 19\n",
    "    while (longitudMsg > 0):\n",
    "        longitudMsg -= 153\n",
    "        costo += 1.2\n",
    "    return costo\n",
    "def normalizar(msg):\n",
    "    reemplazos = (\n",
    "        (\"á\", \"a\"),\n",
    "        (\"é\", \"e\"),\n",
    "        (\"í\", \"i\"),\n",
    "        (\"ó\", \"o\"),\n",
    "        (\"ú\", \"u\"),\n",
    "        (\"ñ\", \"n\")\n",
    "    )\n",
    "    for a, b in reemplazos:\n",
    "        msg = msg.replace(a, b).replace(a.upper(), b.upper())\n",
    "    return msg"
   ]
  },
  {
   "cell_type": "code",
   "execution_count": 4,
   "id": "e7ce8d4f",
   "metadata": {},
   "outputs": [],
   "source": [
    "MSG = \"\"\"Tripulante {nombre} con código {codigo}  \n",
    "Con un saludo especial de la Universidad Industrial de Santander, reiteramos a ¡La Última Tripulación! que el inicio del Ciclo 4 se realizará el próximo, lunes 03 de octubre de 2022.\n",
    "Tenemos el placer de informarte que tu proceso de formación en Misión TIC 2022 Ruta de Aprendizaje 2 continuará en el CICLO 4: {asignatura}\n",
    "Para este gran día, compartimos contigo los horarios asignados. La hora está en formato 24 horas: \n",
    "* Módulo {asignatura}\n",
    "-> Grupo {codCurso1} \n",
    "-> Lunes a Viernes de {horaIni1} a {horaFin1} \n",
    "* Módulo Idioma Inglés IV\n",
    "-> Grupo {codCurso2} \n",
    "-> Lunes a Viernes de {horaIni2} a {horaFin2} \n",
    "* Módulo Habilidades Personales IV\n",
    "-> Grupo {codCurso3} \n",
    "-> {dia} de {horaIni3} a {horaFin3}\n",
    "Somos un gran equipo dispuesto desde la UIS para llevarte con éxito a este proceso.\n",
    "\"\"\""
   ]
  },
  {
   "cell_type": "code",
   "execution_count": 5,
   "id": "2876e64e",
   "metadata": {},
   "outputs": [],
   "source": [
    "datos = pd.read_excel('./INPUT/SMS/HorariosEstudiantes_C4_2022-09-30.xlsx', engine = 'openpyxl')"
   ]
  },
  {
   "cell_type": "code",
   "execution_count": 6,
   "id": "ce9b0253",
   "metadata": {},
   "outputs": [
    {
     "name": "stdout",
     "output_type": "stream",
     "text": [
      "Costo aproximado de envío masivo: 113493.1599999921\n"
     ]
    }
   ],
   "source": [
    "output = []\n",
    "costoTotal = 0\n",
    "for index, row in datos.iterrows():\n",
    "    msg = normalizar(MSG.format(\n",
    "        nombre = row[COLUMNA_NOMBRE],\n",
    "        asignatura = row['ASIGNATURA'],\n",
    "        codigo = row['CODIGO_UIS'],\n",
    "        codCurso1 = row['GRUPO'],\n",
    "        horaIni1 = row['HORA_INICIAL_'],\n",
    "        horaFin1 = row['HORA_FINAL_'],\n",
    "        codCurso2 = row['GRUPO2'] if row['GRUPO2'] != 'HOM' else 'HOMOLOGADO',\n",
    "        horaIni2 = row['HORA_INICIAL2_'] if row['GRUPO2'] != 'HOM' else '--:--',\n",
    "        horaFin2 = row['HORA_FINAL2_'] if row['GRUPO2'] != 'HOM' else '--:--',\n",
    "        codCurso3 = row['GRUPO3'],\n",
    "        horaIni3 = row['HORA_INICIAL3_'],\n",
    "        horaFin3 = row['HORA_FINAL3_'],\n",
    "        dia = row['DIA']\n",
    "        \n",
    "    ))\n",
    "    costoTotal += calcularCostoAprox(len(msg))\n",
    "    output.append([\n",
    "        row[COLUMNA_TELEFONO],\n",
    "        msg\n",
    "    ])\n",
    "print ('Costo aproximado de envío masivo:', costoTotal * 1.1)"
   ]
  },
  {
   "cell_type": "code",
   "execution_count": 7,
   "id": "d815bd90",
   "metadata": {},
   "outputs": [],
   "source": [
    "pd.DataFrame(output).to_excel('./OUTPUT/SMS/FORMATO_SMS_MATRICULAS_C4_' + str(date.today()) +'.xlsx', index = False, header = False)"
   ]
  }
 ],
 "metadata": {
  "kernelspec": {
   "display_name": "Python 3 (ipykernel)",
   "language": "python",
   "name": "python3"
  },
  "language_info": {
   "codemirror_mode": {
    "name": "ipython",
    "version": 3
   },
   "file_extension": ".py",
   "mimetype": "text/x-python",
   "name": "python",
   "nbconvert_exporter": "python",
   "pygments_lexer": "ipython3",
   "version": "3.10.4"
  }
 },
 "nbformat": 4,
 "nbformat_minor": 5
}
