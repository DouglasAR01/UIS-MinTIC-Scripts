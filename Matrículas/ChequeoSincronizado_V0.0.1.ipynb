{
 "cells": [
  {
   "cell_type": "code",
   "execution_count": null,
   "id": "26293c76",
   "metadata": {},
   "outputs": [],
   "source": [
    "import pandas as pd"
   ]
  },
  {
   "cell_type": "code",
   "execution_count": null,
   "id": "b8f296b7",
   "metadata": {},
   "outputs": [],
   "source": [
    "DATOS = pd.read_excel('./INPUT/CHEQUEO/MoodleMatriculasC3.xlsx', engine='openpyxl')\n",
    "HORARIOS = pd.read_excel('./INPUT/CHEQUEO/HorariosEstudiantes_C3_2022-08-06.xlsx', engine='openpyxl')\n",
    "PERIODO = 3\n",
    "NOMBRE_COMPUESTO = '2022-{periodo}-{codAsignatura}-{grupo}-Presencial'\n",
    "# Código de la asignatura, nomenclatura, número de grupos, sufijo archivo maestro\n",
    "ASIGNATURAS = [\n",
    "    ('2611', 'O', 59, ''),\n",
    "    ('2612', 'S', 58, '2'),\n",
    "    ('2613', 'T', 64, '3')\n",
    "]"
   ]
  },
  {
   "cell_type": "code",
   "execution_count": null,
   "id": "bf1691db",
   "metadata": {},
   "outputs": [],
   "source": [
    "for asignatura in ASIGNATURAS:\n",
    "    codAsignatura, nom, nGrupos, sufijo = asignatura\n",
    "    for i in range(1, nGrupos + 1):\n",
    "        curso = nom + str(i)\n",
    "        dfCurso = DATOS[DATOS['Nombre Corto'] == NOMBRE_COMPUESTO.format(\n",
    "            periodo = PERIODO,\n",
    "            codAsignatura = codAsignatura,\n",
    "            grupo = curso)]\n",
    "        nMatriculados = len(HORARIOS[HORARIOS['GRUPO' + sufijo] == curso]) + 1\n",
    "        nMatriculadosMoodle = dfCurso['Nº de estudiantes inscritos'].iloc[0]\n",
    "        print (curso, nMatriculadosMoodle, nMatriculados)\n",
    "        if nMatriculadosMoodle < nMatriculados:\n",
    "            print ('=======', curso, '=======')"
   ]
  },
  {
   "cell_type": "code",
   "execution_count": null,
   "id": "53be800c",
   "metadata": {},
   "outputs": [],
   "source": []
  }
 ],
 "metadata": {
  "kernelspec": {
   "display_name": "Python 3 (ipykernel)",
   "language": "python",
   "name": "python3"
  },
  "language_info": {
   "codemirror_mode": {
    "name": "ipython",
    "version": 3
   },
   "file_extension": ".py",
   "mimetype": "text/x-python",
   "name": "python",
   "nbconvert_exporter": "python",
   "pygments_lexer": "ipython3",
   "version": "3.9.7"
  }
 },
 "nbformat": 4,
 "nbformat_minor": 5
}
