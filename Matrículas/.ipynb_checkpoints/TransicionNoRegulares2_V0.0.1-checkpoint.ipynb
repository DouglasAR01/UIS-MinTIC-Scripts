{
 "cells": [
  {
   "cell_type": "code",
   "execution_count": 1,
   "id": "59c53548",
   "metadata": {},
   "outputs": [],
   "source": [
    "import pandas as pd\n",
    "from datetime import date\n",
    "from random import random, seed"
   ]
  },
  {
   "cell_type": "code",
   "execution_count": 2,
   "id": "0b841f31",
   "metadata": {},
   "outputs": [],
   "source": [
    "DATOS = pd.read_excel('./INPUT/NOREGULARES/ESTUDIANTES A MATRICULAR CICLO 4.xlsx', engine= 'openpyxl', sheet_name='NO REGULARES - DISTRIBUIDOS')\n",
    "BD_EST_CICLO_PREVIO_SIN_HOM = pd.read_excel('./INPUT/TRANSICIÓN/HorariosEstudiantes_C3_2022-09-02_NOHOMS.xlsx', engine='openpyxl')\n",
    "HOMS = pd.read_excel('./INPUT/TRANSICIÓN/HomsC4.xlsx', engine='openpyxl')['cod'].unique()"
   ]
  },
  {
   "cell_type": "code",
   "execution_count": 3,
   "id": "d0b456dd",
   "metadata": {},
   "outputs": [],
   "source": [
    "HORAS_CONVERSION = {\n",
    "    'PROGRAMACION': {\n",
    "        6: 'Jornada de la mañana (6 a.m. a 8 a.m.)',\n",
    "        8: 'Jornada de la mañana (8 a.m. a 10 a.m.)',\n",
    "        10: 'Jornada de la mañana (10 a.m. a 12 m.)',\n",
    "        12: 'Jornada de la tarde (12 m. a 2 p.m.)',\n",
    "        14: 'Jornada de la tarde (2 p.m. a 4 p.m.)',\n",
    "        16: 'Jornada de la tarde (4 p.m. a 6 p.m.)',\n",
    "        18: 'Jornada de la noche (6 p.m. a 8 p.m.)',\n",
    "        20: 'Jornada de la noche (8 p.m. a 10 p.m.)'\n",
    "    },\n",
    "    'INGLES':{\n",
    "        0: 'HOMOLOGADO',\n",
    "        6: 'Jornada de la mañana (6 a.m. a 7 a.m.)',\n",
    "        7: 'Jornada de la mañana (7 a.m. a 8 a.m.)',\n",
    "        9: 'Jornada de la mañana (9 a.m. a 10 a.m.)',\n",
    "        11: 'Jornada de la mañana (11 a.m. a 12 m.)',\n",
    "        12: 'Jornada de la tarde (12 m. a 1 p.m.)',\n",
    "        13: 'Jornada de la tarde (1 p.m. a 2 p.m.)',\n",
    "        14: 'Jornada de la tarde (2 p.m. a 3 p.m.)',        \n",
    "        17: 'Jornada de la tarde (5 p.m. a 6 p.m.)',\n",
    "        18: 'Jornada de la noche (6 p.m. a 7 p.m.)',\n",
    "        19: 'Jornada de la noche (7 p.m. a 8 p.m.)',\n",
    "        20: 'Jornada de la noche (8 p.m. a 9 p.m.)',\n",
    "        21: 'Jornada de la noche (9 p.m. a 10 p.m.)'\n",
    "    },\n",
    "    'COACH': {\n",
    "        6: 'Jornada de la mañana (6 a.m. a 7 a.m.)',\n",
    "        7: 'Jornada de la mañana (7 a.m. a 8 a.m.)',\n",
    "        8: 'Jornada de la mañana (8 a.m. a 9 a.m.)',\n",
    "        9: 'Jornada de la mañana (9 a.m. a 10 a.m.)',\n",
    "        10: 'Jornada de la mañana (10 a.m. a 11 a.m.)',\n",
    "        11: 'Jornada de la mañana (11 a.m. a 12 m.)',\n",
    "        12: 'Jornada de la tarde (12 m. a 1 p.m.)',\n",
    "        13: 'Jornada de la tarde (1 p.m. a 2 p.m.)',\n",
    "        14: 'Jornada de la tarde (2 p.m. a 3 p.m.)',\n",
    "        15: 'Jornada de la tarde (3 p.m. a 4 p.m.)',\n",
    "        16: 'Jornada de la tarde (4 p.m. a 5 p.m.)',\n",
    "        17: 'Jornada de la tarde (5 p.m. a 6 p.m.)',\n",
    "        18: 'Jornada de la noche (6 p.m. a 7 p.m.)',\n",
    "        19: 'Jornada de la noche (7 p.m. a 8 p.m.)',\n",
    "        20: 'Jornada de la noche (8 p.m. a 9 p.m.)',\n",
    "        21: 'Jornada de la noche (9 p.m. a 10 p.m.)'\n",
    "    }\n",
    "}"
   ]
  },
  {
   "cell_type": "code",
   "execution_count": 4,
   "id": "f5e2475d",
   "metadata": {},
   "outputs": [],
   "source": [
    "def asignarTodoPosible(conjunto):\n",
    "    rta = ''\n",
    "    for llave, valor in conjunto.items():\n",
    "        if llave == 0:\n",
    "            continue\n",
    "        rta += valor + ';'\n",
    "    return rta\n",
    "def ramaAleatoria():\n",
    "    if random() > 0.716:\n",
    "        return '4B'\n",
    "    return '4A'"
   ]
  },
  {
   "cell_type": "code",
   "execution_count": 8,
   "id": "44c05536",
   "metadata": {},
   "outputs": [],
   "source": [
    "rta = {\n",
    "    'CODIGO': [],\n",
    "    'NOMBRE': [],\n",
    "    'APELLIDO': [],\n",
    "    'TELEFONO_MINTIC': [],\n",
    "    'TELEFONO_FORMULARIO': [],\n",
    "    'TELEFONO_SISTEMA_ACADEMICO': [],\n",
    "    'EMAIL': [],\n",
    "    'RAMA': [],\n",
    "    'DISP_PROGRAMACION': [],\n",
    "    'DISP_INGLES': [],\n",
    "    'DISP_COACHING': [],\n",
    "    'NIVEL_EDUCATIVO_AGRUPADO': []\n",
    "}\n",
    "for index, row in DATOS.iterrows():\n",
    "    cod = row['CODIGO_UIS']\n",
    "    hom = True if cod in HOMS else False\n",
    "    datosEstBdAnterior = BD_EST_CICLO_PREVIO_SIN_HOM[BD_EST_CICLO_PREVIO_SIN_HOM['CODIGO_UIS'] == cod]\n",
    "    rta['CODIGO'].append(cod)\n",
    "    rta['NOMBRE'].append(row['APELLIDOS'])\n",
    "    rta['APELLIDO'].append(row['NOMBRES'])\n",
    "    rta['RAMA'].append(ramaAleatoria())\n",
    "    rta['DISP_PROGRAMACION'].append(asignarTodoPosible(HORAS_CONVERSION['PROGRAMACION']))\n",
    "    rta['DISP_INGLES'].append(asignarTodoPosible(HORAS_CONVERSION['INGLES']) if not hom else 'HOMOLOGADO')\n",
    "    rta['DISP_COACHING'].append(asignarTodoPosible(HORAS_CONVERSION['COACH']))    \n",
    "    rta['TELEFONO_MINTIC'].append(datosEstBdAnterior['TELEFONO_MINTIC'].iloc[0])\n",
    "    rta['TELEFONO_FORMULARIO'].append(datosEstBdAnterior['TELEFONO_FORMULARIO'].iloc[0])\n",
    "    rta['TELEFONO_SISTEMA_ACADEMICO'].append(datosEstBdAnterior['TELEFONO_SISTEMA_ACADEMICO'].iloc[0])\n",
    "    rta['EMAIL'].append(datosEstBdAnterior['EMAIL'].iloc[0])\n",
    "    rta['NIVEL_EDUCATIVO_AGRUPADO'].append(datosEstBdAnterior['NIVEL_EDUCATIVO'].iloc[0])"
   ]
  },
  {
   "cell_type": "code",
   "execution_count": 9,
   "id": "f5ed5ac9",
   "metadata": {},
   "outputs": [],
   "source": [
    "pd.DataFrame(rta).to_excel('./OUTPUT/NOREGULARES/ConsolidadoNoRegulares_'+str(date.today())+'.xlsx', index = False)"
   ]
  }
 ],
 "metadata": {
  "kernelspec": {
   "display_name": "Python 3 (ipykernel)",
   "language": "python",
   "name": "python3"
  },
  "language_info": {
   "codemirror_mode": {
    "name": "ipython",
    "version": 3
   },
   "file_extension": ".py",
   "mimetype": "text/x-python",
   "name": "python",
   "nbconvert_exporter": "python",
   "pygments_lexer": "ipython3",
   "version": "3.9.7"
  }
 },
 "nbformat": 4,
 "nbformat_minor": 5
}
