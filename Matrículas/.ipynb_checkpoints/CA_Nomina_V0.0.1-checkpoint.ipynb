{
 "cells": [
  {
   "cell_type": "code",
   "execution_count": null,
   "id": "ba8f175a",
   "metadata": {},
   "outputs": [],
   "source": [
    "import pandas as pd"
   ]
  },
  {
   "cell_type": "code",
   "execution_count": null,
   "id": "e41d4bd1",
   "metadata": {},
   "outputs": [],
   "source": [
    "FRANJAS = [\n",
    "    'Jornada de la mañana (6 a.m. a 8 a.m.)',\n",
    "    'Jornada de la mañana (8 a.m. a 10 a.m.)',\n",
    "    'Jornada de la mañana (10 a.m. a 12 m.)',\n",
    "    'Jornada de la tarde (12 m - 2 p.m.)',\n",
    "    'Jornada de la tarde (2 p.m. - 4 p.m.)',\n",
    "    'Jornada de la tarde (4 p.m. - 6 p.m.)',\n",
    "    'Jornada de la noche (6 p.m. - 8 p.m.)',\n",
    "    'Jornada de la noche (8 p.m. - 10 p.m.)'\n",
    "]"
   ]
  },
  {
   "cell_type": "code",
   "execution_count": null,
   "id": "febddaf1",
   "metadata": {},
   "outputs": [],
   "source": [
    "datos = pd.read_excel('./INPUT/Horarios_docentes_c2.xlsx', engine='openpyxl')"
   ]
  },
  {
   "cell_type": "code",
   "execution_count": null,
   "id": "d55f3209",
   "metadata": {},
   "outputs": [],
   "source": [
    "datos"
   ]
  },
  {
   "cell_type": "code",
   "execution_count": null,
   "id": "a4713e02",
   "metadata": {},
   "outputs": [],
   "source": [
    "rta = {\n",
    "    'CEDULA': [],\n",
    "    'NOMBRE': [],\n",
    "    'DISP_TOTAL': [],\n",
    "}\n",
    "for franja in FRANJAS:\n",
    "    rta[franja] = []\n",
    "for index, row in datos.iterrows():\n",
    "    rta['CEDULA'].append(row['CEDULA'])\n",
    "    rta['NOMBRE'].append(row['NOMBRE AJUSTADO'])\n",
    "    total = 0\n",
    "    for franja in FRANJAS:        \n",
    "        for i in range(1, len(FRANJAS) + 1):\n",
    "            res = 0\n",
    "            nFranja = 'HORARIO_' + str(i) + '_FORMULARIO_CICLO_3'\n",
    "            if row[nFranja] == franja:\n",
    "                res = 1\n",
    "                break\n",
    "        rta[franja].append(res)\n",
    "        total += res\n",
    "    rta['DISP_TOTAL'].append(total)\n",
    "datosDisponibilidad = pd.DataFrame(rta).sort_values('DISP_TOTAL', ignore_index = True)"
   ]
  },
  {
   "cell_type": "code",
   "execution_count": null,
   "id": "eaa88cc5",
   "metadata": {},
   "outputs": [],
   "source": [
    "datosDisponibilidad.to_excel('./DISP_NOMINA.xlsx', index = False)"
   ]
  },
  {
   "cell_type": "markdown",
   "id": "633dc1ac",
   "metadata": {},
   "source": [
    "# FASE 2"
   ]
  },
  {
   "cell_type": "code",
   "execution_count": null,
   "id": "ae73ad33",
   "metadata": {},
   "outputs": [],
   "source": [
    "datosDisponibilidad = pd.read_excel('./DISP_NOMINA.xlsx', engine = 'openpyxl')"
   ]
  },
  {
   "cell_type": "code",
   "execution_count": null,
   "id": "9521222d",
   "metadata": {},
   "outputs": [],
   "source": [
    "gruposAsignados = pd.read_excel('./DISP_NOMINA2.xlsx', engine = 'openpyxl')"
   ]
  },
  {
   "cell_type": "code",
   "execution_count": null,
   "id": "5d037ed2",
   "metadata": {},
   "outputs": [],
   "source": [
    "gruposAsignados"
   ]
  },
  {
   "cell_type": "code",
   "execution_count": null,
   "id": "b149144b",
   "metadata": {},
   "outputs": [],
   "source": [
    "for index, row in datosDisponibilidad.iterrows():\n",
    "    docente = row['NOMBRE']\n",
    "    numGruposAsignados = row['GRUPOS MAX']\n",
    "    cont = 0\n",
    "    for index2, row2 in gruposAsignados.iterrows():\n",
    "        if docente in row2['FORMADORES']:\n",
    "            cont += 1\n",
    "            if not(row[row2['JORNADA']]):\n",
    "                print (docente, row2['JORNADA'])\n",
    "    if cont != numGruposAsignados:\n",
    "        print (docente, 'No tiene el # de grupos asignados correctos. # Grupos preasignados: ', numGruposAsignados, '# Grupos asignados: ', cont)     "
   ]
  },
  {
   "cell_type": "code",
   "execution_count": null,
   "id": "951a4b7c",
   "metadata": {},
   "outputs": [],
   "source": [
    "final = {\n",
    "    'FRANJA': [],\n",
    "    'NOMBRE': [],\n",
    "    'GRUPO': []\n",
    "}\n",
    "for index, row in gruposAsignados.iterrows():\n",
    "    franja = row['JORNADA']\n",
    "    formadores = row['FORMADORES'].replace(', ', ',').split(',')\n",
    "    for formador in formadores:\n",
    "        final['FRANJA'].append(franja)\n",
    "        final['NOMBRE'].append(formador)\n",
    "        final['GRUPO'].append('')\n",
    "pd.DataFrame(final).to_excel('./DISP_NOMINA_F2.xlsx', index = False)"
   ]
  },
  {
   "cell_type": "code",
   "execution_count": null,
   "id": "f1467d56",
   "metadata": {},
   "outputs": [],
   "source": []
  }
 ],
 "metadata": {
  "kernelspec": {
   "display_name": "Python 3 (ipykernel)",
   "language": "python",
   "name": "python3"
  },
  "language_info": {
   "codemirror_mode": {
    "name": "ipython",
    "version": 3
   },
   "file_extension": ".py",
   "mimetype": "text/x-python",
   "name": "python",
   "nbconvert_exporter": "python",
   "pygments_lexer": "ipython3",
   "version": "3.9.7"
  }
 },
 "nbformat": 4,
 "nbformat_minor": 5
}
