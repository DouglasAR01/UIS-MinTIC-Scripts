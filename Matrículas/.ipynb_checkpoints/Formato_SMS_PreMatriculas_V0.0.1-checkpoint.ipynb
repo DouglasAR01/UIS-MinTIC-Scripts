{
 "cells": [
  {
   "cell_type": "code",
   "execution_count": 1,
   "id": "be5d1c27",
   "metadata": {},
   "outputs": [],
   "source": [
    "import pandas as pd\n",
    "import datetime"
   ]
  },
  {
   "cell_type": "code",
   "execution_count": 2,
   "id": "2dd1aa44",
   "metadata": {},
   "outputs": [],
   "source": [
    "COLUMNA_NOMBRE = 'NOMBRES'\n",
    "COLUMNA_TELEFONO = 'TELEFONO_SISTEMA_ACADEMICO'"
   ]
  },
  {
   "cell_type": "code",
   "execution_count": 3,
   "id": "d94a2213",
   "metadata": {},
   "outputs": [],
   "source": [
    "def calcularCostoAprox(longitudMsg):\n",
    "    costo = 19\n",
    "    while (longitudMsg > 0):\n",
    "        longitudMsg -= 153\n",
    "        costo += 1.2\n",
    "    return costo\n",
    "def normalizar(msg):\n",
    "    reemplazos = (\n",
    "        (\"á\", \"a\"),\n",
    "        (\"é\", \"e\"),\n",
    "        (\"í\", \"i\"),\n",
    "        (\"ó\", \"o\"),\n",
    "        (\"ú\", \"u\"),\n",
    "        (\"ñ\", \"n\")\n",
    "    )\n",
    "    for a, b in reemplazos:\n",
    "        msg = msg.replace(a, b).replace(a.upper(), b.upper())\n",
    "    return msg"
   ]
  },
  {
   "cell_type": "code",
   "execution_count": 4,
   "id": "e7ce8d4f",
   "metadata": {},
   "outputs": [],
   "source": [
    "MSG = \"\"\"Apreciado Tripulante {nombre},\n",
    "Desde la Universidad Industrial de Santander nos complace informarte que La Última Tripulación continúa su viaje en el Ciclo 2 - Programación Básica en Java, programado para iniciar el lunes 13 de junio de 2022.\n",
    "Es por ello, que te invitamos a diligenciar el siguiente formulario para que realices tu matrícula y registro de disponibilidad horaria para las sesiones sincrónicas de los módulos del ciclo 2 que cursarás.\n",
    "Recuerda que tienes plazo de registrar tu disponibilidad horaria hasta el viernes 27 de mayo, de lo contrario se te matriculará en el mismo horario de los módulos que cursas actualmente.\n",
    "\n",
    "Paso a paso para diligenciar el formulario:\n",
    "-> Entra a https://forms.office.com/r/K9aPDxDLbM\n",
    "-> Accede una sola vez al formulario y diligencia todos los campos.\n",
    "-> Asegúrate de enviar el formulario de matrícula completo.\n",
    "\n",
    "Ten en cuenta que por cada ciclo el grupo, los compañeros de clase y los docentes pueden cambiar.\n",
    "\"\"\""
   ]
  },
  {
   "cell_type": "code",
   "execution_count": 11,
   "id": "2876e64e",
   "metadata": {},
   "outputs": [],
   "source": [
    "datos = pd.read_excel('./INPUT/SMS/ESTUDIANTES_2.xlsx', engine = 'openpyxl')"
   ]
  },
  {
   "cell_type": "code",
   "execution_count": null,
   "id": "11ea8c71",
   "metadata": {},
   "outputs": [],
   "source": [
    "datos[[COLUMNA_TELEFONO, COLUMNA_NOMBRE]]"
   ]
  },
  {
   "cell_type": "code",
   "execution_count": 13,
   "id": "ce9b0253",
   "metadata": {},
   "outputs": [
    {
     "name": "stdout",
     "output_type": "stream",
     "text": [
      "Costo aproximado de envío masivo: 85356.47999999988\n"
     ]
    }
   ],
   "source": [
    "output = []\n",
    "costoTotal = 0\n",
    "for index, row in datos.iterrows():\n",
    "    msg = normalizar(MSG.format(\n",
    "        nombre = row[COLUMNA_NOMBRE]\n",
    "    ))\n",
    "    costoTotal += calcularCostoAprox(len(msg))\n",
    "    output.append([\n",
    "        row[COLUMNA_TELEFONO],\n",
    "        msg\n",
    "    ])\n",
    "print ('Costo aproximado de envío masivo:', costoTotal * 1.1)"
   ]
  },
  {
   "cell_type": "code",
   "execution_count": 14,
   "id": "d815bd90",
   "metadata": {},
   "outputs": [],
   "source": [
    "pd.DataFrame(output).to_excel('./OUTPUT/SMS/FORMATO_SMS_PREMATRICULAS_21-05.xlsx', index = False, header = False)"
   ]
  }
 ],
 "metadata": {
  "kernelspec": {
   "display_name": "Python 3 (ipykernel)",
   "language": "python",
   "name": "python3"
  },
  "language_info": {
   "codemirror_mode": {
    "name": "ipython",
    "version": 3
   },
   "file_extension": ".py",
   "mimetype": "text/x-python",
   "name": "python",
   "nbconvert_exporter": "python",
   "pygments_lexer": "ipython3",
   "version": "3.9.7"
  }
 },
 "nbformat": 4,
 "nbformat_minor": 5
}
