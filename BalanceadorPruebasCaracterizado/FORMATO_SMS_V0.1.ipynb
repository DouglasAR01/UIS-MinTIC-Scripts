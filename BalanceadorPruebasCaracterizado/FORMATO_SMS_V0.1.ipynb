{
 "cells": [
  {
   "cell_type": "code",
   "execution_count": 1,
   "id": "30593f10",
   "metadata": {},
   "outputs": [],
   "source": [
    "import pandas as pd"
   ]
  },
  {
   "cell_type": "code",
   "execution_count": 2,
   "id": "6050ff0b",
   "metadata": {},
   "outputs": [],
   "source": [
    "datos = pd.read_excel('./INPUT/MENSAJES/CONSOLIDADO.xlsx', engine = 'openpyxl')"
   ]
  },
  {
   "cell_type": "code",
   "execution_count": 3,
   "id": "30a543a2",
   "metadata": {},
   "outputs": [],
   "source": [
    "FECHAS = {\n",
    "    'MAÑANA': '8:00a.m.',\n",
    "    'TARDE': '2:00p.m.',\n",
    "    'NOCHE': '6:00p.m.',\n",
    "}\n",
    "# Es importante tener en cuenta las banderas {dia}, {hora}\n",
    "MENSAJE = 'Bienvenido, tripulante. La fecha es el día {dia}, a las {hora}'"
   ]
  },
  {
   "cell_type": "code",
   "execution_count": 4,
   "id": "baa3def8",
   "metadata": {},
   "outputs": [],
   "source": [
    "output = []\n",
    "serie = []\n",
    "for index, row in datos.iterrows():\n",
    "    jornada = row['JORNADA']\n",
    "    curso = row['CURSO']\n",
    "    nCurso = int(curso[2])\n",
    "    d = 'ERROR'\n",
    "    if 0 < nCurso <= 3:\n",
    "        d = 'Viernes, 25 de marzo de 2022'\n",
    "    elif 3 < nCurso <= 6:\n",
    "        d = 'Sábado, 26 de marzo de 2022'\n",
    "    elif 6 < nCurso <= 9:\n",
    "        d = 'Domingo, 27 de marzo de 2022'\n",
    "    msg = MENSAJE.format(hora = FECHAS[jornada], dia = d)\n",
    "    serie.append(msg)\n",
    "    output.append([\n",
    "        int(row['TELEFONO']),\n",
    "        msg\n",
    "    ])\n",
    "datos['MENSAJE'] = pd.Series(serie)"
   ]
  },
  {
   "cell_type": "code",
   "execution_count": 5,
   "id": "20702730",
   "metadata": {},
   "outputs": [],
   "source": [
    "pd.DataFrame(output).to_excel('./OUTPUT/MENSAJES/FORMATO_SMS.xlsx', index = False, header = False)\n",
    "datos.to_excel('./OUTPUT/MENSAJES/CONSOLIDADO_SMS.xlsx', index = False)"
   ]
  }
 ],
 "metadata": {
  "kernelspec": {
   "display_name": "Python 3 (ipykernel)",
   "language": "python",
   "name": "python3"
  },
  "language_info": {
   "codemirror_mode": {
    "name": "ipython",
    "version": 3
   },
   "file_extension": ".py",
   "mimetype": "text/x-python",
   "name": "python",
   "nbconvert_exporter": "python",
   "pygments_lexer": "ipython3",
   "version": "3.9.7"
  }
 },
 "nbformat": 4,
 "nbformat_minor": 5
}
