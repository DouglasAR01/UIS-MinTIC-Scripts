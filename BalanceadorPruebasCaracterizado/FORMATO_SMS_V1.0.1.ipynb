{
 "cells": [
  {
   "cell_type": "code",
   "execution_count": 1,
   "id": "ea90cd2e",
   "metadata": {},
   "outputs": [],
   "source": [
    "import pandas as pd"
   ]
  },
  {
   "cell_type": "code",
   "execution_count": 2,
   "id": "f402c650",
   "metadata": {},
   "outputs": [],
   "source": [
    "datos = pd.read_excel('./INPUT/MENSAJES/CONSOLIDADO.xlsx', engine = 'openpyxl')"
   ]
  },
  {
   "cell_type": "code",
   "execution_count": 3,
   "id": "a2f84ff0",
   "metadata": {},
   "outputs": [
    {
     "name": "stdout",
     "output_type": "stream",
     "text": [
      "Longitud del mensaje 1013\n"
     ]
    }
   ],
   "source": [
    "# COMPORTAMIENTO\n",
    "SIN_COLUMNA_JORNADA = False\n",
    "ERROR_SI_NO_HAY_JORNADA = True\n",
    "JORNADA_POR_DEFECTO = 'DÍA'\n",
    "\n",
    "# VARIABLES DE EXTRACCIÓN DE DATOS\n",
    "COLUMNA_JORNADA = 'JORNADA'\n",
    "COLUMNA_CURSO = 'CURSO'\n",
    "COLUMNA_TEL = 'TELEFONO'\n",
    "COLUMNA_NOMBRE = 'NOMBRES'\n",
    "COLUMNA_HORA_INI = 'HORA_INICIO'\n",
    "COLUMNA_HORA_FIN = 'HORA_FINAL'\n",
    "COLUMNA_LINK = 'ENLACE_CURSO'\n",
    "COLUMNA_FECHA = 'FECHA'\n",
    "COLUMNA_CODIGO = 'CODIGO'\n",
    "COLUMNA_CEDULA = 'DOCUMENTO'\n",
    "\n",
    "# Es importante tener en cuenta las banderas {nombre}, {fecha}, {jornada}, {hora_ini}, {hora_fin}, {nombre}\n",
    "# {link}, {usuario}, {password}\n",
    "\n",
    "MENSAJE = \"\"\"MISION TIC PRUEBA DE CARACTERIZACION. Apreciado(a) tripulante {nombre} con código {usuario}, recibe un cordial saludo de parte de la Universidad Industrial de Santander quien te acompañará en la formación de MISIÓN TIC 2022. Para nosotros es muy importante conocerte y para ello hemos creado una prueba de caracterización que nos permitirá identificar tus conocimientos previos en programación e inglés y brindarte una mejor experiencia en los ciclos de formación. Cabe resaltar que esta prueba no descalifica ni incide en la calificacion del proceso formativo, por lo tanto te invitamos a que la desarrolles de manera individual y totalmente a conciencia. Para ingresar a la prueba ingresa al enlace: {link} la cual debera presentar el dia {fecha} en la jornada {jornada} entre las {hora_ini} y {hora_fin} Las credenciales de ingreso -> Usuario {usuario} Contraseña {password}. Es importante que te presentes puntualmente en la fecha y hora programada y accedas con las credenciales proporcionadas anteriormente.\"\"\"\n",
    "\n",
    "print ('Longitud del mensaje', len(MENSAJE))"
   ]
  },
  {
   "cell_type": "code",
   "execution_count": 4,
   "id": "c241a5b6",
   "metadata": {},
   "outputs": [],
   "source": [
    "def calcularCostoAprox(longitudMsg):\n",
    "    costo = 19\n",
    "    while (longitudMsg > 0):\n",
    "        longitudMsg -= 153\n",
    "        costo += 1.2\n",
    "    return costo\n",
    "def normalizar(msg):\n",
    "    reemplazos = (\n",
    "        (\"á\", \"a\"),\n",
    "        (\"é\", \"e\"),\n",
    "        (\"í\", \"i\"),\n",
    "        (\"ó\", \"o\"),\n",
    "        (\"ú\", \"u\"),\n",
    "        (\"ñ\", \"n\")\n",
    "    )\n",
    "    for a, b in reemplazos:\n",
    "        msg = msg.replace(a, b).replace(a.upper(), b.upper())\n",
    "    return msg\n",
    "def calcularJornada(hora):\n",
    "    JORNADAS = {\n",
    "        '8 A.M.': 'MAÑANA',\n",
    "        '2 P.M.': 'TARDE',\n",
    "        '6 P.M.': 'NOCHE'\n",
    "    }\n",
    "    if hora in JORNADAS:\n",
    "        return JORNADAS[hora]\n",
    "    if ERROR_SI_NO_HAY_JORNADA:\n",
    "        raise Exception('No existe una jornada para la hora: ' + hora)\n",
    "    return JORNADA_POR_DEFECTO"
   ]
  },
  {
   "cell_type": "code",
   "execution_count": 5,
   "id": "72cb5e42",
   "metadata": {},
   "outputs": [
    {
     "name": "stdout",
     "output_type": "stream",
     "text": [
      "Costo aproximado de envío masivo: 147586.99999999837\n"
     ]
    }
   ],
   "source": [
    "output = []\n",
    "serie = []\n",
    "costoTotal = 0\n",
    "for index, row in datos.iterrows():    \n",
    "    msg = normalizar(MENSAJE.format(\n",
    "        nombre = row[COLUMNA_NOMBRE],\n",
    "        fecha = row[COLUMNA_FECHA],\n",
    "        jornada = row[COLUMNA_JORNADA] if not(SIN_COLUMNA_JORNADA) else calcularJornada(row[COLUMNA_HORA_INI]),\n",
    "        hora_ini = row[COLUMNA_HORA_INI],\n",
    "        hora_fin = row[COLUMNA_HORA_FIN],\n",
    "        link = row[COLUMNA_LINK],\n",
    "        usuario = row[COLUMNA_CODIGO],\n",
    "        password = row[COLUMNA_CEDULA]\n",
    "    ))\n",
    "    costoTotal += calcularCostoAprox(len(msg))\n",
    "    \n",
    "    serie.append(msg)\n",
    "    output.append([\n",
    "        int(row['TELEFONO']),\n",
    "        msg\n",
    "    ])\n",
    "datos['MENSAJE'] = pd.Series(serie)\n",
    "print ('Costo aproximado de envío masivo:', costoTotal * 1.1)"
   ]
  },
  {
   "cell_type": "code",
   "execution_count": 6,
   "id": "c20e1206",
   "metadata": {},
   "outputs": [
    {
     "name": "stdout",
     "output_type": "stream",
     "text": [
      "MISION TIC PRUEBA DE CARACTERIZACION. Apreciado(a) tripulante STEVEN con codigo 2220001, recibe un cordial saludo de parte de la Universidad Industrial de Santander quien te acompanara en la formacion de MISION TIC 2022. Para nosotros es muy importante conocerte y para ello hemos creado una prueba de caracterizacion que nos permitira identificar tus conocimientos previos en programacion e ingles y brindarte una mejor experiencia en los ciclos de formacion. Cabe resaltar que esta prueba no descalifica ni incide en la calificacion del proceso formativo, por lo tanto te invitamos a que la desarrolles de manera individual y totalmente a conciencia. Para ingresar a la prueba ingresa al enlace: https://lms.uis.edu.co/mintic2022/course/view.php?id=46 la cual debera presentar el dia viernes, 25 de marzo de 2022 en la jornada NOCHE entre las 6 P.M. y 10 P.M. Las credenciales de ingreso -> Usuario 2220001 Contrasena 1013605766. Es importante que te presentes puntualmente en la fecha y hora programada y accedas con las credenciales proporcionadas anteriormente.\n"
     ]
    }
   ],
   "source": [
    "print(datos['MENSAJE'][0])"
   ]
  },
  {
   "cell_type": "code",
   "execution_count": 7,
   "id": "bcaefe8b",
   "metadata": {},
   "outputs": [],
   "source": [
    "pd.DataFrame(output).to_excel('./OUTPUT/MENSAJES/FORMATO_SMS.xlsx', index = False, header = False)\n",
    "datos.to_excel('./OUTPUT/MENSAJES/CONSOLIDADO_SMS.xlsx', index = False)"
   ]
  }
 ],
 "metadata": {
  "kernelspec": {
   "display_name": "Python 3 (ipykernel)",
   "language": "python",
   "name": "python3"
  },
  "language_info": {
   "codemirror_mode": {
    "name": "ipython",
    "version": 3
   },
   "file_extension": ".py",
   "mimetype": "text/x-python",
   "name": "python",
   "nbconvert_exporter": "python",
   "pygments_lexer": "ipython3",
   "version": "3.9.7"
  }
 },
 "nbformat": 4,
 "nbformat_minor": 5
}
