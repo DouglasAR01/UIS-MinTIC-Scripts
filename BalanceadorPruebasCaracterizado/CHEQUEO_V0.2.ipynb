{
 "cells": [
  {
   "cell_type": "code",
   "execution_count": 1,
   "id": "5d4c9438",
   "metadata": {},
   "outputs": [],
   "source": [
    "import pandas as pd"
   ]
  },
  {
   "cell_type": "code",
   "execution_count": 2,
   "id": "1b9968d0",
   "metadata": {},
   "outputs": [],
   "source": [
    "# VARIABLES: A es consolidado, B el reporte del sistema.\n",
    "COLUMNA_CODIGO_A = 'CÓDIGO'\n",
    "COLUMNA_CODIGO_B = 'ESTUDIANTE'\n",
    "COLUMNA_CURSO_A = 'CURSO'\n",
    "COLUMNA_CURSO_B = 'GRUPO'"
   ]
  },
  {
   "cell_type": "code",
   "execution_count": 3,
   "id": "f09a764c",
   "metadata": {},
   "outputs": [],
   "source": [
    "datosA = pd.read_excel('./INPUT/CHEQUEO/CONSOLIDADO.xlsx', engine = 'openpyxl')\n",
    "datosB = pd.read_csv('./INPUT/CHEQUEO/SISTEMA.csv', sep=';', encoding='latin-1')"
   ]
  },
  {
   "cell_type": "code",
   "execution_count": 4,
   "id": "7b8a0bbd",
   "metadata": {},
   "outputs": [],
   "source": [
    "# ESTUDIANTES QUE QUEDARON EN OTRO GRUPO POR ERROR HUMANO O POR BALANCEO TARDÍO\n",
    "datosDiferentes = []\n",
    "contador = {}\n",
    "for index, row in datosB.iterrows():\n",
    "    cod = row[COLUMNA_CODIGO_B]\n",
    "    curso = row[COLUMNA_CURSO_B]\n",
    "    cursoA = datosA[datosA[COLUMNA_CODIGO_A] == cod].iloc[0][COLUMNA_CURSO_A]\n",
    "    if curso in contador:\n",
    "        contador[curso] += 1\n",
    "    else:\n",
    "        contador[curso] = 1\n",
    "    if curso != cursoA:\n",
    "        datosDiferentes.append([\n",
    "            row[COLUMNA_CODIGO_B],\n",
    "            cursoA,\n",
    "            row[COLUMNA_CURSO_B]\n",
    "        ])"
   ]
  },
  {
   "cell_type": "code",
   "execution_count": 5,
   "id": "37c9604d",
   "metadata": {},
   "outputs": [],
   "source": [
    "# ESTUDIANTES QUE QUEDARON FALTANDO POR MATRICULAR EN EL SISTEMA\n",
    "for index, row in datosA.iterrows():\n",
    "    cod = row[COLUMNA_CODIGO_A]\n",
    "    codB = datosB[datosB[COLUMNA_CODIGO_B] == cod]\n",
    "    if len(codB)< 1:\n",
    "        print (row)\n",
    "        continue"
   ]
  },
  {
   "cell_type": "code",
   "execution_count": 7,
   "id": "007ea547",
   "metadata": {},
   "outputs": [
    {
     "data": {
      "text/plain": [
       "4448"
      ]
     },
     "execution_count": 7,
     "metadata": {},
     "output_type": "execute_result"
    }
   ],
   "source": [
    "len(datosB)"
   ]
  },
  {
   "cell_type": "code",
   "execution_count": 12,
   "id": "e44cb413",
   "metadata": {},
   "outputs": [
    {
     "name": "stdout",
     "output_type": "stream",
     "text": [
      "CA1 484\n",
      "CA2 490\n",
      "CA3 509\n",
      "CA4 485\n",
      "CA5 490\n",
      "CA6 509\n",
      "CA7 484\n",
      "CA8 489\n",
      "CA9 508\n",
      "4448\n"
     ]
    }
   ],
   "source": [
    "suma = 0\n",
    "for i in range (1,10):\n",
    "    llave = 'CA' + str(i)\n",
    "    print (llave, contador[llave])\n",
    "    suma += contador[llave]\n",
    "print (suma)"
   ]
  }
 ],
 "metadata": {
  "kernelspec": {
   "display_name": "Python 3 (ipykernel)",
   "language": "python",
   "name": "python3"
  },
  "language_info": {
   "codemirror_mode": {
    "name": "ipython",
    "version": 3
   },
   "file_extension": ".py",
   "mimetype": "text/x-python",
   "name": "python",
   "nbconvert_exporter": "python",
   "pygments_lexer": "ipython3",
   "version": "3.9.7"
  }
 },
 "nbformat": 4,
 "nbformat_minor": 5
}
