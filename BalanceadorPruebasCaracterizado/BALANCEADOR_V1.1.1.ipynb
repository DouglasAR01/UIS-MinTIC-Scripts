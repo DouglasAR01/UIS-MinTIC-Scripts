{
 "cells": [
  {
   "cell_type": "code",
   "execution_count": 1,
   "id": "bd4ad788",
   "metadata": {},
   "outputs": [],
   "source": [
    "import pandas as pd\n",
    "import glob"
   ]
  },
  {
   "cell_type": "markdown",
   "id": "6f0f1c11",
   "metadata": {},
   "source": [
    "# CONFIGURACIÓN DE COMPORTAMIENTO"
   ]
  },
  {
   "cell_type": "code",
   "execution_count": 2,
   "id": "4cb818d5",
   "metadata": {},
   "outputs": [],
   "source": [
    "# VARIABLES\n",
    "LIMITE_ESTUDIANTES_CURSO = 550\n",
    "JORNADAS = [\"MAÑANA\", \"TARDE\", \"NOCHE\"]\n",
    "# COLUMNAS IMPORTANTES\n",
    "COLUMNA_JORNADAS = \"Seleccione por lo menos dos (2) jornadas en las que tiene disponibilidad de tiempo para presentar la prueba de caracterización o clasificación.\"\n",
    "COLUMNA_DOCUMENTO = \"Número de Documento\"\n",
    "COLUMNA_NOMBRE = \"Nombres\"\n",
    "COLUMNA_APELLIDO = \"Apellidos\"\n",
    "COLUMNA_TELEFONO = \"Teléfono Celular que usa\"\n",
    "COLUMNA_EMAIL = \"Correo electrónico personal que usa\"\n",
    "COLUMNA_CODIGO = \"Codigo\""
   ]
  },
  {
   "cell_type": "code",
   "execution_count": 3,
   "id": "b2eca98c",
   "metadata": {},
   "outputs": [],
   "source": [
    "# FUNCIONES\n",
    "def inicializarCursos(nombre):\n",
    "    return {\n",
    "        \"NOMBRE_CURSO\": nombre,\n",
    "        \"CANTIDAD_ACTUAL\": 0,\n",
    "        \"DATOS\": []\n",
    "    }\n",
    "\n",
    "def inicializarGrupos(grupos, jornadas):\n",
    "    cont = 1\n",
    "    for jornada in jornadas:\n",
    "        for i in range(cont, 10, 3):\n",
    "            nombre = \"CA\" + str(i)\n",
    "            if jornada in grupos:\n",
    "                grupos[jornada]['CURSOS'].append(inicializarCursos(nombre))\n",
    "            else:\n",
    "                grupos[jornada] = {\n",
    "                    'CURSOS': [inicializarCursos(nombre)],\n",
    "                    'COSTO': 0\n",
    "                }\n",
    "        cont +=1\n",
    "\n",
    "def menorCostoCurso(grupos, jornada):\n",
    "    min_cost = LIMITE_ESTUDIANTES_CURSO*2\n",
    "    nom_curso = \"\"\n",
    "    index = -1\n",
    "    i = 0\n",
    "    for curso in grupos[jornada]['CURSOS']:\n",
    "        cantidad = curso['CANTIDAD_ACTUAL']\n",
    "        if  cantidad < min_cost and cantidad < LIMITE_ESTUDIANTES_CURSO:\n",
    "            min_cost = cantidad\n",
    "            nom_curso = curso['NOMBRE_CURSO']\n",
    "            index = i\n",
    "        i += 1\n",
    "    if min_cost > LIMITE_ESTUDIANTES_CURSO:\n",
    "        raise Exception(\"Curso por encima del límite\")\n",
    "    return index, nom_curso\n",
    "\n",
    "def tokenizar(string):\n",
    "    rta = []\n",
    "    # 0 => Mañana\n",
    "    # 1 => Tarde\n",
    "    # 2 => Noche\n",
    "    jornadas = string.split(\";\")\n",
    "    for jornada in jornadas:\n",
    "        if (jornada == \"Jornada de la mañana\"):\n",
    "            rta.append(\"MAÑANA\")\n",
    "        elif (jornada == \"Jornada de la tarde\"):\n",
    "            rta.append(\"TARDE\")\n",
    "        elif (jornada == \"Jornada de la noche\"):\n",
    "            rta.append(\"NOCHE\")\n",
    "    return rta"
   ]
  },
  {
   "cell_type": "markdown",
   "id": "a00ee94a",
   "metadata": {},
   "source": [
    "# EJECUCIÓN"
   ]
  },
  {
   "cell_type": "code",
   "execution_count": 4,
   "id": "74327774",
   "metadata": {},
   "outputs": [],
   "source": [
    "archivos = glob.glob('./INPUT/BALANCE/*.xlsx')\n",
    "dfs = []\n",
    "for archivo in archivos:\n",
    "    dfs.append(pd.read_excel(archivo, engine = 'openpyxl'))\n",
    "datos = pd.concat(dfs, ignore_index = True)\n",
    "#duplicatos = pd.concat(g for _, g in datos.groupby(COLUMNA_DOCUMENTO) if len(g) > 1)"
   ]
  },
  {
   "cell_type": "code",
   "execution_count": 5,
   "id": "bf6f6fd3",
   "metadata": {},
   "outputs": [],
   "source": [
    "GRUPOS = {}\n",
    "inicializarGrupos(GRUPOS, JORNADAS)\n",
    "for index, row in datos.iterrows():\n",
    "    jornadas = tokenizar(row[COLUMNA_JORNADAS])    \n",
    "    min_costo = float(\"inf\")\n",
    "    nom_jornada = \"\"\n",
    "    # Busca el día con menor costo\n",
    "    for jornada in jornadas:\n",
    "        if GRUPOS[jornada]['COSTO'] < min_costo:\n",
    "            min_costo = GRUPOS[jornada]['COSTO']\n",
    "            nom_jornada = jornada\n",
    "    # Aumenta el costo\n",
    "    icurso, curso = menorCostoCurso(GRUPOS, nom_jornada)\n",
    "    GRUPOS[nom_jornada]['COSTO'] += 1\n",
    "    GRUPOS[nom_jornada]['CURSOS'][icurso]['CANTIDAD_ACTUAL'] += 1\n",
    "    GRUPOS[nom_jornada]['CURSOS'][icurso]['DATOS'].append([\n",
    "        row[COLUMNA_CODIGO],\n",
    "        row[COLUMNA_DOCUMENTO],\n",
    "        row[COLUMNA_NOMBRE].upper(),\n",
    "        row[COLUMNA_APELLIDO].upper(),\n",
    "        row[COLUMNA_TELEFONO],\n",
    "        row[COLUMNA_EMAIL],\n",
    "        nom_jornada,\n",
    "        curso\n",
    "    ])"
   ]
  },
  {
   "cell_type": "markdown",
   "id": "40aedbc9",
   "metadata": {},
   "source": [
    "# RESULTADOS"
   ]
  },
  {
   "cell_type": "code",
   "execution_count": 6,
   "id": "4d5b9441",
   "metadata": {},
   "outputs": [],
   "source": [
    "# Creación de los DataFrames\n",
    "dtfms = []\n",
    "for jornada in GRUPOS:\n",
    "    for cursos in GRUPOS[jornada]['CURSOS']:\n",
    "        df = pd.DataFrame(cursos['DATOS'], columns = [\n",
    "            \"CÓDIGO\",\n",
    "            \"DOCUMENTO\",\n",
    "            \"NOMBRES\",\n",
    "            \"APELLIDOS\",\n",
    "            \"TELEFONO\",\n",
    "            \"EMAIL\",\n",
    "            \"JORNADA\",\n",
    "            \"CURSO\"\n",
    "        ])\n",
    "        dtfms.append(df)\n",
    "        df.to_excel(\"./OUTPUT/BALANCE/JORNADA_\" + jornada + \"_CURSO_\" + cursos['NOMBRE_CURSO'] + \".xlsx\", index = False)"
   ]
  },
  {
   "cell_type": "code",
   "execution_count": 7,
   "id": "a8020f3c",
   "metadata": {},
   "outputs": [],
   "source": [
    "pd.concat(dtfms, ignore_index = True).to_excel(\"./OUTPUT/BALANCE/CONSOLIDADO.xlsx\", index = False)"
   ]
  },
  {
   "cell_type": "code",
   "execution_count": null,
   "id": "a4ee72d7",
   "metadata": {},
   "outputs": [],
   "source": []
  }
 ],
 "metadata": {
  "kernelspec": {
   "display_name": "Python 3 (ipykernel)",
   "language": "python",
   "name": "python3"
  },
  "language_info": {
   "codemirror_mode": {
    "name": "ipython",
    "version": 3
   },
   "file_extension": ".py",
   "mimetype": "text/x-python",
   "name": "python",
   "nbconvert_exporter": "python",
   "pygments_lexer": "ipython3",
   "version": "3.9.7"
  }
 },
 "nbformat": 4,
 "nbformat_minor": 5
}
