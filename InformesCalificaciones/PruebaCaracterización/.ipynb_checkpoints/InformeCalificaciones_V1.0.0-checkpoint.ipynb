{
 "cells": [
  {
   "cell_type": "code",
   "execution_count": 1,
   "id": "fb943dbd",
   "metadata": {},
   "outputs": [],
   "source": [
    "import pandas as pd\n",
    "import glob\n",
    "import os\n",
    "import numpy as np"
   ]
  },
  {
   "cell_type": "code",
   "execution_count": 2,
   "id": "2f6faa9d",
   "metadata": {},
   "outputs": [],
   "source": [
    "# VARIABLES DE ENTORNO\n",
    "# ADVERTENCIA: La calificación de corte con la que están los archivos base es de 80. Por lo que si se modifica\n",
    "# quizá haya más personas en ciclos más avanzados, pero el promedio de notas para esos examenes seguirá igual\n",
    "# debido a que esas personas adicionales no presentaron dicha prueba.\n",
    "CALIFICACION_CORTE = 80\n",
    "KEY_DFS = 'datos'\n",
    "KEY_NOMBRE_CURSO = 'nombre curso'\n",
    "KEY_TOTAL_EST = 'total tripulantes'\n",
    "KEY_PROMEDIOS_CALIFICACIONES = 'promedios'\n",
    "KEY_ACOGIDA = 'acogida'\n",
    "# Es importante que las columnas de las calificaciones vayan en el orden ascendente lógico de la prueba.\n",
    "COLUMNAS_CALIFICACIONES = [\n",
    "    'Cuestionario:Examen Ciclo 1 (Real)',\n",
    "    'Cuestionario:Examen Ciclo 2 (Real)',\n",
    "    'Cuestionario:Examen Ciclo 3 (Real)'\n",
    "]\n",
    "COLUMNA_CICLO_INICIAL = 'Ciclo en que inicia'"
   ]
  },
  {
   "cell_type": "code",
   "execution_count": 3,
   "id": "166787b6",
   "metadata": {},
   "outputs": [],
   "source": [
    "# LECTURA DE DATOS\n",
    "archivos = glob.glob('./INPUT/*.xlsx')\n",
    "cursos = {}\n",
    "for archivo in archivos:\n",
    "    nombreArchivo = os.path.basename(archivo)\n",
    "    nombreCurso = nombreArchivo.split('-')[3]\n",
    "    cursos[nombreCurso] = {KEY_DFS: pd.read_excel(archivo, engine = 'openpyxl')}\n",
    "    for columna in COLUMNAS_CALIFICACIONES:\n",
    "        cursos[nombreCurso][KEY_DFS][columna] = pd.to_numeric(cursos[nombreCurso][KEY_DFS][columna], errors='coerce')"
   ]
  },
  {
   "cell_type": "code",
   "execution_count": 4,
   "id": "4efe0578",
   "metadata": {},
   "outputs": [],
   "source": [
    "# PROCESADO DE DATOS\n",
    "for curso in cursos:\n",
    "    # Total estudiantes\n",
    "    # Total acogida (estudiantes que sí presentaron)\n",
    "    # Promedio ciclos\n",
    "    # Ciclo en el que queda cada estudiante\n",
    "    cursos[curso][KEY_NOMBRE_CURSO] = curso\n",
    "    cursos[curso][KEY_TOTAL_EST] = len(cursos[curso][KEY_DFS])\n",
    "    cursos[curso][KEY_ACOGIDA] = len(cursos[curso][KEY_DFS][cursos[curso][KEY_DFS][COLUMNAS_CALIFICACIONES[0]].isnull() == True])\n",
    "    cursos[curso][KEY_PROMEDIOS_CALIFICACIONES] = []\n",
    "    for columna in COLUMNAS_CALIFICACIONES:\n",
    "        cursos[curso][KEY_PROMEDIOS_CALIFICACIONES].append(cursos[curso][KEY_DFS][columna].mean())\n",
    "    mayorCiclo = []\n",
    "    for index, row in cursos[curso][KEY_DFS].iterrows():\n",
    "        ciclo = 1\n",
    "        for columna in COLUMNAS_CALIFICACIONES:\n",
    "            if row[columna] >= CALIFICACION_CORTE:\n",
    "                ciclo += 1\n",
    "            else:\n",
    "                break\n",
    "        mayorCiclo.append('C' + str(ciclo))\n",
    "    cursos[curso][KEY_DFS][COLUMNA_CICLO_INICIAL] = pd.Series(mayorCiclo)"
   ]
  },
  {
   "cell_type": "code",
   "execution_count": null,
   "id": "124c8051",
   "metadata": {},
   "outputs": [],
   "source": [
    "# RESULTADOS POR CURSO\n",
    "dfs = []\n",
    "totalCiclos = {}\n",
    "for curso in cursos:\n",
    "    print ('================================')\n",
    "    print ('Curso:', cursos[curso][KEY_NOMBRE_CURSO])\n",
    "    print ('Total de tripulantes que NO presentaron la prueba:', cursos[curso][KEY_ACOGIDA])\n",
    "    print ('Total de tripulantes que presentaron la prueba:', cursos[curso][KEY_TOTAL_EST] - cursos[curso][KEY_ACOGIDA])\n",
    "    print ('Total de tripulantes:', cursos[curso][KEY_TOTAL_EST])\n",
    "    print ('\\n')\n",
    "    for i in range(1,4):\n",
    "        ciclo = 'C' + str(i)\n",
    "        print ('Promedio de calificaciones en', ciclo, ':', cursos[curso][KEY_PROMEDIOS_CALIFICACIONES][i-1])\n",
    "        num = len(cursos[curso][KEY_DFS][cursos[curso][KEY_DFS][COLUMNA_CICLO_INICIAL] == ciclo])\n",
    "        if ciclo in totalCiclos:\n",
    "            totalCiclos[ciclo] += num\n",
    "        else:            \n",
    "            totalCiclos[ciclo] = num\n",
    "        print ('Estudiantes que quedaron en', ciclo, ':', num)\n",
    "        print ('------')\n",
    "    cursos[curso][KEY_DFS].to_excel('./OUTPUT/resultados_' + curso + '_corte_'+ str(CALIFICACION_CORTE) +'.xlsx', index = False)\n",
    "    dfs.append(cursos[curso][KEY_DFS])\n",
    "pd.concat(dfs, ignore_index = True).to_excel(\"./OUTPUT/CONSOLIDADO.xlsx\", index = False)\n",
    "for ciclo in totalCiclos:\n",
    "    print ('Estudiantes que quedaron en el ciclo',ciclo, ':', totalCiclos[ciclo])"
   ]
  }
 ],
 "metadata": {
  "kernelspec": {
   "display_name": "Python 3 (ipykernel)",
   "language": "python",
   "name": "python3"
  },
  "language_info": {
   "codemirror_mode": {
    "name": "ipython",
    "version": 3
   },
   "file_extension": ".py",
   "mimetype": "text/x-python",
   "name": "python",
   "nbconvert_exporter": "python",
   "pygments_lexer": "ipython3",
   "version": "3.9.7"
  }
 },
 "nbformat": 4,
 "nbformat_minor": 5
}
